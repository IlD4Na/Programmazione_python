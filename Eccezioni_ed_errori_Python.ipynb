{
  "nbformat": 4,
  "nbformat_minor": 0,
  "metadata": {
    "colab": {
      "provenance": []
    },
    "kernelspec": {
      "name": "python3",
      "display_name": "Python 3"
    },
    "language_info": {
      "name": "python"
    }
  },
  "cells": [
    {
      "cell_type": "markdown",
      "source": [
        "# <mark> Eccezioni con Python\n",
        "\n",
        "\n",
        "Le eccezioni sono eventi che Python scatena se si verificano degli errori nel codice che causano l'interruzione del programma.\n",
        "\n",
        "Questi errori vengono chiamati <mark> BUG\n",
        "\n",
        "Invece le interruzioni improvvise vengono chiamate <mark> CRASH\n",
        "\n",
        "\n",
        "Se proviamo a dividere un numero per zero Python scatenerà un'eccezione di tipo ZeroDivisionError\n",
        "\n",
        "\n",
        "\n",
        "```\n",
        "a = 10\n",
        "b = 0\n",
        "\n",
        "c = a/b #questa è l'eccezione\n",
        "\n",
        "#python ci ritornerà questo\n",
        "\n",
        "Traceback (most recent call last):\n",
        " File \"script.py\", line 3, in <module>\n",
        "   c = a/b\n",
        "ZeroDivisionError: division by zero\n",
        "```\n",
        "\n",
        "Abbiamo il nome del file in cui è avvenuta l'eccezione la riga di codice, l'istruzione poi il tipo di eccezione in questo caso \"ZeroDivisionError\" e poi la descrizione \"division by zero\".\n",
        "\n",
        "Se invece l'eccezione avvenisse all'interno di una funzione ?\n",
        "\n",
        "\n",
        "\n",
        "```\n",
        "def division(a,b):\n",
        "   return a/b\n",
        "\n",
        "division(10,0)\n",
        "\n",
        "Traceback (most recent call last):\n",
        " File \"script.py\", line 4, in <module>\n",
        "   division(10,0)\n",
        " File \"script.py\", line 2, in division\n",
        "   return a/b\n",
        "ZeroDivisionError: division by zero\n",
        "```\n",
        "\n",
        "In questo caso ci viene indicata all'interno di della funzione dove c'è l'errore.\n",
        "\n",
        "Ci sono inoltre Bug ancora più annidati.\n"
      ],
      "metadata": {
        "id": "UZMGc4ZORz8T"
      }
    },
    {
      "cell_type": "markdown",
      "source": [
        "# <mark> lista di eccezioni più usuali\n",
        "\n",
        "\n",
        "<mark>-Errore di sintassi:\n",
        "\n",
        "Si verifica quando c'è un errore nella sintassi del nostro codice, Python ci mostra anche qual'è esattamente l'errore.\n",
        "\n",
        "<mark>-Errore nei nomi\n",
        "\n",
        "Si verifica quando proviamo ad utilizzare nomi di variabili, funzioni o classi che non sono state definite nel codice.\n",
        "\n",
        "`\"name 'years' is not defined\"`\n",
        "\n",
        "<mark>-Errore nelle operazioni\n",
        "\n",
        "Si verifica quando proviamo ad eseguire operazioni tra tipi di variabili non compatibili.\n",
        "\n",
        "Tipo per l'unione di una variabile di tipo stringa insieme ad un integer.\n",
        "\n",
        "<mark> Errore di conversione\n",
        "\n",
        "Si verifica quando proviamo a convertire da un tipo ad un altro tipo in maniera errata\n",
        "\n",
        "<mark> Indice al di fuori del range\n",
        "\n",
        "Si verifica quando utilizziamo un indice che eccede il numero di elementi nella collezione\n",
        "\n",
        "<mark> Chiave mancante\n",
        "\n",
        "Si verifica quando utilizziamo una chiave che non esiste in un dizionario\n",
        "\n",
        "<mark> Parametri mancanti\n",
        "\n",
        "Si verifica quando invochiamo una funzione dimenticando dei parametri\n",
        "\n",
        "<mark> MemoryError\n",
        "\n",
        "Si verifica quando non abbiamo memoria sufficiente per l'allocazione\n",
        "\n",
        "Quando incontriamo queste Eccezioni come le possiamo gestire? Possiamo utilizzare il costrutto:\n",
        "\n",
        "<mark> Try/Except che vedremo nella parte di pratica.\n"
      ],
      "metadata": {
        "id": "h4SWhv4AYkQ6"
      }
    },
    {
      "cell_type": "code",
      "execution_count": null,
      "metadata": {
        "colab": {
          "base_uri": "https://localhost:8080/"
        },
        "id": "TGwVT6FVP0Pv",
        "outputId": "4f884e00-fd87-4d93-d54b-454130a85615"
      },
      "outputs": [
        {
          "output_type": "stream",
          "name": "stdout",
          "text": [
            "1 0\n",
            "Divisione per zero\n"
          ]
        }
      ],
      "source": [
        "try:\n",
        "  numbers = list(map(int, input().split()))\n",
        "  a, b = numbers\n",
        "\n",
        "\n",
        "\n",
        "\n",
        "  c = a/b\n",
        "  print(c)\n",
        "except ZeroDivisionError:\n",
        "  print(\"Divisione per zero\")\n",
        "\n",
        "  c= None\n",
        "\n",
        "except ValueError:\n",
        "  print(\"Valore non valido\")\n",
        "  c = None\n"
      ]
    },
    {
      "cell_type": "markdown",
      "source": [
        "In questa maniera non stamperemo su schermo direttamente l'eccezione ma l'except intercetterà l'eccezione e andremo ad eseguire il codice sotto Except.\n",
        "\n",
        "Errori li possiamo avere anche al inserimento degli input. Quindi tutto ciò coprirà integralmente tutto il nostro codice, inoltre possiamo anche decidere cosa far stampare in base ai diversi errori.\n",
        "\n",
        "Possiamo creare anche degli alias con la keyword \"as\""
      ],
      "metadata": {
        "id": "02PmDiF2f-mK"
      }
    },
    {
      "cell_type": "code",
      "source": [
        "try:\n",
        "  numbers = list(map(int, input().split()))\n",
        "  a, b = numbers\n",
        "\n",
        "\n",
        "\n",
        "\n",
        "  c = a/b\n",
        "  print(c)\n",
        "except ZeroDivisionError as e:\n",
        "  print(e)\n",
        "\n",
        "  c= None\n",
        "\n",
        "except ValueError as e:\n",
        "  print(e)\n",
        "  c = None\n",
        "\n",
        "finally:\n",
        "  del a, b\n",
        "\n"
      ],
      "metadata": {
        "colab": {
          "base_uri": "https://localhost:8080/"
        },
        "id": "Bf1eAYgajCJM",
        "outputId": "99370bd5-101d-4cb6-f9ec-bfaadd30760f"
      },
      "execution_count": null,
      "outputs": [
        {
          "output_type": "stream",
          "name": "stdout",
          "text": [
            "1 7\n",
            "0.14285714285714285\n"
          ]
        }
      ]
    },
    {
      "cell_type": "markdown",
      "source": [
        "Se non sappiamo il tipo di errore che ci possiamo aspettare possiamo usare \"Exception\" che sarebbe la classe padre delle varie tipologie di eccezioni.\n",
        "\n",
        "Possiamo poi usare la Keyword \"Finally\" + la keyword del per cancellare le variabili."
      ],
      "metadata": {
        "id": "jLLNEm6hjfu5"
      }
    },
    {
      "cell_type": "code",
      "source": [
        "try:\n",
        "  f = open(\"file.txt\", \"w\")\n",
        "  f.write(12345)\n",
        "  print(\"chiudiamo il file\")\n",
        "  f.close()\n",
        "except Exception as e:\n",
        "  print(e)"
      ],
      "metadata": {
        "colab": {
          "base_uri": "https://localhost:8080/"
        },
        "id": "HCgGrHGYjpcQ",
        "outputId": "fef0a702-cf31-496e-e94c-a26b6b148bf0"
      },
      "execution_count": null,
      "outputs": [
        {
          "output_type": "stream",
          "name": "stdout",
          "text": [
            "write() argument must be str, not int\n"
          ]
        }
      ]
    },
    {
      "cell_type": "markdown",
      "source": [
        "# <mark> Raise e Assert\n",
        "\n",
        "In certi casi potrebbe essere utile forzare un'eccezione, nel prossimo caso abbiamo bisogno di due numeri in input, noi possiamo andare a indurre un'eccezione nel caso l'utente inserisca meno o più di due numeri."
      ],
      "metadata": {
        "id": "WRcVkbNkRz62"
      }
    },
    {
      "cell_type": "code",
      "source": [
        "try:\n",
        "  numbers = list(map(int, input().split()))\n",
        "\n",
        "  if len(numbers)!=2:\n",
        "    raise ValueError\n",
        "\n",
        "\n",
        "  a, b = numbers\n",
        "  c = a/b\n",
        "  print(c)\n",
        "\n",
        "except ZeroDivisionError as e:\n",
        "  print(e)\n",
        "  c = None\n",
        "\n",
        "except ValueError as e:\n",
        "  print(e)\n",
        "  c = None"
      ],
      "metadata": {
        "colab": {
          "base_uri": "https://localhost:8080/"
        },
        "id": "sqnw8hhVmcxs",
        "outputId": "9c09fe2f-129c-47a5-98db-2b6f5cd6d772"
      },
      "execution_count": null,
      "outputs": [
        {
          "output_type": "stream",
          "name": "stdout",
          "text": [
            "1 3 4\n",
            "\n"
          ]
        }
      ]
    },
    {
      "cell_type": "code",
      "source": [
        "numbers = list(map(int, input().split()))\n",
        "\n",
        "if len(numbers)!=2:\n",
        "    raise ValueError(\"I numeri inseriti non sono 2\")\n",
        "\n",
        "\n",
        "# In questa maniera i numeri possiamo indurre un'eccezione con anche un testo scritto da noi\n"
      ],
      "metadata": {
        "colab": {
          "base_uri": "https://localhost:8080/",
          "height": 216
        },
        "id": "KaA3vBr2n927",
        "outputId": "03765be4-59a5-4e25-a478-4508cb849099"
      },
      "execution_count": null,
      "outputs": [
        {
          "name": "stdout",
          "output_type": "stream",
          "text": [
            "1\n"
          ]
        },
        {
          "output_type": "error",
          "ename": "ValueError",
          "evalue": "I numeri inseriti non sono 2",
          "traceback": [
            "\u001b[0;31m---------------------------------------------------------------------------\u001b[0m",
            "\u001b[0;31mValueError\u001b[0m                                Traceback (most recent call last)",
            "\u001b[0;32m<ipython-input-5-ab6bb1acf248>\u001b[0m in \u001b[0;36m<cell line: 3>\u001b[0;34m()\u001b[0m\n\u001b[1;32m      2\u001b[0m \u001b[0;34m\u001b[0m\u001b[0m\n\u001b[1;32m      3\u001b[0m \u001b[0;32mif\u001b[0m \u001b[0mlen\u001b[0m\u001b[0;34m(\u001b[0m\u001b[0mnumbers\u001b[0m\u001b[0;34m)\u001b[0m\u001b[0;34m!=\u001b[0m\u001b[0;36m2\u001b[0m\u001b[0;34m:\u001b[0m\u001b[0;34m\u001b[0m\u001b[0;34m\u001b[0m\u001b[0m\n\u001b[0;32m----> 4\u001b[0;31m     \u001b[0;32mraise\u001b[0m \u001b[0mValueError\u001b[0m\u001b[0;34m(\u001b[0m\u001b[0;34m\"I numeri inseriti non sono 2\"\u001b[0m\u001b[0;34m)\u001b[0m\u001b[0;34m\u001b[0m\u001b[0;34m\u001b[0m\u001b[0m\n\u001b[0m\u001b[1;32m      5\u001b[0m \u001b[0;34m\u001b[0m\u001b[0m\n",
            "\u001b[0;31mValueError\u001b[0m: I numeri inseriti non sono 2"
          ]
        }
      ]
    },
    {
      "cell_type": "markdown",
      "source": [
        "In questi casi in cui vogliamo ritornare un'eccezione in base ad una condizione esiste un altro modo <mark> Assert"
      ],
      "metadata": {
        "id": "MO6tE6d4odt1"
      }
    },
    {
      "cell_type": "code",
      "source": [
        "numbers = list(map(int, input().split()))\n",
        "\n",
        "assert(len(numbers)==2), \"i numeri inseriti non sono 2\"\n",
        "\n",
        "\n",
        "#Otteniamo in quesot modo un'eccezione di tipo \"AssertionError\""
      ],
      "metadata": {
        "colab": {
          "base_uri": "https://localhost:8080/",
          "height": 382
        },
        "id": "zEK-LA-Io1HG",
        "outputId": "3c5ddafe-4d67-4a3d-c346-89b9e80165b5"
      },
      "execution_count": null,
      "outputs": [
        {
          "output_type": "error",
          "ename": "KeyboardInterrupt",
          "evalue": "Interrupted by user",
          "traceback": [
            "\u001b[0;31m---------------------------------------------------------------------------\u001b[0m",
            "\u001b[0;31mKeyboardInterrupt\u001b[0m                         Traceback (most recent call last)",
            "\u001b[0;32m<ipython-input-8-8f1450e9077f>\u001b[0m in \u001b[0;36m<cell line: 1>\u001b[0;34m()\u001b[0m\n\u001b[0;32m----> 1\u001b[0;31m \u001b[0mnumbers\u001b[0m \u001b[0;34m=\u001b[0m \u001b[0mlist\u001b[0m\u001b[0;34m(\u001b[0m\u001b[0mmap\u001b[0m\u001b[0;34m(\u001b[0m\u001b[0mint\u001b[0m\u001b[0;34m,\u001b[0m \u001b[0minput\u001b[0m\u001b[0;34m(\u001b[0m\u001b[0;34m)\u001b[0m\u001b[0;34m.\u001b[0m\u001b[0msplit\u001b[0m\u001b[0;34m(\u001b[0m\u001b[0;34m)\u001b[0m\u001b[0;34m)\u001b[0m\u001b[0;34m)\u001b[0m\u001b[0;34m\u001b[0m\u001b[0;34m\u001b[0m\u001b[0m\n\u001b[0m\u001b[1;32m      2\u001b[0m \u001b[0;34m\u001b[0m\u001b[0m\n\u001b[1;32m      3\u001b[0m \u001b[0;32massert\u001b[0m\u001b[0;34m(\u001b[0m\u001b[0mlen\u001b[0m\u001b[0;34m(\u001b[0m\u001b[0mnumbers\u001b[0m\u001b[0;34m)\u001b[0m\u001b[0;34m==\u001b[0m\u001b[0;36m2\u001b[0m\u001b[0;34m)\u001b[0m\u001b[0;34m,\u001b[0m \u001b[0;34m\"i numeri inseriti non sono 2\"\u001b[0m\u001b[0;34m\u001b[0m\u001b[0;34m\u001b[0m\u001b[0m\n\u001b[1;32m      4\u001b[0m \u001b[0;34m\u001b[0m\u001b[0m\n\u001b[1;32m      5\u001b[0m \u001b[0;34m\u001b[0m\u001b[0m\n",
            "\u001b[0;32m/usr/local/lib/python3.10/dist-packages/ipykernel/kernelbase.py\u001b[0m in \u001b[0;36mraw_input\u001b[0;34m(self, prompt)\u001b[0m\n\u001b[1;32m    849\u001b[0m                 \u001b[0;34m\"raw_input was called, but this frontend does not support input requests.\"\u001b[0m\u001b[0;34m\u001b[0m\u001b[0;34m\u001b[0m\u001b[0m\n\u001b[1;32m    850\u001b[0m             )\n\u001b[0;32m--> 851\u001b[0;31m         return self._input_request(str(prompt),\n\u001b[0m\u001b[1;32m    852\u001b[0m             \u001b[0mself\u001b[0m\u001b[0;34m.\u001b[0m\u001b[0m_parent_ident\u001b[0m\u001b[0;34m,\u001b[0m\u001b[0;34m\u001b[0m\u001b[0;34m\u001b[0m\u001b[0m\n\u001b[1;32m    853\u001b[0m             \u001b[0mself\u001b[0m\u001b[0;34m.\u001b[0m\u001b[0m_parent_header\u001b[0m\u001b[0;34m,\u001b[0m\u001b[0;34m\u001b[0m\u001b[0;34m\u001b[0m\u001b[0m\n",
            "\u001b[0;32m/usr/local/lib/python3.10/dist-packages/ipykernel/kernelbase.py\u001b[0m in \u001b[0;36m_input_request\u001b[0;34m(self, prompt, ident, parent, password)\u001b[0m\n\u001b[1;32m    893\u001b[0m             \u001b[0;32mexcept\u001b[0m \u001b[0mKeyboardInterrupt\u001b[0m\u001b[0;34m:\u001b[0m\u001b[0;34m\u001b[0m\u001b[0;34m\u001b[0m\u001b[0m\n\u001b[1;32m    894\u001b[0m                 \u001b[0;31m# re-raise KeyboardInterrupt, to truncate traceback\u001b[0m\u001b[0;34m\u001b[0m\u001b[0;34m\u001b[0m\u001b[0m\n\u001b[0;32m--> 895\u001b[0;31m                 \u001b[0;32mraise\u001b[0m \u001b[0mKeyboardInterrupt\u001b[0m\u001b[0;34m(\u001b[0m\u001b[0;34m\"Interrupted by user\"\u001b[0m\u001b[0;34m)\u001b[0m \u001b[0;32mfrom\u001b[0m \u001b[0;32mNone\u001b[0m\u001b[0;34m\u001b[0m\u001b[0;34m\u001b[0m\u001b[0m\n\u001b[0m\u001b[1;32m    896\u001b[0m             \u001b[0;32mexcept\u001b[0m \u001b[0mException\u001b[0m \u001b[0;32mas\u001b[0m \u001b[0me\u001b[0m\u001b[0;34m:\u001b[0m\u001b[0;34m\u001b[0m\u001b[0;34m\u001b[0m\u001b[0m\n\u001b[1;32m    897\u001b[0m                 \u001b[0mself\u001b[0m\u001b[0;34m.\u001b[0m\u001b[0mlog\u001b[0m\u001b[0;34m.\u001b[0m\u001b[0mwarning\u001b[0m\u001b[0;34m(\u001b[0m\u001b[0;34m\"Invalid Message:\"\u001b[0m\u001b[0;34m,\u001b[0m \u001b[0mexc_info\u001b[0m\u001b[0;34m=\u001b[0m\u001b[0;32mTrue\u001b[0m\u001b[0;34m)\u001b[0m\u001b[0;34m\u001b[0m\u001b[0;34m\u001b[0m\u001b[0m\n",
            "\u001b[0;31mKeyboardInterrupt\u001b[0m: Interrupted by user"
          ]
        }
      ]
    },
    {
      "cell_type": "markdown",
      "source": [
        "Esercizio dei vettori dove dobbiamo rimpiazzare gli if con degli <mark>\"Assertion\""
      ],
      "metadata": {
        "id": "UiWQsPcnp20x"
      }
    },
    {
      "cell_type": "code",
      "source": [
        "class Vector():\n",
        "\n",
        "\n",
        "  def __init__(self, values):\n",
        "    self._values = values #attributo privato, inoltre sono più di un valore\n",
        "\n",
        "\n",
        "\n",
        "  def __getitem__(self,i):\n",
        "    return self._values[i]\n",
        "\n",
        "  def __add__(self, vector):\n",
        "\n",
        "    assert(len(self._values)==len(vector._values)), \"I vettori hanno dimensioni differenti\"\n",
        "\n",
        "\n",
        "\n",
        "\n",
        "    list_sum = []\n",
        "    for val1, val2 in zip(self._values, vector._values):\n",
        "      list_sum.append(val1 + val2)\n",
        "\n",
        "      return Vector(list_sum)\n",
        "\n",
        "  def __sub__(self, vector):\n",
        "\n",
        "\n",
        "    assert(len(self._values)==len(vector._values)), \"I vettori hanno dimensioni differenti\"\n",
        "\n",
        "\n",
        "    list_diff = []\n",
        "    for val1, val2 in zip(self._values, vector._values):\n",
        "      list_diff.append(val1 - val2)\n",
        "\n",
        "    return Vector(list_diff)\n",
        "\n",
        "  def __eq__(self, vector):\n",
        "\n",
        "\n",
        "    assert(len(self._values)==len(vector._values)), \"I vettori hanno dimensioni differenti\"\n",
        "\n",
        "\n",
        "    for val1, val2 in zip(self._values, vector._values):\n",
        "      assert(val1 == val2), \"I vettori sono differenti\"\n",
        "      return False\n",
        "\n",
        "    return True\n",
        "\n",
        "  def __mul__(self, vector):\n",
        "    return self.dot(vector)\n",
        "\n",
        "\n",
        "  def dot(self, vector):\n",
        "\n",
        "    assert(len(self._values)==len(vector._values)), \"I vettori hanno dimensioni differenti\"\n",
        "\n",
        "\n",
        "    prod = 0\n",
        "\n",
        "    for val1, val2 in zip(self._values, vector._values):\n",
        "\n",
        "      prod += val1*val2\n",
        "\n",
        "    return prod\n",
        "\n",
        "\n",
        "\n",
        "\n",
        "  def sum(self):\n",
        "    return sum(self._values)\n",
        "\n",
        "  def norm(self, precision=None):\n",
        "\n",
        "    val = self.dot(self)**(1/2)\n",
        "\n",
        "    if precision is None:\n",
        "      return self.dot(self)**(1/2)\n",
        "\n",
        "    return round(val, precision)\n",
        "\n",
        "  def __repr__(self):\n",
        "    return str(self._values)"
      ],
      "metadata": {
        "id": "PGy_eqNKp2Jk"
      },
      "execution_count": null,
      "outputs": []
    },
    {
      "cell_type": "code",
      "source": [
        "v1 = Vector([1,2,3])\n",
        "v2 = Vector([2,4,6])\n",
        "v3 = Vector([10,20])"
      ],
      "metadata": {
        "id": "o0Zu7LnLu7wQ"
      },
      "execution_count": null,
      "outputs": []
    },
    {
      "cell_type": "code",
      "source": [
        "v1+v3\n"
      ],
      "metadata": {
        "colab": {
          "base_uri": "https://localhost:8080/",
          "height": 269
        },
        "id": "-3dqlokFu_Or",
        "outputId": "427ad81d-024e-4e5f-8ace-f95959ec3410"
      },
      "execution_count": null,
      "outputs": [
        {
          "output_type": "error",
          "ename": "AssertionError",
          "evalue": "I vettori hanno dimensioni differenti",
          "traceback": [
            "\u001b[0;31m---------------------------------------------------------------------------\u001b[0m",
            "\u001b[0;31mAssertionError\u001b[0m                            Traceback (most recent call last)",
            "\u001b[0;32m<ipython-input-4-c56b99074e51>\u001b[0m in \u001b[0;36m<cell line: 1>\u001b[0;34m()\u001b[0m\n\u001b[0;32m----> 1\u001b[0;31m \u001b[0mv1\u001b[0m\u001b[0;34m+\u001b[0m\u001b[0mv3\u001b[0m\u001b[0;34m\u001b[0m\u001b[0;34m\u001b[0m\u001b[0m\n\u001b[0m",
            "\u001b[0;32m<ipython-input-1-53a69d6530be>\u001b[0m in \u001b[0;36m__add__\u001b[0;34m(self, vector)\u001b[0m\n\u001b[1;32m     12\u001b[0m   \u001b[0;32mdef\u001b[0m \u001b[0m__add__\u001b[0m\u001b[0;34m(\u001b[0m\u001b[0mself\u001b[0m\u001b[0;34m,\u001b[0m \u001b[0mvector\u001b[0m\u001b[0;34m)\u001b[0m\u001b[0;34m:\u001b[0m\u001b[0;34m\u001b[0m\u001b[0;34m\u001b[0m\u001b[0m\n\u001b[1;32m     13\u001b[0m \u001b[0;34m\u001b[0m\u001b[0m\n\u001b[0;32m---> 14\u001b[0;31m     \u001b[0;32massert\u001b[0m\u001b[0;34m(\u001b[0m\u001b[0mlen\u001b[0m\u001b[0;34m(\u001b[0m\u001b[0mself\u001b[0m\u001b[0;34m.\u001b[0m\u001b[0m_values\u001b[0m\u001b[0;34m)\u001b[0m\u001b[0;34m==\u001b[0m\u001b[0mlen\u001b[0m\u001b[0;34m(\u001b[0m\u001b[0mvector\u001b[0m\u001b[0;34m.\u001b[0m\u001b[0m_values\u001b[0m\u001b[0;34m)\u001b[0m\u001b[0;34m)\u001b[0m\u001b[0;34m,\u001b[0m \u001b[0;34m\"I vettori hanno dimensioni differenti\"\u001b[0m\u001b[0;34m\u001b[0m\u001b[0;34m\u001b[0m\u001b[0m\n\u001b[0m\u001b[1;32m     15\u001b[0m \u001b[0;34m\u001b[0m\u001b[0m\n\u001b[1;32m     16\u001b[0m \u001b[0;34m\u001b[0m\u001b[0m\n",
            "\u001b[0;31mAssertionError\u001b[0m: I vettori hanno dimensioni differenti"
          ]
        }
      ]
    },
    {
      "cell_type": "markdown",
      "source": [
        "Esercizio quello dei vettori ma togliendo il metodo che abbiamo creato per controllare la lunghezza dei due vettori e abbiamo inserito al posto di quel metodo un assert"
      ],
      "metadata": {
        "id": "-WRTKZiEchSI"
      }
    },
    {
      "cell_type": "markdown",
      "source": [
        "Definisci una funzione per eseguire dei semplici calcoli, la funzione prende in ingresso due valori numerici ed una stringa contenente un'operazione aritmetica (+,-,*,/) ed esegue tale operazione tra i due numeri. Acquisisci in input i parametri della funzione\n",
        "\n",
        "-utilizza il try/except per gestire l'eccezione che avviene nel caso in cui viene inserito un valore non numerico\n",
        "\n",
        "-utilizza l'assert per assicurarti che l'operatore aritmetico sia valido, cioè sia un carattere tra +,-,*,/\n",
        "\n",
        "-utilizza il try/except per gestire il caso di divisioni per 0, in tal caso stampa semplicemente un messaggio \"Non puoi dividere per 0\"\n",
        "\n",
        "Nel punto 1 il programma non deve interrompersi in caso di eccezione, ma deve continuare a chiedere valori fino a quando questi non saranno corretti."
      ],
      "metadata": {
        "id": "NwFf-Y-NctDf"
      }
    },
    {
      "cell_type": "code",
      "source": [
        "def calculator(a, b, op):\n",
        "\n",
        "  assert(op in [\"+\",\"-\",\"*\",\"/\"]), op +\" Non è l'operatore giusto\"\n",
        "\n",
        "  try:\n",
        "    (a == float or int) and (b == float or int)\n",
        "\n",
        "  except ValueError as e:\n",
        "    print(e)\n",
        "    while (a != float or int) and (b != float or int):\n",
        "      a = float(input(\"Inserisci nuovamente a: \"))\n",
        "      b = float(input(\"Inserisci nuovamente b: \"))\n",
        "\n",
        "  if op == \"+\":\n",
        "    print(a+b)\n",
        "  elif op == \"-\":\n",
        "    print(a-b)\n",
        "  elif op == \"*\":\n",
        "    print(a*b)\n",
        "  try:\n",
        "    if op == \"/\":\n",
        "      print(a/b)\n",
        "  except ZeroDivissionError as p:\n",
        "    print(p)\n",
        "\n"
      ],
      "metadata": {
        "id": "8b7wTy5Mda9S"
      },
      "execution_count": null,
      "outputs": []
    },
    {
      "cell_type": "code",
      "source": [
        "calculator(\"a\", \"b\", \"/\")"
      ],
      "metadata": {
        "colab": {
          "base_uri": "https://localhost:8080/",
          "height": 418
        },
        "id": "YurS0CkvgeLb",
        "outputId": "ff42b7b4-fe61-4331-da89-988c23e0f5e2"
      },
      "execution_count": null,
      "outputs": [
        {
          "output_type": "error",
          "ename": "NameError",
          "evalue": "name 'ZeroDivissionError' is not defined",
          "traceback": [
            "\u001b[0;31m---------------------------------------------------------------------------\u001b[0m",
            "\u001b[0;31mTypeError\u001b[0m                                 Traceback (most recent call last)",
            "\u001b[0;32m<ipython-input-21-bacd64fcfdc5>\u001b[0m in \u001b[0;36mcalculator\u001b[0;34m(a, b, op)\u001b[0m\n\u001b[1;32m     22\u001b[0m     \u001b[0;32mif\u001b[0m \u001b[0mop\u001b[0m \u001b[0;34m==\u001b[0m \u001b[0;34m\"/\"\u001b[0m\u001b[0;34m:\u001b[0m\u001b[0;34m\u001b[0m\u001b[0;34m\u001b[0m\u001b[0m\n\u001b[0;32m---> 23\u001b[0;31m       \u001b[0mprint\u001b[0m\u001b[0;34m(\u001b[0m\u001b[0ma\u001b[0m\u001b[0;34m/\u001b[0m\u001b[0mb\u001b[0m\u001b[0;34m)\u001b[0m\u001b[0;34m\u001b[0m\u001b[0;34m\u001b[0m\u001b[0m\n\u001b[0m\u001b[1;32m     24\u001b[0m   \u001b[0;32mexcept\u001b[0m \u001b[0mZeroDivissionError\u001b[0m \u001b[0;32mas\u001b[0m \u001b[0mp\u001b[0m\u001b[0;34m:\u001b[0m\u001b[0;34m\u001b[0m\u001b[0;34m\u001b[0m\u001b[0m\n",
            "\u001b[0;31mTypeError\u001b[0m: unsupported operand type(s) for /: 'str' and 'str'",
            "\nDuring handling of the above exception, another exception occurred:\n",
            "\u001b[0;31mNameError\u001b[0m                                 Traceback (most recent call last)",
            "\u001b[0;32m<ipython-input-26-4955f8c9c08a>\u001b[0m in \u001b[0;36m<cell line: 1>\u001b[0;34m()\u001b[0m\n\u001b[0;32m----> 1\u001b[0;31m \u001b[0mcalculator\u001b[0m\u001b[0;34m(\u001b[0m\u001b[0;34m\"a\"\u001b[0m\u001b[0;34m,\u001b[0m \u001b[0;34m\"b\"\u001b[0m\u001b[0;34m,\u001b[0m \u001b[0;34m\"/\"\u001b[0m\u001b[0;34m)\u001b[0m\u001b[0;34m\u001b[0m\u001b[0;34m\u001b[0m\u001b[0m\n\u001b[0m",
            "\u001b[0;32m<ipython-input-21-bacd64fcfdc5>\u001b[0m in \u001b[0;36mcalculator\u001b[0;34m(a, b, op)\u001b[0m\n\u001b[1;32m     22\u001b[0m     \u001b[0;32mif\u001b[0m \u001b[0mop\u001b[0m \u001b[0;34m==\u001b[0m \u001b[0;34m\"/\"\u001b[0m\u001b[0;34m:\u001b[0m\u001b[0;34m\u001b[0m\u001b[0;34m\u001b[0m\u001b[0m\n\u001b[1;32m     23\u001b[0m       \u001b[0mprint\u001b[0m\u001b[0;34m(\u001b[0m\u001b[0ma\u001b[0m\u001b[0;34m/\u001b[0m\u001b[0mb\u001b[0m\u001b[0;34m)\u001b[0m\u001b[0;34m\u001b[0m\u001b[0;34m\u001b[0m\u001b[0m\n\u001b[0;32m---> 24\u001b[0;31m   \u001b[0;32mexcept\u001b[0m \u001b[0mZeroDivissionError\u001b[0m \u001b[0;32mas\u001b[0m \u001b[0mp\u001b[0m\u001b[0;34m:\u001b[0m\u001b[0;34m\u001b[0m\u001b[0;34m\u001b[0m\u001b[0m\n\u001b[0m\u001b[1;32m     25\u001b[0m     \u001b[0mprint\u001b[0m\u001b[0;34m(\u001b[0m\u001b[0mp\u001b[0m\u001b[0;34m)\u001b[0m\u001b[0;34m\u001b[0m\u001b[0;34m\u001b[0m\u001b[0m\n\u001b[1;32m     26\u001b[0m \u001b[0;34m\u001b[0m\u001b[0m\n",
            "\u001b[0;31mNameError\u001b[0m: name 'ZeroDivissionError' is not defined"
          ]
        }
      ]
    },
    {
      "cell_type": "code",
      "source": [
        "def calcolatrice(a, b, op):\n",
        "\n",
        "  assert(op in [\"+\",\"-\",\"*\",\"/\"]), op +\" Non è l'operatore giusto\"\n",
        "\n",
        "  if op == \"+\":\n",
        "    return a+b\n",
        "  elif op == \"-\":\n",
        "    return a-b\n",
        "  elif op == \"*\":\n",
        "    return a*b\n",
        "  elif op == \"/\":\n",
        "    try:\n",
        "      return a/b\n",
        "    except ZeroDivisionError:\n",
        "      print(\"Non puoi dividere per 0 \")\n",
        "\n",
        "\n",
        "\n",
        "a, b = None, None\n",
        "\n",
        "while a is None:\n",
        "  try:\n",
        "    a = float(input(\"Inserisci il primo numero: \"))\n",
        "  except:\n",
        "    print(\"Numero non valido!\")\n",
        "\n",
        "while b is None:\n",
        "  try:\n",
        "    b = float(input(\"Inserisci il secondo numero: \"))\n",
        "  except:\n",
        "    print(\"Numero non valido!\")\n",
        "\n",
        "op = input(\"Inserisci l'operatore: \")\n",
        "\n",
        "c = calcolatrice(a, b, op)\n",
        "\n",
        "print(c)"
      ],
      "metadata": {
        "colab": {
          "base_uri": "https://localhost:8080/"
        },
        "id": "MBYs7MzZqGP4",
        "outputId": "c9169cc0-2995-4afd-bf51-a5f28df46e9a"
      },
      "execution_count": null,
      "outputs": [
        {
          "output_type": "stream",
          "name": "stdout",
          "text": [
            "Inserisci il primo numero: 10\n",
            "Inserisci il secondo numero: 6\n",
            "Inserisci l'operatore: -\n",
            "4.0\n"
          ]
        }
      ]
    },
    {
      "cell_type": "markdown",
      "source": [
        "Spiegazione degli errori che ho fatto:\n",
        "\n",
        "-Ho pensato di integrare tutto in una funzione, invece la funzione in sè non deve avere inserimenti di input ma prendere in entrata delle variabili e ritornare qualcosa.\n",
        "\n",
        "-Ho pensato di provvedere a far partire sempre la richiesta dei numeri con il ciclo while ma purtroppo l'ho usato dentro la funzione e non fuori e non l'ho usato insieme all'uso del valore None che facilita tutto\n",
        "\n",
        "-Ho interpretato male l'uso di assert pensando che dopo la condizione che è falsa di poter far fare qualcosa al programma ma posso solo bloccare tutto con un testo stringa e basta.\n",
        "\n",
        "\n",
        "-Per il resto gli if erano buoni, sbagliavo l'except di ZeroDivisionError perchè lo scrivevo male ma era giusta l'intuizione che dovesse essere un try solo per quando op era uguale a \"/\".\n",
        "\n",
        "-Continuavo a mettere print piuttosto che return che è il giusto comando per una funzione inoltre l'expect è importante capire dove metterlo ed anche il try, in questo casto try prima del return e poi dopo il return except.\n",
        "\n",
        "-Inoltre lui dice che piuttosto che lasciare del codice cosi scritto per acquisire il valore di a ed il valore di b potremmo avere una funzione che lo faccia"
      ],
      "metadata": {
        "id": "frKb554LufiY"
      }
    },
    {
      "cell_type": "markdown",
      "source": [],
      "metadata": {
        "id": "HV0VU8Vwvgq9"
      }
    }
  ]
}