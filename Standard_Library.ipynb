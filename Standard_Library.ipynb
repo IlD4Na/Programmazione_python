{
  "nbformat": 4,
  "nbformat_minor": 0,
  "metadata": {
    "colab": {
      "provenance": []
    },
    "kernelspec": {
      "name": "python3",
      "display_name": "Python 3"
    },
    "language_info": {
      "name": "python"
    }
  },
  "cells": [
    {
      "cell_type": "markdown",
      "source": [
        "#<mark> La Standard Library\n",
        "\n",
        "\n",
        "Moduli per ovviare a varie problematiche tra cui: I/O, OS Interface, Graphic, Sounds, Networking, Date&Time, Multi processing, Multi threading.\n",
        "\n",
        "Questi moduli sono tantissimi!\n",
        "\n",
        "#<mark> Modulo sys\n",
        "\n"
      ],
      "metadata": {
        "id": "k74e3maYGeRC"
      }
    },
    {
      "cell_type": "code",
      "execution_count": null,
      "metadata": {
        "id": "PLBL837fGY3R"
      },
      "outputs": [],
      "source": [
        "import sys"
      ]
    },
    {
      "cell_type": "code",
      "source": [
        "sys.version\n",
        "\n",
        "#cosi troviamo la versione di python che stiamo utilizzando"
      ],
      "metadata": {
        "colab": {
          "base_uri": "https://localhost:8080/",
          "height": 35
        },
        "id": "ViAvjTMUJ9i-",
        "outputId": "55486593-0631-4054-fcfb-49ba2e2ca8ba"
      },
      "execution_count": null,
      "outputs": [
        {
          "output_type": "execute_result",
          "data": {
            "text/plain": [
              "'3.10.12 (main, Sep 11 2024, 15:47:36) [GCC 11.4.0]'"
            ],
            "application/vnd.google.colaboratory.intrinsic+json": {
              "type": "string"
            }
          },
          "metadata": {},
          "execution_count": 2
        }
      ]
    },
    {
      "cell_type": "code",
      "source": [
        "type(sys.version)\n",
        "\n",
        "#ma se volessimo accedere alle informazioni singolarmente?"
      ],
      "metadata": {
        "colab": {
          "base_uri": "https://localhost:8080/"
        },
        "id": "PgZ0W9DUKNXe",
        "outputId": "bfa0fd89-a11b-4680-9417-c5d0eb88f1d4"
      },
      "execution_count": null,
      "outputs": [
        {
          "output_type": "execute_result",
          "data": {
            "text/plain": [
              "str"
            ]
          },
          "metadata": {},
          "execution_count": 3
        }
      ]
    },
    {
      "cell_type": "code",
      "source": [
        "sys.version_info"
      ],
      "metadata": {
        "colab": {
          "base_uri": "https://localhost:8080/"
        },
        "id": "SUnYrFopKaQM",
        "outputId": "6bc09e56-b951-4c4a-ab89-689ff8b385b2"
      },
      "execution_count": null,
      "outputs": [
        {
          "output_type": "execute_result",
          "data": {
            "text/plain": [
              "sys.version_info(major=3, minor=10, micro=12, releaselevel='final', serial=0)"
            ]
          },
          "metadata": {},
          "execution_count": 4
        }
      ]
    },
    {
      "cell_type": "code",
      "source": [
        "sys.version[0]"
      ],
      "metadata": {
        "colab": {
          "base_uri": "https://localhost:8080/",
          "height": 35
        },
        "id": "HNIpv8_-Ke79",
        "outputId": "8cb300bd-5e73-4bf0-a58b-3dfa89584b01"
      },
      "execution_count": null,
      "outputs": [
        {
          "output_type": "execute_result",
          "data": {
            "text/plain": [
              "'3'"
            ],
            "application/vnd.google.colaboratory.intrinsic+json": {
              "type": "string"
            }
          },
          "metadata": {},
          "execution_count": 5
        }
      ]
    },
    {
      "cell_type": "code",
      "source": [
        "sys.platform\n",
        "\n",
        "#piattaform su cui stiamo operando"
      ],
      "metadata": {
        "colab": {
          "base_uri": "https://localhost:8080/",
          "height": 35
        },
        "id": "_ctixuu8KsEX",
        "outputId": "e7f24021-3b5a-4696-851d-4ea57efdbb15"
      },
      "execution_count": null,
      "outputs": [
        {
          "output_type": "execute_result",
          "data": {
            "text/plain": [
              "'linux'"
            ],
            "application/vnd.google.colaboratory.intrinsic+json": {
              "type": "string"
            }
          },
          "metadata": {},
          "execution_count": 6
        }
      ]
    },
    {
      "cell_type": "code",
      "source": [
        "sys.executable"
      ],
      "metadata": {
        "colab": {
          "base_uri": "https://localhost:8080/",
          "height": 35
        },
        "id": "MkPfhC66KxJk",
        "outputId": "a6f66748-ee37-43a3-d6ec-b3766fed5235"
      },
      "execution_count": null,
      "outputs": [
        {
          "output_type": "execute_result",
          "data": {
            "text/plain": [
              "'/usr/bin/python3'"
            ],
            "application/vnd.google.colaboratory.intrinsic+json": {
              "type": "string"
            }
          },
          "metadata": {},
          "execution_count": 7
        }
      ]
    },
    {
      "cell_type": "code",
      "source": [
        "sys.path"
      ],
      "metadata": {
        "colab": {
          "base_uri": "https://localhost:8080/"
        },
        "id": "gMj2SD54K_BW",
        "outputId": "59939bc3-9b2c-4bf8-c5b0-0a6088afc18b"
      },
      "execution_count": null,
      "outputs": [
        {
          "output_type": "execute_result",
          "data": {
            "text/plain": [
              "['/content',\n",
              " '/env/python',\n",
              " '/usr/lib/python310.zip',\n",
              " '/usr/lib/python3.10',\n",
              " '/usr/lib/python3.10/lib-dynload',\n",
              " '',\n",
              " '/usr/local/lib/python3.10/dist-packages',\n",
              " '/usr/lib/python3/dist-packages',\n",
              " '/usr/local/lib/python3.10/dist-packages/IPython/extensions',\n",
              " '/usr/local/lib/python3.10/dist-packages/setuptools/_vendor',\n",
              " '/root/.ipython']"
            ]
          },
          "metadata": {},
          "execution_count": 8
        }
      ]
    },
    {
      "cell_type": "code",
      "source": [
        "list(sys.modules.keys())\n",
        "\n",
        "#qui vediamo tutti i moduli installati"
      ],
      "metadata": {
        "colab": {
          "base_uri": "https://localhost:8080/"
        },
        "id": "SYgt1DiILFbw",
        "outputId": "491dc64a-e155-45e3-bb8a-92310e2b2be9"
      },
      "execution_count": null,
      "outputs": [
        {
          "output_type": "execute_result",
          "data": {
            "text/plain": [
              "['sys',\n",
              " 'builtins',\n",
              " '_frozen_importlib',\n",
              " '_imp',\n",
              " '_thread',\n",
              " '_warnings',\n",
              " '_weakref',\n",
              " '_io',\n",
              " 'marshal',\n",
              " 'posix',\n",
              " '_frozen_importlib_external',\n",
              " 'time',\n",
              " 'zipimport',\n",
              " '_codecs',\n",
              " 'codecs',\n",
              " 'encodings.aliases',\n",
              " 'encodings',\n",
              " 'encodings.utf_8',\n",
              " '_signal',\n",
              " '_abc',\n",
              " 'abc',\n",
              " 'io',\n",
              " '__main__',\n",
              " 'types',\n",
              " 'enum',\n",
              " '_sre',\n",
              " 'sre_constants',\n",
              " 'sre_parse',\n",
              " 'sre_compile',\n",
              " '_collections_abc',\n",
              " 'itertools',\n",
              " 'keyword',\n",
              " '_operator',\n",
              " 'operator',\n",
              " 'reprlib',\n",
              " '_collections',\n",
              " 'collections',\n",
              " '_functools',\n",
              " 'functools',\n",
              " '_locale',\n",
              " 'copyreg',\n",
              " 're',\n",
              " 'warnings',\n",
              " '_stat',\n",
              " 'stat',\n",
              " 'genericpath',\n",
              " 'posixpath',\n",
              " 'os.path',\n",
              " 'os',\n",
              " '_sitebuiltins',\n",
              " '_distutils_hack',\n",
              " 'importlib._bootstrap',\n",
              " 'importlib._bootstrap_external',\n",
              " 'importlib',\n",
              " 'importlib._abc',\n",
              " 'contextlib',\n",
              " 'importlib.util',\n",
              " 'importlib.machinery',\n",
              " 'google',\n",
              " 'google.cloud',\n",
              " 'mpl_toolkits',\n",
              " 'sphinxcontrib',\n",
              " 'sitecustomize',\n",
              " 'site',\n",
              " 'runpy',\n",
              " 'ipykernel._version',\n",
              " '_json',\n",
              " 'json.scanner',\n",
              " 'json.decoder',\n",
              " 'json.encoder',\n",
              " 'json',\n",
              " 'errno',\n",
              " 'signal',\n",
              " '_weakrefset',\n",
              " 'threading',\n",
              " 'fcntl',\n",
              " '_posixsubprocess',\n",
              " 'select',\n",
              " 'collections.abc',\n",
              " 'math',\n",
              " 'selectors',\n",
              " 'subprocess',\n",
              " 'IPython.core',\n",
              " 'IPython.core.getipython',\n",
              " 'IPython.core.release',\n",
              " 'atexit',\n",
              " 'weakref',\n",
              " 'copy',\n",
              " 'fnmatch',\n",
              " 'glob',\n",
              " 'token',\n",
              " 'tokenize',\n",
              " 'linecache',\n",
              " 'traceback',\n",
              " '_string',\n",
              " 'string',\n",
              " 'logging',\n",
              " 'zlib',\n",
              " '_compression',\n",
              " '_bz2',\n",
              " 'bz2',\n",
              " '_lzma',\n",
              " 'lzma',\n",
              " 'shutil',\n",
              " '_ast',\n",
              " 'ast',\n",
              " '_opcode',\n",
              " 'opcode',\n",
              " 'dis',\n",
              " 'inspect',\n",
              " 'typing.io',\n",
              " 'typing.re',\n",
              " 'typing',\n",
              " 'traitlets.utils',\n",
              " 'traitlets.utils.bunch',\n",
              " 'traitlets.utils.descriptions',\n",
              " 'traitlets.utils.getargspec',\n",
              " 'traitlets.utils.importstring',\n",
              " 'traitlets.utils.sentinel',\n",
              " 'traitlets.traitlets',\n",
              " 'traitlets._version',\n",
              " 'traitlets.utils.decorators',\n",
              " 'traitlets',\n",
              " 'dataclasses',\n",
              " 'pprint',\n",
              " '_socket',\n",
              " 'array',\n",
              " 'socket',\n",
              " '_struct',\n",
              " 'struct',\n",
              " '_compat_pickle',\n",
              " '_pickle',\n",
              " 'pickle',\n",
              " '_heapq',\n",
              " 'heapq',\n",
              " '_queue',\n",
              " 'queue',\n",
              " 'logging.handlers',\n",
              " 'socketserver',\n",
              " 'logging.config',\n",
              " 'textwrap',\n",
              " 'traitlets.utils.text',\n",
              " 'gettext',\n",
              " 'argparse',\n",
              " 'traitlets.config.loader',\n",
              " 'traitlets.config.configurable',\n",
              " 'traitlets.utils.nested_update',\n",
              " 'traitlets.config.application',\n",
              " 'traitlets.config',\n",
              " 'pkgutil',\n",
              " 'platform',\n",
              " 'sysconfig',\n",
              " 'urllib',\n",
              " 'urllib.parse',\n",
              " '_sysconfigdata__x86_64-linux-gnu',\n",
              " 'pydoc',\n",
              " 'bdb',\n",
              " 'IPython.utils',\n",
              " 'IPython.utils.ipstruct',\n",
              " 'IPython.utils.coloransi',\n",
              " 'pygments',\n",
              " 'IPython.utils.colorable',\n",
              " 'IPython.utils.PyColorize',\n",
              " 'locale',\n",
              " 'IPython.utils.encoding',\n",
              " 'IPython.utils.py3compat',\n",
              " 'IPython.core.excolors',\n",
              " 'IPython.testing',\n",
              " 'IPython.testing.skipdoctest',\n",
              " 'cmd',\n",
              " '__future__',\n",
              " 'codeop',\n",
              " 'code',\n",
              " 'pdb',\n",
              " 'IPython.core.debugger',\n",
              " 'IPython.core.display_trap',\n",
              " '_bisect',\n",
              " 'bisect',\n",
              " '_random',\n",
              " '_sha512',\n",
              " 'random',\n",
              " 'pexpect.exceptions',\n",
              " 'pexpect.utils',\n",
              " 'pexpect.expect',\n",
              " 'termios',\n",
              " 'tty',\n",
              " 'pty',\n",
              " 'resource',\n",
              " 'ptyprocess.util',\n",
              " 'ptyprocess.ptyprocess',\n",
              " 'ptyprocess',\n",
              " 'pexpect.spawnbase',\n",
              " 'pexpect.pty_spawn',\n",
              " 'pexpect.run',\n",
              " 'pexpect',\n",
              " 'shlex',\n",
              " 'IPython.utils._process_common',\n",
              " 'IPython.utils._process_posix',\n",
              " 'IPython.utils.process',\n",
              " 'IPython.utils.decorators',\n",
              " 'IPython.utils.path',\n",
              " 'IPython.utils.data',\n",
              " 'IPython.utils.terminal',\n",
              " 'IPython.core.ultratb',\n",
              " 'IPython.utils._sysinfo',\n",
              " 'IPython.utils.sysinfo',\n",
              " 'IPython.core.crashhandler',\n",
              " 'tempfile',\n",
              " 'IPython.utils.importstring',\n",
              " 'IPython.paths',\n",
              " 'IPython.core.profiledir',\n",
              " 'IPython.core.application',\n",
              " 'IPython.terminal',\n",
              " '_hashlib',\n",
              " '_blake2',\n",
              " 'hashlib',\n",
              " 'IPython.core.compilerop',\n",
              " 'IPython.core.error',\n",
              " 'ntpath',\n",
              " 'pathlib',\n",
              " 'IPython.utils.text',\n",
              " 'IPython.core.magic_arguments',\n",
              " 'getopt',\n",
              " 'binascii',\n",
              " 'mimetypes',\n",
              " 'IPython.core.display',\n",
              " 'IPython.core.page',\n",
              " 'getpass',\n",
              " 'IPython.lib.security',\n",
              " 'IPython.lib',\n",
              " '_datetime',\n",
              " 'datetime',\n",
              " 'IPython.lib.pretty',\n",
              " 'IPython.utils.openpy',\n",
              " 'IPython.utils.dir2',\n",
              " 'IPython.utils.wildcard',\n",
              " 'pygments.lexers._mapping',\n",
              " 'pygments.modeline',\n",
              " '_csv',\n",
              " 'csv',\n",
              " 'email',\n",
              " 'zipfile',\n",
              " 'uu',\n",
              " 'quopri',\n",
              " 'calendar',\n",
              " 'email._parseaddr',\n",
              " 'base64',\n",
              " 'email.base64mime',\n",
              " 'email.quoprimime',\n",
              " 'email.errors',\n",
              " 'email.encoders',\n",
              " 'email.charset',\n",
              " 'email.utils',\n",
              " 'email.header',\n",
              " 'email._policybase',\n",
              " 'email._encoded_words',\n",
              " 'email.iterators',\n",
              " 'email.message',\n",
              " 'importlib.metadata._functools',\n",
              " 'importlib.metadata._text',\n",
              " 'importlib.metadata._adapters',\n",
              " 'importlib.metadata._meta',\n",
              " 'importlib.metadata._collections',\n",
              " 'importlib.metadata._itertools',\n",
              " 'importlib.abc',\n",
              " 'importlib.metadata',\n",
              " 'pygments.plugin',\n",
              " 'pygments.util',\n",
              " 'pygments.lexers',\n",
              " 'pygments.filter',\n",
              " 'pygments.token',\n",
              " 'pygments.filters',\n",
              " 'pygments.regexopt',\n",
              " 'pygments.lexer',\n",
              " 'pygments.unistring',\n",
              " 'pygments.lexers.python',\n",
              " 'pygments.formatters._mapping',\n",
              " 'pygments.formatters',\n",
              " 'pygments.styles._mapping',\n",
              " 'pygments.styles',\n",
              " 'pygments.formatter',\n",
              " 'pygments.formatters.html',\n",
              " 'IPython.core.oinspect',\n",
              " 'IPython.core.inputtransformer2',\n",
              " 'decorator',\n",
              " 'IPython.core.magic',\n",
              " 'pickleshare',\n",
              " 'IPython.core.autocall',\n",
              " 'IPython.core.macro',\n",
              " 'IPython.core.splitinput',\n",
              " 'IPython.core.prefilter',\n",
              " 'IPython.core.alias',\n",
              " 'IPython.core.builtin_trap',\n",
              " 'backcall.backcall',\n",
              " 'backcall',\n",
              " 'IPython.core.events',\n",
              " 'IPython.core.displayhook',\n",
              " 'IPython.core.displaypub',\n",
              " 'IPython.core.extensions',\n",
              " 'IPython.utils.sentinel',\n",
              " 'IPython.core.formatters',\n",
              " '_sqlite3',\n",
              " 'sqlite3.dbapi2',\n",
              " 'sqlite3',\n",
              " 'IPython.core.history',\n",
              " 'IPython.core.logger',\n",
              " 'IPython.core.payload',\n",
              " 'IPython.core.usage',\n",
              " 'html.entities',\n",
              " 'html',\n",
              " 'IPython.lib.display',\n",
              " 'IPython.display',\n",
              " 'IPython.utils.capture',\n",
              " 'IPython.utils.io',\n",
              " 'IPython.core.hooks',\n",
              " 'IPython.utils.strdispatch',\n",
              " 'IPython.utils.syspathcontext',\n",
              " 'IPython.utils.tempdir',\n",
              " 'IPython.utils.contexts',\n",
              " 'concurrent',\n",
              " 'concurrent.futures._base',\n",
              " 'concurrent.futures',\n",
              " '_ssl',\n",
              " 'ssl',\n",
              " 'asyncio.constants',\n",
              " 'asyncio.format_helpers',\n",
              " 'asyncio.base_futures',\n",
              " 'asyncio.log',\n",
              " 'asyncio.coroutines',\n",
              " '_contextvars',\n",
              " 'contextvars',\n",
              " 'asyncio.exceptions',\n",
              " 'asyncio.base_tasks',\n",
              " '_asyncio',\n",
              " 'asyncio.events',\n",
              " 'asyncio.futures',\n",
              " 'asyncio.protocols',\n",
              " 'asyncio.transports',\n",
              " 'asyncio.sslproto',\n",
              " 'asyncio.mixins',\n",
              " 'asyncio.tasks',\n",
              " 'asyncio.locks',\n",
              " 'asyncio.staggered',\n",
              " 'asyncio.trsock',\n",
              " 'asyncio.base_events',\n",
              " 'asyncio.runners',\n",
              " 'asyncio.queues',\n",
              " 'asyncio.streams',\n",
              " 'asyncio.subprocess',\n",
              " 'asyncio.threads',\n",
              " 'asyncio.base_subprocess',\n",
              " 'asyncio.selector_events',\n",
              " 'asyncio.unix_events',\n",
              " 'asyncio',\n",
              " 'IPython.core.async_helpers',\n",
              " 'IPython.core.interactiveshell',\n",
              " 'prompt_toolkit.application.current',\n",
              " 'prompt_toolkit.eventloop.utils',\n",
              " 'prompt_toolkit.eventloop.async_generator',\n",
              " 'prompt_toolkit.eventloop.inputhook',\n",
              " 'prompt_toolkit.eventloop',\n",
              " 'prompt_toolkit.application.run_in_terminal',\n",
              " 'prompt_toolkit.selection',\n",
              " 'prompt_toolkit.clipboard.base',\n",
              " 'prompt_toolkit.clipboard.in_memory',\n",
              " 'prompt_toolkit.clipboard',\n",
              " 'prompt_toolkit.cache',\n",
              " 'prompt_toolkit.enums',\n",
              " 'prompt_toolkit.filters.base',\n",
              " 'prompt_toolkit.filters.app',\n",
              " 'prompt_toolkit.filters.cli',\n",
              " 'prompt_toolkit.filters.utils',\n",
              " 'prompt_toolkit.filters',\n",
              " 'prompt_toolkit.document',\n",
              " 'prompt_toolkit.auto_suggest',\n",
              " 'prompt_toolkit.keys',\n",
              " 'prompt_toolkit.key_binding.key_bindings',\n",
              " 'wcwidth.table_vs16',\n",
              " 'wcwidth.table_wide',\n",
              " 'wcwidth.table_zero',\n",
              " 'wcwidth.unicode_versions',\n",
              " 'wcwidth.wcwidth',\n",
              " 'wcwidth',\n",
              " 'prompt_toolkit.utils',\n",
              " 'prompt_toolkit.key_binding.key_processor',\n",
              " 'prompt_toolkit.key_binding',\n",
              " 'prompt_toolkit.key_binding.vi_state',\n",
              " 'prompt_toolkit.cursor_shapes',\n",
              " 'prompt_toolkit.data_structures',\n",
              " 'prompt_toolkit.styles.base',\n",
              " 'prompt_toolkit.styles.named_colors',\n",
              " 'prompt_toolkit.styles.style',\n",
              " 'prompt_toolkit.styles.defaults',\n",
              " 'prompt_toolkit.styles.pygments',\n",
              " 'colorsys',\n",
              " 'prompt_toolkit.styles.style_transformation',\n",
              " 'prompt_toolkit.styles',\n",
              " 'prompt_toolkit.output.color_depth',\n",
              " 'prompt_toolkit.output.base',\n",
              " 'prompt_toolkit.output.flush_stdout',\n",
              " 'prompt_toolkit.output.plain_text',\n",
              " 'prompt_toolkit.output.defaults',\n",
              " 'prompt_toolkit.output',\n",
              " 'prompt_toolkit.output.vt100',\n",
              " 'prompt_toolkit.mouse_events',\n",
              " 'prompt_toolkit.formatted_text.base',\n",
              " 'prompt_toolkit.formatted_text.ansi',\n",
              " 'xml',\n",
              " 'xml.dom.domreg',\n",
              " 'xml.dom',\n",
              " 'xml.dom.minicompat',\n",
              " 'xml.dom.NodeFilter',\n",
              " 'xml.dom.xmlbuilder',\n",
              " 'xml.dom.minidom',\n",
              " 'prompt_toolkit.formatted_text.html',\n",
              " 'prompt_toolkit.formatted_text.pygments',\n",
              " 'prompt_toolkit.formatted_text.utils',\n",
              " 'prompt_toolkit.formatted_text',\n",
              " 'prompt_toolkit.completion.base',\n",
              " 'prompt_toolkit.completion.deduplicate',\n",
              " 'prompt_toolkit.completion.filesystem',\n",
              " 'prompt_toolkit.completion.word_completer',\n",
              " 'prompt_toolkit.completion.fuzzy_completer',\n",
              " 'prompt_toolkit.completion.nested',\n",
              " 'prompt_toolkit.completion',\n",
              " 'prompt_toolkit.history',\n",
              " 'prompt_toolkit.search',\n",
              " 'prompt_toolkit.validation',\n",
              " 'prompt_toolkit.buffer',\n",
              " 'prompt_toolkit.input.base',\n",
              " 'prompt_toolkit.input.defaults',\n",
              " 'prompt_toolkit.input',\n",
              " 'prompt_toolkit.input.typeahead',\n",
              " 'prompt_toolkit.key_binding.bindings',\n",
              " 'prompt_toolkit.key_binding.bindings.scroll',\n",
              " 'prompt_toolkit.key_binding.bindings.page_navigation',\n",
              " 'prompt_toolkit.lexers.base',\n",
              " 'prompt_toolkit.lexers.pygments',\n",
              " 'prompt_toolkit.lexers',\n",
              " 'prompt_toolkit.layout.utils',\n",
              " 'prompt_toolkit.layout.processors',\n",
              " 'prompt_toolkit.layout.controls',\n",
              " 'prompt_toolkit.layout.dimension',\n",
              " 'prompt_toolkit.layout.margins',\n",
              " 'prompt_toolkit.layout.mouse_handlers',\n",
              " 'prompt_toolkit.layout.screen',\n",
              " 'prompt_toolkit.layout.containers',\n",
              " 'prompt_toolkit.layout.layout',\n",
              " 'prompt_toolkit.layout.menus',\n",
              " 'prompt_toolkit.layout.scrollable_pane',\n",
              " 'prompt_toolkit.layout',\n",
              " 'prompt_toolkit.key_binding.bindings.completion',\n",
              " 'prompt_toolkit.key_binding.bindings.named_commands',\n",
              " 'prompt_toolkit.key_binding.bindings.basic',\n",
              " 'prompt_toolkit.key_binding.bindings.cpr',\n",
              " 'prompt_toolkit.key_binding.bindings.emacs',\n",
              " 'prompt_toolkit.key_binding.bindings.mouse',\n",
              " 'prompt_toolkit.input.ansi_escape_sequences',\n",
              " 'prompt_toolkit.input.vt100_parser',\n",
              " 'prompt_toolkit.key_binding.digraphs',\n",
              " 'prompt_toolkit.key_binding.bindings.vi',\n",
              " 'prompt_toolkit.key_binding.defaults',\n",
              " 'prompt_toolkit.key_binding.emacs_state',\n",
              " 'prompt_toolkit.layout.dummy',\n",
              " 'prompt_toolkit.renderer',\n",
              " 'prompt_toolkit.application.application',\n",
              " 'prompt_toolkit.application.dummy',\n",
              " 'prompt_toolkit.application',\n",
              " 'prompt_toolkit.key_binding.bindings.focus',\n",
              " 'prompt_toolkit.widgets.toolbars',\n",
              " 'prompt_toolkit.widgets.base',\n",
              " 'prompt_toolkit.widgets.dialogs',\n",
              " 'prompt_toolkit.widgets.menus',\n",
              " 'prompt_toolkit.widgets',\n",
              " 'prompt_toolkit.shortcuts.dialogs',\n",
              " 'xml.parsers',\n",
              " 'pyexpat.errors',\n",
              " 'pyexpat.model',\n",
              " 'pyexpat',\n",
              " 'xml.parsers.expat.model',\n",
              " 'xml.parsers.expat.errors',\n",
              " 'xml.parsers.expat',\n",
              " 'xml.dom.expatbuilder',\n",
              " 'prompt_toolkit.shortcuts.progress_bar.formatters',\n",
              " 'prompt_toolkit.shortcuts.progress_bar.base',\n",
              " 'prompt_toolkit.shortcuts.progress_bar',\n",
              " 'prompt_toolkit.key_binding.bindings.auto_suggest',\n",
              " 'prompt_toolkit.key_binding.bindings.open_in_editor',\n",
              " 'prompt_toolkit.shortcuts.prompt',\n",
              " 'prompt_toolkit.shortcuts.utils',\n",
              " 'prompt_toolkit.shortcuts',\n",
              " 'prompt_toolkit',\n",
              " 'prompt_toolkit.patch_stdout',\n",
              " 'pygments.style',\n",
              " 'unicodedata',\n",
              " 'IPython.core.latex_symbols',\n",
              " 'IPython.utils.generics',\n",
              " 'IPython.core.completer',\n",
              " 'IPython.terminal.ptutils',\n",
              " 'IPython.terminal.shortcuts',\n",
              " 'concurrent.futures.thread',\n",
              " 'IPython.terminal.debugger',\n",
              " 'IPython.lib.clipboard',\n",
              " 'IPython.terminal.magics',\n",
              " 'IPython.terminal.pt_inputhooks',\n",
              " 'IPython.terminal.prompts',\n",
              " 'IPython.terminal.interactiveshell',\n",
              " 'IPython.core.magics.auto',\n",
              " 'IPython.core.magics.basic',\n",
              " 'http',\n",
              " 'email.feedparser',\n",
              " 'email.parser',\n",
              " 'http.client',\n",
              " 'urllib.response',\n",
              " 'urllib.error',\n",
              " 'urllib.request',\n",
              " 'IPython.core.magics.code',\n",
              " 'IPython.core.magics.config',\n",
              " 'IPython.core.magics.display',\n",
              " 'gc',\n",
              " 'timeit',\n",
              " '_lsprof',\n",
              " 'profile',\n",
              " 'cProfile',\n",
              " 'pstats',\n",
              " 'IPython.utils.module_paths',\n",
              " 'IPython.utils.timing',\n",
              " 'IPython.core.magics.execution',\n",
              " 'IPython.core.magics.extension',\n",
              " 'IPython.core.magics.history',\n",
              " 'IPython.core.magics.logging',\n",
              " 'IPython.core.magics.namespace',\n",
              " 'IPython.core.magics.osm',\n",
              " 'IPython.core.magics.packaging',\n",
              " 'IPython.core.pylabtools',\n",
              " 'IPython.core.magics.pylab',\n",
              " 'IPython.lib.backgroundjobs',\n",
              " 'IPython.core.magics.script',\n",
              " 'IPython.core.magics',\n",
              " 'IPython.core.shellapp',\n",
              " 'IPython.extensions',\n",
              " 'IPython.extensions.storemagic',\n",
              " 'IPython.terminal.ipapp',\n",
              " 'IPython.terminal.embed',\n",
              " 'IPython.utils.frame',\n",
              " 'IPython',\n",
              " 'ipython_genutils._version',\n",
              " 'ipython_genutils',\n",
              " 'ipython_genutils.encoding',\n",
              " 'ipython_genutils.py3compat',\n",
              " 'ipython_genutils.path',\n",
              " 'jupyter_client._version',\n",
              " '_ctypes',\n",
              " 'ctypes._endian',\n",
              " 'ctypes',\n",
              " 'zmq.backend.select',\n",
              " '_cython_0_29_32',\n",
              " 'cython_runtime',\n",
              " 'zmq.error',\n",
              " 'zmq.backend.cython.context',\n",
              " 'zmq.backend.cython.message',\n",
              " 'zmq.constants',\n",
              " 'zmq.backend.cython.socket',\n",
              " 'zmq.backend.cython._device',\n",
              " 'zmq.backend.cython._poll',\n",
              " 'zmq.backend.cython._proxy_steerable',\n",
              " 'zmq.backend.cython._version',\n",
              " 'zmq.backend.cython.error',\n",
              " 'zmq.backend.cython.utils',\n",
              " 'zmq.backend.cython',\n",
              " 'zmq.backend',\n",
              " 'zmq.sugar.attrsettr',\n",
              " 'zmq._typing',\n",
              " 'zmq.utils',\n",
              " 'zmq.utils.jsonapi',\n",
              " 'zmq.sugar.poll',\n",
              " 'zmq.sugar.socket',\n",
              " 'zmq.sugar.context',\n",
              " 'zmq.sugar.frame',\n",
              " 'zmq.sugar.tracker',\n",
              " 'zmq.sugar.version',\n",
              " 'zmq.sugar.stopwatch',\n",
              " 'zmq.sugar',\n",
              " 'zmq',\n",
              " 'jupyter_client.localinterfaces',\n",
              " 'jupyter_core.version',\n",
              " 'jupyter_core',\n",
              " 'platformdirs.api',\n",
              " 'platformdirs.version',\n",
              " 'configparser',\n",
              " 'platformdirs.unix',\n",
              " 'platformdirs',\n",
              " 'jupyter_core.utils',\n",
              " 'jupyter_core.paths',\n",
              " 'jupyter_client.utils',\n",
              " 'jupyter_client.connect',\n",
              " 'traitlets.log',\n",
              " 'jupyter_client.launcher',\n",
              " 'jupyter_client.channelsabc',\n",
              " 'jupyter_client.channels',\n",
              " 'jupyter_client.clientabc',\n",
              " 'jupyter_client.client',\n",
              " 'jupyter_client.kernelspec',\n",
              " 'jupyter_client.managerabc',\n",
              " 'jupyter_client.manager',\n",
              " 'jupyter_client.blocking.channels',\n",
              " 'jupyter_client.blocking.client',\n",
              " 'jupyter_client.blocking',\n",
              " 'zmq._future',\n",
              " 'zmq.asyncio',\n",
              " 'jupyter_client.asynchronous.channels',\n",
              " 'jupyter_client.asynchronous.client',\n",
              " 'jupyter_client.asynchronous',\n",
              " '_uuid',\n",
              " 'uuid',\n",
              " 'jupyter_client.multikernelmanager',\n",
              " 'jupyter_client',\n",
              " 'ipykernel.connect',\n",
              " 'ipykernel',\n",
              " 'tornado',\n",
              " 'numbers',\n",
              " 'tornado.speedups',\n",
              " 'tornado.util',\n",
              " 'tornado.escape',\n",
              " '_curses',\n",
              " 'curses',\n",
              " 'tornado.log',\n",
              " 'tornado.concurrent',\n",
              " 'tornado.ioloop',\n",
              " 'tornado.platform',\n",
              " 'tornado.gen',\n",
              " 'tornado.platform.asyncio',\n",
              " 'zmq.eventloop.ioloop',\n",
              " 'zmq.eventloop',\n",
              " 'zmq.eventloop.zmqstream',\n",
              " 'ipython_genutils.importstring',\n",
              " 'imp',\n",
              " 'hmac',\n",
              " 'dateutil._version',\n",
              " 'dateutil',\n",
              " 'six',\n",
              " '_decimal',\n",
              " 'decimal',\n",
              " 'dateutil._common',\n",
              " 'dateutil.relativedelta',\n",
              " 'six.moves',\n",
              " 'dateutil.tz._common',\n",
              " 'dateutil.tz._factories',\n",
              " 'dateutil.tz.tz',\n",
              " 'dateutil.tz',\n",
              " 'dateutil.parser._parser',\n",
              " 'dateutil.parser.isoparser',\n",
              " 'dateutil.parser',\n",
              " '_strptime',\n",
              " 'jupyter_client.jsonutil',\n",
              " 'jupyter_client.adapter',\n",
              " 'jupyter_client.session',\n",
              " 'ipykernel.iostream',\n",
              " 'ipykernel.heartbeat',\n",
              " 'IPython.utils.tokenutil',\n",
              " 'tornado.locks',\n",
              " 'tornado.queues',\n",
              " 'ipykernel.jsonutil',\n",
              " 'ipykernel.kernelbase',\n",
              " 'ipykernel.comm.comm',\n",
              " 'ipykernel.comm.manager',\n",
              " 'ipykernel.comm',\n",
              " 'IPython.core.payloadpage',\n",
              " 'ipykernel.displayhook',\n",
              " 'ipyparallel._version',\n",
              " 'ipyparallel.client',\n",
              " 'ipyparallel.error',\n",
              " 'zmq.log',\n",
              " 'zmq.log.handlers',\n",
              " 'ipyparallel.util',\n",
              " 'ipyparallel.client.futures',\n",
              " 'ipyparallel.client.asyncresult',\n",
              " 'ipyparallel.serialize.codeutil',\n",
              " 'ipyparallel.serialize.canning',\n",
              " 'ipyparallel.serialize.serialize',\n",
              " 'ipyparallel.serialize',\n",
              " 'secrets',\n",
              " 'ipyparallel.controller',\n",
              " 'ipyparallel.controller.dependency',\n",
              " 'ipyparallel.client.map',\n",
              " 'ipyparallel.client.remotefunction',\n",
              " 'ipyparallel.client.view',\n",
              " 'ipyparallel.client.client',\n",
              " 'multiprocessing.process',\n",
              " 'multiprocessing.reduction',\n",
              " 'multiprocessing.context',\n",
              " '__mp_main__',\n",
              " 'multiprocessing',\n",
              " 'ipyparallel._async',\n",
              " 'entrypoints',\n",
              " 'ipyparallel.traitlets',\n",
              " 'pwd',\n",
              " 'psutil._common',\n",
              " 'psutil._compat',\n",
              " 'psutil._psposix',\n",
              " 'psutil._psutil_linux',\n",
              " 'psutil._psutil_posix',\n",
              " 'psutil._pslinux',\n",
              " 'psutil',\n",
              " 'xml.etree',\n",
              " 'xml.etree.ElementPath',\n",
              " 'ipyparallel.cluster._winhpcjob',\n",
              " 'ipyparallel.cluster.launcher',\n",
              " 'ipyparallel.cluster.cluster',\n",
              " 'ipyparallel.cluster',\n",
              " 'ipyparallel',\n",
              " 'ipyparallel.engine',\n",
              " 'ipyparallel.engine.datapub',\n",
              " 'ipykernel.zmqshell',\n",
              " 'distutils._functools',\n",
              " 'distutils.compat.py38',\n",
              " 'distutils.compat',\n",
              " 'distutils.compat.py39',\n",
              " 'distutils.errors',\n",
              " 'distutils._log',\n",
              " 'distutils._modified',\n",
              " 'distutils.debug',\n",
              " 'distutils.spawn',\n",
              " 'distutils.util',\n",
              " 'distutils.sysconfig',\n",
              " 'distutils.command',\n",
              " 'distutils._collections',\n",
              " 'distutils.dir_util',\n",
              " 'grp',\n",
              " 'distutils.archive_util',\n",
              " 'distutils.file_util',\n",
              " 'distutils.cmd',\n",
              " 'distutils.config',\n",
              " 'distutils._vendor',\n",
              " 'distutils._vendor.packaging',\n",
              " 'distutils._vendor.packaging._elffile',\n",
              " 'distutils._vendor.packaging._manylinux',\n",
              " 'distutils._vendor.packaging._musllinux',\n",
              " 'distutils._vendor.packaging.tags',\n",
              " 'distutils._vendor.packaging._structures',\n",
              " 'distutils._vendor.packaging.version',\n",
              " 'distutils._vendor.packaging.utils',\n",
              " 'distutils.fancy_getopt',\n",
              " 'distutils.dist',\n",
              " 'distutils.extension',\n",
              " 'distutils.core',\n",
              " 'distutils.command._framework_compat',\n",
              " 'distutils.command.install',\n",
              " 'distutils.command.install_egg_info',\n",
              " '_distutils_system_mod',\n",
              " 'setuptools._distutils',\n",
              " '_distutils_hack.override',\n",
              " 'distutils.log',\n",
              " 'distutils.filelist',\n",
              " 'setuptools.monkey',\n",
              " 'setuptools.logging',\n",
              " 'importlib._adapters',\n",
              " 'importlib._common',\n",
              " 'importlib.resources',\n",
              " 'setuptools._importlib',\n",
              " 'setuptools.version',\n",
              " 'setuptools._imp',\n",
              " 'packaging',\n",
              " 'packaging._structures',\n",
              " 'packaging.version',\n",
              " 'setuptools.depends',\n",
              " 'setuptools._path',\n",
              " 'setuptools.discovery',\n",
              " 'more_itertools.recipes',\n",
              " 'more_itertools.more',\n",
              " 'more_itertools',\n",
              " 'ordered_set',\n",
              " 'packaging._elffile',\n",
              " 'packaging._manylinux',\n",
              " 'packaging._musllinux',\n",
              " 'packaging.tags',\n",
              " 'packaging.utils',\n",
              " 'packaging.specifiers',\n",
              " 'packaging._tokenizer',\n",
              " 'packaging._parser',\n",
              " 'packaging.markers',\n",
              " 'setuptools.errors',\n",
              " 'jaraco',\n",
              " 'jaraco.functools',\n",
              " 'backports.tarfile.compat',\n",
              " 'backports.tarfile.compat.py38',\n",
              " 'backports.tarfile',\n",
              " 'jaraco.context',\n",
              " 'importlib.readers',\n",
              " 'jaraco.text',\n",
              " 'setuptools._itertools',\n",
              " 'setuptools._entry_points',\n",
              " 'packaging.requirements',\n",
              " 'setuptools._reqs',\n",
              " 'distutils.command.bdist',\n",
              " 'setuptools.command',\n",
              " 'setuptools.warnings',\n",
              " 'setuptools.config.expand',\n",
              " 'setuptools.config.setupcfg',\n",
              " 'setuptools.config',\n",
              " 'email._header_value_parser',\n",
              " 'email.headerregistry',\n",
              " 'setuptools.config._apply_pyprojecttoml',\n",
              " 'setuptools.config.pyprojecttoml',\n",
              " 'setuptools.dist',\n",
              " 'setuptools.extension',\n",
              " 'setuptools._normalization',\n",
              " 'setuptools._core_metadata',\n",
              " 'setuptools.msvc',\n",
              " 'setuptools',\n",
              " 'distutils',\n",
              " 'distutils.version',\n",
              " 'ipykernel.eventloops',\n",
              " 'ipykernel.ipkernel',\n",
              " 'ipykernel.parentpoller',\n",
              " 'ipykernel.kernelapp',\n",
              " 'google.colab._import_hooks._altair',\n",
              " 'google.colab._import_hooks._bokeh',\n",
              " 'google.colab._import_hooks._client_info',\n",
              " 'google.colab._import_hooks._cv2',\n",
              " 'google.colab._import_hooks._generativeai',\n",
              " 'google.colab._import_hooks._pydrive',\n",
              " 'google.colab._import_hooks._pydrive2',\n",
              " 'google.colab._import_hooks',\n",
              " 'google.colab._import_magics',\n",
              " 'google.colab._installation_commands',\n",
              " 'google.colab._interactive_table_helper',\n",
              " 'google.colab._generate_with_variable',\n",
              " 'google.colab._quickchart',\n",
              " 'google.colab._ipython',\n",
              " 'google.colab.errors',\n",
              " 'google.colab._message',\n",
              " 'google.colab.output._js',\n",
              " 'google.colab.output._publish',\n",
              " 'google.colab.output._js_builder',\n",
              " 'google.colab.output._area',\n",
              " 'google.colab.output._tags',\n",
              " 'google.colab.output._util',\n",
              " 'google.colab.output._widgets',\n",
              " 'google.colab.output',\n",
              " 'google.colab._quickchart_hint_button',\n",
              " 'google.colab._quickchart_lib',\n",
              " 'google.colab.autoviz',\n",
              " 'google.colab.widgets._widget',\n",
              " 'google.colab.widgets._grid',\n",
              " 'google.colab.widgets._tabbar',\n",
              " 'google.colab.widgets',\n",
              " 'IPython.utils.traitlets',\n",
              " 'google.colab.data_table',\n",
              " 'google.colab._interactive_table_hint_button',\n",
              " 'google.colab._inspector',\n",
              " 'numpy._utils._convertions',\n",
              " 'numpy._utils',\n",
              " 'numpy._globals',\n",
              " 'numpy.exceptions',\n",
              " 'numpy.version',\n",
              " 'numpy._distributor_init',\n",
              " 'numpy._utils._inspect',\n",
              " 'numpy.core._exceptions',\n",
              " 'numpy.dtypes',\n",
              " 'numpy.core._multiarray_umath',\n",
              " 'numpy.core.overrides',\n",
              " 'numpy.core.multiarray',\n",
              " 'numpy.core.umath',\n",
              " 'numpy.core._string_helpers',\n",
              " 'numpy.compat.py3k',\n",
              " 'numpy.compat',\n",
              " 'numpy.core._dtype',\n",
              " 'numpy.core._type_aliases',\n",
              " 'numpy.core.numerictypes',\n",
              " 'numpy.core._ufunc_config',\n",
              " 'numpy.core._methods',\n",
              " 'numpy.core.fromnumeric',\n",
              " 'numpy.core.shape_base',\n",
              " 'numpy.core.arrayprint',\n",
              " 'numpy.core._asarray',\n",
              " 'numpy.core.numeric',\n",
              " 'numpy.core.defchararray',\n",
              " 'numpy.core.records',\n",
              " 'numpy.core.memmap',\n",
              " 'numpy.core.function_base',\n",
              " 'numpy.core._machar',\n",
              " 'numpy.core.getlimits',\n",
              " 'numpy.core.einsumfunc',\n",
              " 'numpy.core._multiarray_tests',\n",
              " 'numpy.core._add_newdocs',\n",
              " 'numpy.core._add_newdocs_scalars',\n",
              " 'numpy.core._dtype_ctypes',\n",
              " 'numpy.core._internal',\n",
              " 'numpy._pytesttester',\n",
              " 'numpy.core',\n",
              " 'numpy.__config__',\n",
              " 'numpy.lib.mixins',\n",
              " 'numpy.lib.ufunclike',\n",
              " 'numpy.lib.type_check',\n",
              " 'numpy.lib.scimath',\n",
              " 'numpy.lib.stride_tricks',\n",
              " 'numpy.lib.twodim_base',\n",
              " 'numpy.linalg._umath_linalg',\n",
              " 'numpy._typing._nested_sequence',\n",
              " 'numpy._typing._nbit',\n",
              " 'numpy._typing._char_codes',\n",
              " 'numpy._typing._scalars',\n",
              " 'numpy._typing._shape',\n",
              " 'numpy._typing._dtype_like',\n",
              " 'numpy._typing._array_like',\n",
              " 'numpy._typing',\n",
              " 'numpy.linalg.linalg',\n",
              " 'numpy.linalg',\n",
              " 'numpy.matrixlib.defmatrix',\n",
              " 'numpy.matrixlib',\n",
              " 'numpy.lib.histograms',\n",
              " 'numpy.lib.function_base',\n",
              " 'numpy.lib.index_tricks',\n",
              " 'numpy.lib.nanfunctions',\n",
              " 'numpy.lib.shape_base',\n",
              " 'numpy.lib.polynomial',\n",
              " 'numpy.lib.utils',\n",
              " 'numpy.lib.arraysetops',\n",
              " 'numpy.lib.format',\n",
              " 'numpy.lib._datasource',\n",
              " 'numpy.lib._iotools',\n",
              " 'numpy.lib.npyio',\n",
              " 'numpy.lib.arrayterator',\n",
              " 'numpy.lib.arraypad',\n",
              " 'numpy.lib._version',\n",
              " 'numpy.lib',\n",
              " 'numpy.fft._pocketfft_internal',\n",
              " 'numpy.fft._pocketfft',\n",
              " 'numpy.fft.helper',\n",
              " 'numpy.fft',\n",
              " 'numpy.polynomial.polyutils',\n",
              " 'numpy.polynomial._polybase',\n",
              " 'numpy.polynomial.polynomial',\n",
              " 'numpy.polynomial.chebyshev',\n",
              " 'numpy.polynomial.legendre',\n",
              " 'numpy.polynomial.hermite',\n",
              " 'numpy.polynomial.hermite_e',\n",
              " 'numpy.polynomial.laguerre',\n",
              " 'numpy.polynomial',\n",
              " '_cython_3_0_8',\n",
              " 'numpy.random._common',\n",
              " 'numpy.random.bit_generator',\n",
              " 'numpy.random._bounded_integers',\n",
              " 'numpy.random._mt19937',\n",
              " 'numpy.random.mtrand',\n",
              " 'numpy.random._philox',\n",
              " 'numpy.random._pcg64',\n",
              " 'numpy.random._sfc64',\n",
              " 'numpy.random._generator',\n",
              " 'numpy.random._pickle',\n",
              " 'numpy.random',\n",
              " 'numpy.ctypeslib',\n",
              " 'numpy.ma.core',\n",
              " 'numpy.ma.extras',\n",
              " 'numpy.ma',\n",
              " 'numpy',\n",
              " 'PIL._version',\n",
              " 'PIL',\n",
              " 'google.colab._reprs',\n",
              " 'google.colab._shell_customizations',\n",
              " 'google.colab._system_commands',\n",
              " 'google.colab._tensorflow_magics',\n",
              " 'http.server',\n",
              " 'google.colab.files',\n",
              " 'google.colab.auth',\n",
              " 'pexpect.popen_spawn',\n",
              " 'google.colab.drive',\n",
              " 'gzip',\n",
              " 'socks',\n",
              " 'pyparsing.util',\n",
              " 'pyparsing.unicode',\n",
              " 'pyparsing.exceptions',\n",
              " 'pyparsing.actions',\n",
              " 'pyparsing.results',\n",
              " 'pyparsing.core',\n",
              " 'pyparsing.helpers',\n",
              " 'pyparsing.testing',\n",
              " 'pyparsing.common',\n",
              " 'pyparsing',\n",
              " 'httplib2.error',\n",
              " 'httplib2.auth',\n",
              " 'httplib2.iri2uri',\n",
              " 'certifi.core',\n",
              " 'certifi',\n",
              " 'httplib2.certs',\n",
              " 'httplib2',\n",
              " 'google.colab.runtime',\n",
              " 'google.colab.snippets',\n",
              " 'google.colab',\n",
              " 'google.colab._history',\n",
              " 'google.colab._pip',\n",
              " 'IPython.core.inputtransformer',\n",
              " 'IPython.core.inputsplitter',\n",
              " 'google.colab._shell',\n",
              " 'google.colab._kernel',\n",
              " 'faulthandler',\n",
              " 'IPython.core.completerlib',\n",
              " 'matplotlib._api.deprecation',\n",
              " 'matplotlib._api',\n",
              " ...]"
            ]
          },
          "metadata": {},
          "execution_count": 10
        }
      ]
    },
    {
      "cell_type": "code",
      "source": [
        "sys.modules[\"sys\"]"
      ],
      "metadata": {
        "colab": {
          "base_uri": "https://localhost:8080/"
        },
        "id": "nyliDBc4Lc4E",
        "outputId": "e7265adb-7e48-49fb-dd47-69c9359f8bbd"
      },
      "execution_count": null,
      "outputs": [
        {
          "output_type": "execute_result",
          "data": {
            "text/plain": [
              "<module 'sys' (built-in)>"
            ]
          },
          "metadata": {},
          "execution_count": 11
        }
      ]
    },
    {
      "cell_type": "code",
      "source": [
        "import numpy"
      ],
      "metadata": {
        "id": "JlEuKpWlLjmi"
      },
      "execution_count": null,
      "outputs": []
    },
    {
      "cell_type": "code",
      "source": [
        "sys.modules[\"numpy\"]"
      ],
      "metadata": {
        "colab": {
          "base_uri": "https://localhost:8080/"
        },
        "id": "h4ya0QhRLnRZ",
        "outputId": "7bebf1bd-797d-4e27-d0ab-164cd1702562"
      },
      "execution_count": null,
      "outputs": [
        {
          "output_type": "execute_result",
          "data": {
            "text/plain": [
              "<module 'numpy' from '/usr/local/lib/python3.10/dist-packages/numpy/__init__.py'>"
            ]
          },
          "metadata": {},
          "execution_count": 13
        }
      ]
    },
    {
      "cell_type": "markdown",
      "source": [
        "<mark>sys ci permette di ottenere gli argomenti da riga di comando.\n",
        "\n",
        "Sono argomenti che possiamo passare al nostro programma usando la riga di comando ovvero un terminale.\n",
        "Tramite attributo argv di sys possiamo accedere a diverse informazioni.\n",
        "\n",
        "Tramite l'uso di argv possiamo passari vari argomenti.\n",
        "\n",
        "(capire meglio il funzionamento di argv perl'aggiunta di argomenti in riga di comando)"
      ],
      "metadata": {
        "id": "rpHHrMOlLu-J"
      }
    },
    {
      "cell_type": "markdown",
      "source": [
        "L'attributo `argv` del modulo `sys` in Python è una lista che contiene gli argomenti passati al programma tramite la riga di comando. Quando esegui uno script Python dal terminale, puoi passare degli argomenti aggiungendoli dopo il nome dello script. Questi argomenti vengono memorizzati in `sys.argv`.\n",
        "\n",
        "Ecco come funziona:\n",
        "\n",
        "1. `sys.argv[0]` è sempre il nome dello script.\n",
        "2. Gli elementi successivi, `sys.argv[1]`, `sys.argv[2]`, ecc., contengono gli altri argomenti passati al programma.\n",
        "\n",
        "Ad esempio, se esegui uno script Python in questo modo:\n",
        "\n",
        "```bash\n",
        "python script.py arg1 arg2 arg3\n",
        "```\n",
        "\n",
        "`sys.argv` sarà una lista contenente `['script.py', 'arg1', 'arg2', 'arg3']`.\n",
        "\n",
        "Questa funzionalità è utile per permettere agli utenti di interagire con il tuo script passando parametri direttamente dalla riga di comando, senza dover utilizzare la funzione `input()` per raccogliere dati durante l'esecuzione.\n",
        "\n",
        " Generato da ProfAI - https://prof.profession.ai/"
      ],
      "metadata": {
        "id": "LPbHwcMJSNR5"
      }
    },
    {
      "cell_type": "markdown",
      "source": [
        "#<mark> Modulo OS\n",
        "\n",
        "Ci permette di utilizzare con python diverse funzionalità del nostro sistema operativo."
      ],
      "metadata": {
        "id": "A4jUCIp1Qraq"
      }
    },
    {
      "cell_type": "code",
      "source": [
        "import os"
      ],
      "metadata": {
        "id": "-Q5GEYxyL0WI"
      },
      "execution_count": null,
      "outputs": []
    },
    {
      "cell_type": "code",
      "source": [
        "os.getlogin()\n",
        "\n",
        "#si usa per capire il nome utente, forse qui non va perchè sto usando una tecnologia in cloud"
      ],
      "metadata": {
        "colab": {
          "base_uri": "https://localhost:8080/",
          "height": 176
        },
        "id": "AAG-LCgXQy6n",
        "outputId": "4ec500a6-23f8-4cdf-d371-3eaae7eeeba0"
      },
      "execution_count": null,
      "outputs": [
        {
          "output_type": "error",
          "ename": "OSError",
          "evalue": "[Errno 6] No such device or address",
          "traceback": [
            "\u001b[0;31m---------------------------------------------------------------------------\u001b[0m",
            "\u001b[0;31mOSError\u001b[0m                                   Traceback (most recent call last)",
            "\u001b[0;32m<ipython-input-15-7a7700c3036d>\u001b[0m in \u001b[0;36m<cell line: 1>\u001b[0;34m()\u001b[0m\n\u001b[0;32m----> 1\u001b[0;31m \u001b[0mos\u001b[0m\u001b[0;34m.\u001b[0m\u001b[0mgetlogin\u001b[0m\u001b[0;34m(\u001b[0m\u001b[0;34m)\u001b[0m\u001b[0;34m\u001b[0m\u001b[0;34m\u001b[0m\u001b[0m\n\u001b[0m\u001b[1;32m      2\u001b[0m \u001b[0;34m\u001b[0m\u001b[0m\n\u001b[1;32m      3\u001b[0m \u001b[0;31m#si usa per capire il nome utente\u001b[0m\u001b[0;34m\u001b[0m\u001b[0;34m\u001b[0m\u001b[0m\n",
            "\u001b[0;31mOSError\u001b[0m: [Errno 6] No such device or address"
          ]
        }
      ]
    },
    {
      "cell_type": "code",
      "source": [
        "os.getcwd()\n",
        "\n",
        "#è la working directori e serve per capire in che directory si sta lavorando"
      ],
      "metadata": {
        "colab": {
          "base_uri": "https://localhost:8080/",
          "height": 35
        },
        "id": "AMM5FIyWRLGA",
        "outputId": "a9f78390-273d-4125-de15-8789bfc25cd1"
      },
      "execution_count": null,
      "outputs": [
        {
          "output_type": "execute_result",
          "data": {
            "text/plain": [
              "'/content'"
            ],
            "application/vnd.google.colaboratory.intrinsic+json": {
              "type": "string"
            }
          },
          "metadata": {},
          "execution_count": 16
        }
      ]
    },
    {
      "cell_type": "code",
      "source": [
        "os.listdir()\n",
        "\n",
        "#ci permette di vedere tutto il contenuto della directory dove ci troviamo"
      ],
      "metadata": {
        "colab": {
          "base_uri": "https://localhost:8080/"
        },
        "id": "9V_nDvXyRWWS",
        "outputId": "6328336a-9984-43f6-996b-e07fd310d2a0"
      },
      "execution_count": null,
      "outputs": [
        {
          "output_type": "execute_result",
          "data": {
            "text/plain": [
              "['.config', 'sample_data']"
            ]
          },
          "metadata": {},
          "execution_count": 17
        }
      ]
    },
    {
      "cell_type": "code",
      "source": [
        "for f in os.listdir():\n",
        "  print(f)"
      ],
      "metadata": {
        "colab": {
          "base_uri": "https://localhost:8080/"
        },
        "id": "VPzoPOGvRhkP",
        "outputId": "93a0380d-f515-4673-bce6-adae6a84b0ba"
      },
      "execution_count": null,
      "outputs": [
        {
          "output_type": "stream",
          "name": "stdout",
          "text": [
            ".config\n",
            "sample_data\n"
          ]
        }
      ]
    },
    {
      "cell_type": "code",
      "source": [
        "for f in os.listdir(\"sample_data\"):\n",
        "  print(f)\n",
        "\n",
        "#cosi possiamo andare a vedere il contenuto delle ricetory all'interno della directory sample_data"
      ],
      "metadata": {
        "colab": {
          "base_uri": "https://localhost:8080/"
        },
        "id": "97-kgaetRpn4",
        "outputId": "fb8779d2-d8c6-4a5a-efcb-fd6ba1fa3add"
      },
      "execution_count": null,
      "outputs": [
        {
          "output_type": "stream",
          "name": "stdout",
          "text": [
            "anscombe.json\n",
            "README.md\n",
            "mnist_train_small.csv\n",
            "california_housing_train.csv\n",
            "california_housing_test.csv\n",
            "mnist_test.csv\n"
          ]
        }
      ]
    },
    {
      "cell_type": "code",
      "source": [
        "os.mkdir(\"new_directory\")\n",
        "#creiamo una nuova directory"
      ],
      "metadata": {
        "id": "eEhOy8O3Sc4U"
      },
      "execution_count": null,
      "outputs": []
    },
    {
      "cell_type": "code",
      "source": [
        "os.listdir()"
      ],
      "metadata": {
        "colab": {
          "base_uri": "https://localhost:8080/"
        },
        "id": "F1wuoZS_SmDB",
        "outputId": "43c7a4f8-6251-4c2d-d082-fd98bd4dfb92"
      },
      "execution_count": null,
      "outputs": [
        {
          "output_type": "execute_result",
          "data": {
            "text/plain": [
              "['.config', 'new_directory', 'sample_data']"
            ]
          },
          "metadata": {},
          "execution_count": 22
        }
      ]
    },
    {
      "cell_type": "code",
      "source": [
        "#per cambiare il nome della directory dobbiamo fare cosi\n",
        "\n",
        "os.rename(\"new_directory\", \"temp\")"
      ],
      "metadata": {
        "id": "eRcPSgMESo9M"
      },
      "execution_count": null,
      "outputs": []
    },
    {
      "cell_type": "code",
      "source": [
        "os.listdir()"
      ],
      "metadata": {
        "colab": {
          "base_uri": "https://localhost:8080/"
        },
        "id": "DvaT_Gt_S4VC",
        "outputId": "0505c18c-b900-418c-d88e-bc7d75f7a031"
      },
      "execution_count": null,
      "outputs": [
        {
          "output_type": "execute_result",
          "data": {
            "text/plain": [
              "['.config', 'temp', 'sample_data']"
            ]
          },
          "metadata": {},
          "execution_count": 24
        }
      ]
    },
    {
      "cell_type": "code",
      "source": [
        "with open(\"tmp.txt\", \"w\") as f:\n",
        "  pass"
      ],
      "metadata": {
        "id": "5HNEciM_S8_v"
      },
      "execution_count": null,
      "outputs": []
    },
    {
      "cell_type": "code",
      "source": [
        "os.listdir()"
      ],
      "metadata": {
        "colab": {
          "base_uri": "https://localhost:8080/"
        },
        "id": "JuDGUEVqTHhb",
        "outputId": "aa9aa00a-9539-4e5d-ed3c-ace582141955"
      },
      "execution_count": null,
      "outputs": [
        {
          "output_type": "execute_result",
          "data": {
            "text/plain": [
              "['.config', 'tmp.txt', 'temp', 'sample_data']"
            ]
          },
          "metadata": {},
          "execution_count": 26
        }
      ]
    },
    {
      "cell_type": "code",
      "source": [
        "#per rimuovere un file usiamo questo\n",
        "\n",
        "os.remove(\"tmp.txt\") #rimuove i file e non le directory"
      ],
      "metadata": {
        "id": "TKr6j8DoTOaR"
      },
      "execution_count": null,
      "outputs": []
    },
    {
      "cell_type": "code",
      "source": [
        "os.listdir()"
      ],
      "metadata": {
        "colab": {
          "base_uri": "https://localhost:8080/"
        },
        "id": "-8a4wCCSTaPR",
        "outputId": "4eb5e7ee-6fff-4517-dd82-724e03ed36cd"
      },
      "execution_count": null,
      "outputs": [
        {
          "output_type": "execute_result",
          "data": {
            "text/plain": [
              "['.config', 'temp', 'sample_data']"
            ]
          },
          "metadata": {},
          "execution_count": 30
        }
      ]
    },
    {
      "cell_type": "markdown",
      "source": [
        "#<mark> Modulo time\n",
        "\n",
        "Vedremo sleep e time come funzioni di questo modulo.\n",
        "\n",
        "- 'sleep' ci permette di mettere in pausa il nostro programma per un determinato numero di secondi"
      ],
      "metadata": {
        "id": "7nfLxKfiTjU8"
      }
    },
    {
      "cell_type": "code",
      "source": [
        "from time import sleep, time"
      ],
      "metadata": {
        "id": "2c-i9tEsTw0B"
      },
      "execution_count": null,
      "outputs": []
    },
    {
      "cell_type": "code",
      "source": [
        "for i in range(1, 11):\n",
        "  print(i)\n",
        "  sleep(1)"
      ],
      "metadata": {
        "colab": {
          "base_uri": "https://localhost:8080/"
        },
        "id": "cVQ59QmvUF7V",
        "outputId": "06c9393f-4992-4f4f-e168-3c153c90c4fb"
      },
      "execution_count": null,
      "outputs": [
        {
          "output_type": "stream",
          "name": "stdout",
          "text": [
            "1\n",
            "2\n",
            "3\n",
            "4\n",
            "5\n",
            "6\n",
            "7\n",
            "8\n",
            "9\n",
            "10\n"
          ]
        }
      ]
    },
    {
      "cell_type": "markdown",
      "source": [
        "Ad ogni iterazione il ciclo si fermerà per 1 secondo e poi ripartirà, possiamo giocare con i valori di sleep per notare al differenza.\n",
        "\n",
        "Quindi sleep ci permette di inserire delle pause all'interno dei nostri programmi, l'obiettivo è andare a inserire degli intervalli tra delle iterazioni tra comandi che vengono eseguiti in maniera ciclica e schedulata.\n",
        "\n",
        "Ad esempio il dover recuperare informazioni da un server ogni minuto o l'andare ad eseguire lo scrapping di una pagina web ogni 30 secondi. Questi intervalli si creano con la funzione sleep."
      ],
      "metadata": {
        "id": "mzj3VhXkUTfi"
      }
    },
    {
      "cell_type": "code",
      "source": [
        "time() # questo numero rappresenta il numero di secondi trascorsi dal 1° Gennaio 1970\n",
        "\n",
        "# E un'unità di tempo che viene usata."
      ],
      "metadata": {
        "colab": {
          "base_uri": "https://localhost:8080/"
        },
        "id": "vaQQGjedUyl5",
        "outputId": "ff95f26b-04cb-4ce5-ecf9-eb3506ed14ab"
      },
      "execution_count": null,
      "outputs": [
        {
          "output_type": "execute_result",
          "data": {
            "text/plain": [
              "1729166001.9483054"
            ]
          },
          "metadata": {},
          "execution_count": 35
        }
      ]
    },
    {
      "cell_type": "markdown",
      "source": [
        "Il timestamp è un'informazione utilissima perchè ci permette di rappresentare un tempo o una data con un unico valore. Possiamo eseguire dei calcoli sul tempo in maniera semplice."
      ],
      "metadata": {
        "id": "47QnEkgkWTnM"
      }
    },
    {
      "cell_type": "code",
      "source": [
        "#calcolo del tempo esecuzione di un blocco di codice\n",
        "\n",
        "n = 2\n",
        "\n",
        "pow_val = 1000\n",
        "\n",
        "rep= 10000\n",
        "\n",
        "\n",
        "tick = time() #raccogliamo il timestamp all'inizio e quello alla fine\n",
        "\n",
        "\n",
        "for i in range(rep):\n",
        "  n_pow = n\n",
        "  for _ in range(pow_val-1):\n",
        "    n_pow*= n\n",
        "\n",
        "duration = time() #raccogliamo timestamp alla fine\n",
        "\n",
        "print(f\"La {pow_val}° potenza di {n} è {n_pow}\")\n",
        "\n",
        "print(f\"Il tempo che dura l'iterazione è {duration-tick:.2} s\")"
      ],
      "metadata": {
        "colab": {
          "base_uri": "https://localhost:8080/"
        },
        "id": "c3ciENeOWdD2",
        "outputId": "e97a01b2-2f48-44c7-8056-bc90e516b76d"
      },
      "execution_count": null,
      "outputs": [
        {
          "output_type": "stream",
          "name": "stdout",
          "text": [
            "La 1000° potenza di 2 è 10715086071862673209484250490600018105614048117055336074437503883703510511249361224931983788156958581275946729175531468251871452856923140435984577574698574803934567774824230985421074605062371141877954182153046474983581941267398767559165543946077062914571196477686542167660429831652624386837205668069376\n",
            "Il tempo che dura l'iterazione è 1.8 s\n"
          ]
        }
      ]
    },
    {
      "cell_type": "markdown",
      "source": [
        "Quindi facendo timestamp finale - timestamp iniziale possiamo capire quanto tempo è durata l'iterazione."
      ],
      "metadata": {
        "id": "7DwxOc1MYxjI"
      }
    },
    {
      "cell_type": "markdown",
      "source": [
        "#<mark> Il modulo datetime\n",
        "\n",
        "Ci permette di operare sulle date."
      ],
      "metadata": {
        "id": "xl6jwA3OabK6"
      }
    },
    {
      "cell_type": "code",
      "source": [
        "import datetime"
      ],
      "metadata": {
        "id": "WFsOm10PbN7i"
      },
      "execution_count": null,
      "outputs": []
    },
    {
      "cell_type": "code",
      "source": [
        "now = datetime.datetime.now()\n",
        "\n",
        "now\n",
        "\n",
        "#Otteniamo un oggetto di tipo datetime che è in anno mese giorno ora minuti secondi e millisecondi"
      ],
      "metadata": {
        "colab": {
          "base_uri": "https://localhost:8080/"
        },
        "id": "52Oq7plvbPxx",
        "outputId": "e8633f38-6e4e-4521-bde1-d116e88b11f3"
      },
      "execution_count": null,
      "outputs": [
        {
          "output_type": "execute_result",
          "data": {
            "text/plain": [
              "datetime.datetime(2024, 10, 17, 15, 40, 38, 807900)"
            ]
          },
          "metadata": {},
          "execution_count": 5
        }
      ]
    },
    {
      "cell_type": "code",
      "source": [
        "print(now)"
      ],
      "metadata": {
        "colab": {
          "base_uri": "https://localhost:8080/"
        },
        "id": "nNKCrYQmbd0O",
        "outputId": "63301853-2ce0-4912-930e-fd475fbd7305"
      },
      "execution_count": null,
      "outputs": [
        {
          "output_type": "stream",
          "name": "stdout",
          "text": [
            "2024-10-17 15:40:38.807900\n"
          ]
        }
      ]
    },
    {
      "cell_type": "code",
      "source": [
        "#possiamo anche accedere alla singola informazione\n",
        "\n",
        "now.year\n"
      ],
      "metadata": {
        "colab": {
          "base_uri": "https://localhost:8080/"
        },
        "id": "3ZLwFtIQboE9",
        "outputId": "b0ba4a96-71f6-4780-f2b6-cd6f5c454159"
      },
      "execution_count": null,
      "outputs": [
        {
          "output_type": "execute_result",
          "data": {
            "text/plain": [
              "2024"
            ]
          },
          "metadata": {},
          "execution_count": 47
        }
      ]
    },
    {
      "cell_type": "code",
      "source": [
        "past = now.replace(year=2000, month=6, day=11)\n",
        "\n",
        "print(past)\n",
        "\n",
        "#qui abbiamo rimpiazzato anno mese e giorno"
      ],
      "metadata": {
        "colab": {
          "base_uri": "https://localhost:8080/"
        },
        "id": "XQAHjbQ5IrN0",
        "outputId": "50b612dd-f98f-4774-d6fd-d8b85a9fd6a0"
      },
      "execution_count": null,
      "outputs": [
        {
          "output_type": "stream",
          "name": "stdout",
          "text": [
            "2000-06-11 15:40:38.807900\n"
          ]
        }
      ]
    },
    {
      "cell_type": "code",
      "source": [
        "tomorrow = now + datetime.timedelta(days=1)\n",
        "\n",
        "print(tomorrow)"
      ],
      "metadata": {
        "colab": {
          "base_uri": "https://localhost:8080/"
        },
        "id": "pV5GT3TSI_m6",
        "outputId": "bcbf087a-a297-4779-f768-ed881a19efb2"
      },
      "execution_count": null,
      "outputs": [
        {
          "output_type": "stream",
          "name": "stdout",
          "text": [
            "2024-10-18 15:40:38.807900\n"
          ]
        }
      ]
    },
    {
      "cell_type": "code",
      "source": [
        "diff = tomorrow - now\n",
        "\n",
        "print(diff)\n",
        "print(type(diff))"
      ],
      "metadata": {
        "colab": {
          "base_uri": "https://localhost:8080/"
        },
        "id": "9IAqKeSDJbXb",
        "outputId": "e74e88f6-6442-4143-e2bb-40c7b3dc43f9"
      },
      "execution_count": null,
      "outputs": [
        {
          "output_type": "stream",
          "name": "stdout",
          "text": [
            "1 day, 0:00:00\n",
            "<class 'datetime.timedelta'>\n"
          ]
        }
      ]
    },
    {
      "cell_type": "code",
      "source": [
        "#possiamo poi accedere alle singole informazioni\n",
        "\n",
        "diff.seconds"
      ],
      "metadata": {
        "colab": {
          "base_uri": "https://localhost:8080/"
        },
        "id": "QDtSnwQfJuSn",
        "outputId": "35ad0bbc-efb6-4755-c428-b6329280852e"
      },
      "execution_count": null,
      "outputs": [
        {
          "output_type": "execute_result",
          "data": {
            "text/plain": [
              "0"
            ]
          },
          "metadata": {},
          "execution_count": 12
        }
      ]
    },
    {
      "cell_type": "code",
      "source": [
        "diff.days"
      ],
      "metadata": {
        "colab": {
          "base_uri": "https://localhost:8080/"
        },
        "id": "r1NwEq0XJzT9",
        "outputId": "b0c38edb-8c4a-441a-b019-8f35c9d5bbe0"
      },
      "execution_count": null,
      "outputs": [
        {
          "output_type": "execute_result",
          "data": {
            "text/plain": [
              "1"
            ]
          },
          "metadata": {},
          "execution_count": 13
        }
      ]
    },
    {
      "cell_type": "code",
      "source": [
        "diff.total_seconds()"
      ],
      "metadata": {
        "colab": {
          "base_uri": "https://localhost:8080/"
        },
        "id": "Lt2XxE8cJ44L",
        "outputId": "41878f69-cf1e-40f1-d99f-758855481556"
      },
      "execution_count": null,
      "outputs": [
        {
          "output_type": "execute_result",
          "data": {
            "text/plain": [
              "86400.0"
            ]
          },
          "metadata": {},
          "execution_count": 14
        }
      ]
    },
    {
      "cell_type": "code",
      "source": [
        "date_str = \"11/06/1991 15:30:00\"\n",
        "\n",
        "date_date = datetime.datetime.strptime(date_str, \"%m/%d/%Y %H:%M:%S\") #stare attenti al formato datetime.datetime\n",
        "\n",
        "type(date_date)"
      ],
      "metadata": {
        "colab": {
          "base_uri": "https://localhost:8080/"
        },
        "id": "1ulgKPu_KBuE",
        "outputId": "ebf9fb40-9a58-40d3-e0ea-0416b45a28af"
      },
      "execution_count": null,
      "outputs": [
        {
          "output_type": "execute_result",
          "data": {
            "text/plain": [
              "datetime.datetime"
            ]
          },
          "metadata": {},
          "execution_count": 17
        }
      ]
    },
    {
      "cell_type": "code",
      "source": [
        "print(date_date)"
      ],
      "metadata": {
        "colab": {
          "base_uri": "https://localhost:8080/"
        },
        "id": "7-_cJHgBLAR3",
        "outputId": "956ba310-3b7b-4552-eb10-954aa89236cd"
      },
      "execution_count": null,
      "outputs": [
        {
          "output_type": "stream",
          "name": "stdout",
          "text": [
            "1991-11-06 15:30:00\n"
          ]
        }
      ]
    },
    {
      "cell_type": "code",
      "source": [
        "date_str = date_date.strftime(\"%y-%m-%d %H:%M:%S\") #qui passiamo un formato che fa si che non cambi il tipo di dati e diventi datetime.datetime\n",
        "\n",
        "type(date_str)"
      ],
      "metadata": {
        "colab": {
          "base_uri": "https://localhost:8080/"
        },
        "id": "AXmq8dd4Liy7",
        "outputId": "9c52606c-814f-4779-e66f-2863f6791405"
      },
      "execution_count": null,
      "outputs": [
        {
          "output_type": "execute_result",
          "data": {
            "text/plain": [
              "str"
            ]
          },
          "metadata": {},
          "execution_count": 19
        }
      ]
    },
    {
      "cell_type": "code",
      "source": [
        "date_str"
      ],
      "metadata": {
        "colab": {
          "base_uri": "https://localhost:8080/",
          "height": 35
        },
        "id": "w3vMDrGILyD-",
        "outputId": "0fdec357-d6e6-4108-c126-08ea5c55c9c1"
      },
      "execution_count": null,
      "outputs": [
        {
          "output_type": "execute_result",
          "data": {
            "text/plain": [
              "'91-11-06 15:30:00'"
            ],
            "application/vnd.google.colaboratory.intrinsic+json": {
              "type": "string"
            }
          },
          "metadata": {},
          "execution_count": 20
        }
      ]
    },
    {
      "cell_type": "markdown",
      "source": [
        "#<mark> Il modulo Math\n",
        "\n"
      ],
      "metadata": {
        "id": "HJvj6ikCMDLN"
      }
    },
    {
      "cell_type": "code",
      "source": [
        "import math"
      ],
      "metadata": {
        "id": "hfWG5ZsrMKxx"
      },
      "execution_count": null,
      "outputs": []
    },
    {
      "cell_type": "code",
      "source": [
        "math.pow(10, 2) #prima la base poi a che potenza elevare"
      ],
      "metadata": {
        "colab": {
          "base_uri": "https://localhost:8080/"
        },
        "id": "yy4Bg_qAMMqS",
        "outputId": "892f348e-c00e-4f83-f5b7-5e9e68da16d4"
      },
      "execution_count": null,
      "outputs": [
        {
          "output_type": "execute_result",
          "data": {
            "text/plain": [
              "100.0"
            ]
          },
          "metadata": {},
          "execution_count": 22
        }
      ]
    },
    {
      "cell_type": "code",
      "source": [
        "math.sqrt(100)"
      ],
      "metadata": {
        "colab": {
          "base_uri": "https://localhost:8080/"
        },
        "id": "aSltFTpLMVDy",
        "outputId": "4ba9724b-6580-452a-c833-5744b3f077f3"
      },
      "execution_count": null,
      "outputs": [
        {
          "output_type": "execute_result",
          "data": {
            "text/plain": [
              "10.0"
            ]
          },
          "metadata": {},
          "execution_count": 23
        }
      ]
    },
    {
      "cell_type": "code",
      "source": [
        "math.log(100)"
      ],
      "metadata": {
        "colab": {
          "base_uri": "https://localhost:8080/"
        },
        "id": "3wLy_S9NMbUj",
        "outputId": "414ee0be-ca98-4540-ae29-010edaa777f4"
      },
      "execution_count": null,
      "outputs": [
        {
          "output_type": "execute_result",
          "data": {
            "text/plain": [
              "4.605170185988092"
            ]
          },
          "metadata": {},
          "execution_count": 24
        }
      ]
    },
    {
      "cell_type": "code",
      "source": [
        "math.log(100, 10)"
      ],
      "metadata": {
        "colab": {
          "base_uri": "https://localhost:8080/"
        },
        "id": "0IN0vsAEMgIo",
        "outputId": "e49597d9-5065-43c7-9ae1-0ab2fd1d4973"
      },
      "execution_count": null,
      "outputs": [
        {
          "output_type": "execute_result",
          "data": {
            "text/plain": [
              "2.0"
            ]
          },
          "metadata": {},
          "execution_count": 25
        }
      ]
    },
    {
      "cell_type": "code",
      "source": [
        "math.factorial(5)"
      ],
      "metadata": {
        "colab": {
          "base_uri": "https://localhost:8080/"
        },
        "id": "tIGOCo50MpFU",
        "outputId": "220eae9d-0d26-4594-84c4-fa0b8305143a"
      },
      "execution_count": null,
      "outputs": [
        {
          "output_type": "execute_result",
          "data": {
            "text/plain": [
              "120"
            ]
          },
          "metadata": {},
          "execution_count": 26
        }
      ]
    },
    {
      "cell_type": "code",
      "source": [
        "math.fabs(-5) #inidica il valore assoluto in float"
      ],
      "metadata": {
        "colab": {
          "base_uri": "https://localhost:8080/"
        },
        "id": "FwJ16r5kMvZA",
        "outputId": "d603d52d-8eb1-4e6f-b93a-fd3e363c5080"
      },
      "execution_count": null,
      "outputs": [
        {
          "output_type": "execute_result",
          "data": {
            "text/plain": [
              "5.0"
            ]
          },
          "metadata": {},
          "execution_count": 27
        }
      ]
    },
    {
      "cell_type": "code",
      "source": [
        "math.ceil(5.2) #arrotondare un numero per eccesso"
      ],
      "metadata": {
        "colab": {
          "base_uri": "https://localhost:8080/"
        },
        "id": "0NYuqV-QM3Wz",
        "outputId": "d202303b-a3d0-47f8-b62b-0293dd80d200"
      },
      "execution_count": null,
      "outputs": [
        {
          "output_type": "execute_result",
          "data": {
            "text/plain": [
              "6"
            ]
          },
          "metadata": {},
          "execution_count": 28
        }
      ]
    },
    {
      "cell_type": "code",
      "source": [
        "math.floor(5.8) #rimozione della parte dopo la virgola"
      ],
      "metadata": {
        "colab": {
          "base_uri": "https://localhost:8080/"
        },
        "id": "t2WP6cxrM_GX",
        "outputId": "6727e18f-acf6-4fe1-916d-1f453b73bcbe"
      },
      "execution_count": null,
      "outputs": [
        {
          "output_type": "execute_result",
          "data": {
            "text/plain": [
              "5"
            ]
          },
          "metadata": {},
          "execution_count": 29
        }
      ]
    },
    {
      "cell_type": "code",
      "source": [
        "math.e"
      ],
      "metadata": {
        "colab": {
          "base_uri": "https://localhost:8080/"
        },
        "id": "UMQu0W_BNJvo",
        "outputId": "bf5f2046-66da-451b-e21e-9fa998467c8f"
      },
      "execution_count": null,
      "outputs": [
        {
          "output_type": "execute_result",
          "data": {
            "text/plain": [
              "2.718281828459045"
            ]
          },
          "metadata": {},
          "execution_count": 30
        }
      ]
    },
    {
      "cell_type": "code",
      "source": [
        "math.pi"
      ],
      "metadata": {
        "colab": {
          "base_uri": "https://localhost:8080/"
        },
        "id": "oK-3onOuNNKX",
        "outputId": "4fc61087-4381-424c-acb7-b0f6e5f742bc"
      },
      "execution_count": null,
      "outputs": [
        {
          "output_type": "execute_result",
          "data": {
            "text/plain": [
              "3.141592653589793"
            ]
          },
          "metadata": {},
          "execution_count": 31
        }
      ]
    },
    {
      "cell_type": "code",
      "source": [
        "math.tau #il valore costante tau che è il rapporto tra circonferenza e raggio"
      ],
      "metadata": {
        "colab": {
          "base_uri": "https://localhost:8080/"
        },
        "id": "3fRU2wTSNXT0",
        "outputId": "2924f5fb-5465-473b-fc5a-e36d7074d1d4"
      },
      "execution_count": null,
      "outputs": [
        {
          "output_type": "execute_result",
          "data": {
            "text/plain": [
              "6.283185307179586"
            ]
          },
          "metadata": {},
          "execution_count": 32
        }
      ]
    },
    {
      "cell_type": "code",
      "source": [
        "math.inf #costante che indica l'infinito"
      ],
      "metadata": {
        "colab": {
          "base_uri": "https://localhost:8080/"
        },
        "id": "vlU8SXlHNfpI",
        "outputId": "d16cde5c-bb52-4473-b701-8d4497e8b0e5"
      },
      "execution_count": null,
      "outputs": [
        {
          "output_type": "execute_result",
          "data": {
            "text/plain": [
              "inf"
            ]
          },
          "metadata": {},
          "execution_count": 33
        }
      ]
    },
    {
      "cell_type": "code",
      "source": [
        "math.nan #nan è un valore non numerico che sta per not a number"
      ],
      "metadata": {
        "id": "9rr3HFd6NmZb"
      },
      "execution_count": null,
      "outputs": []
    },
    {
      "cell_type": "code",
      "source": [
        "math.isfinite(5) #per controllare se sia un numero finito"
      ],
      "metadata": {
        "colab": {
          "base_uri": "https://localhost:8080/"
        },
        "id": "cFkECeH-Nw8Z",
        "outputId": "0b162cd2-5f2d-495b-bcd5-31e392307a78"
      },
      "execution_count": null,
      "outputs": [
        {
          "output_type": "execute_result",
          "data": {
            "text/plain": [
              "True"
            ]
          },
          "metadata": {},
          "execution_count": 34
        }
      ]
    },
    {
      "cell_type": "code",
      "source": [
        "math.isfinite(math.inf) #qui abbiamo passato un numero infinito come argomento"
      ],
      "metadata": {
        "colab": {
          "base_uri": "https://localhost:8080/"
        },
        "id": "F2VhnULSN22y",
        "outputId": "6466b4cd-5f2f-4b6a-e013-4f610170a600"
      },
      "execution_count": null,
      "outputs": [
        {
          "output_type": "execute_result",
          "data": {
            "text/plain": [
              "False"
            ]
          },
          "metadata": {},
          "execution_count": 35
        }
      ]
    },
    {
      "cell_type": "code",
      "source": [
        "math.isinf(math.inf) #verifica s eil numero è infinito"
      ],
      "metadata": {
        "colab": {
          "base_uri": "https://localhost:8080/"
        },
        "id": "AAHOp92-N_JP",
        "outputId": "c78d24e1-e536-47b8-9df1-f82dbbd6746a"
      },
      "execution_count": null,
      "outputs": [
        {
          "output_type": "execute_result",
          "data": {
            "text/plain": [
              "True"
            ]
          },
          "metadata": {},
          "execution_count": 36
        }
      ]
    },
    {
      "cell_type": "markdown",
      "source": [
        "#<mark> Esercizi 1° poesie su un file"
      ],
      "metadata": {
        "id": "zHfG4PLeP2cd"
      }
    },
    {
      "cell_type": "code",
      "source": [
        "import os\n",
        "\n",
        "for f in os.listdir():\n",
        "  print(f)"
      ],
      "metadata": {
        "colab": {
          "base_uri": "https://localhost:8080/"
        },
        "id": "LZa4YG4RP70j",
        "outputId": "0c2de170-d622-4585-8a5a-323b39cf0d55"
      },
      "execution_count": null,
      "outputs": [
        {
          "output_type": "stream",
          "name": "stdout",
          "text": [
            ".config\n",
            ".ipynb_checkpoints\n",
            "se_durassimo_in_eterno.txt\n",
            "felicità.txt\n",
            "il_più_bello_dei_mari.txt\n",
            "sei_la_mia_schiavitu_sei_la_mia_liberta.txt\n",
            "bacio.txt\n",
            "sample_data\n"
          ]
        }
      ]
    },
    {
      "cell_type": "code",
      "source": [
        "os.mkdir(\"Raccolta\")"
      ],
      "metadata": {
        "id": "nRq-dMpSQItz"
      },
      "execution_count": null,
      "outputs": []
    },
    {
      "cell_type": "code",
      "source": [
        "os.listdir()"
      ],
      "metadata": {
        "colab": {
          "base_uri": "https://localhost:8080/"
        },
        "id": "p7GX2fktQS0L",
        "outputId": "bf29c612-6de2-4cc0-8490-9279d9113584"
      },
      "execution_count": null,
      "outputs": [
        {
          "output_type": "execute_result",
          "data": {
            "text/plain": [
              "['.config',\n",
              " '.ipynb_checkpoints',\n",
              " 'se_durassimo_in_eterno.txt',\n",
              " 'Raccolta',\n",
              " 'felicità.txt',\n",
              " 'il_più_bello_dei_mari.txt',\n",
              " 'sei_la_mia_schiavitu_sei_la_mia_liberta.txt',\n",
              " 'bacio.txt',\n",
              " 'sample_data']"
            ]
          },
          "metadata": {},
          "execution_count": 41
        }
      ]
    },
    {
      "cell_type": "code",
      "source": [
        "os.getcwd() #vedo in che working directory mi trovo"
      ],
      "metadata": {
        "colab": {
          "base_uri": "https://localhost:8080/",
          "height": 35
        },
        "id": "bkrpAbGDQf0N",
        "outputId": "ce9b4441-071e-4b32-b037-f9339ead0fb6"
      },
      "execution_count": null,
      "outputs": [
        {
          "output_type": "execute_result",
          "data": {
            "text/plain": [
              "'/content'"
            ],
            "application/vnd.google.colaboratory.intrinsic+json": {
              "type": "string"
            }
          },
          "metadata": {},
          "execution_count": 42
        }
      ]
    },
    {
      "cell_type": "code",
      "source": [
        "cd Raccolta #mi sposto nella working directorty Raccolta"
      ],
      "metadata": {
        "colab": {
          "base_uri": "https://localhost:8080/"
        },
        "id": "3-p1wBpeQijb",
        "outputId": "5c2a23b4-7924-4537-e573-f3a72764b41f"
      },
      "execution_count": null,
      "outputs": [
        {
          "output_type": "stream",
          "name": "stdout",
          "text": [
            "/content/Raccolta\n"
          ]
        }
      ]
    },
    {
      "cell_type": "code",
      "source": [
        "os.getcwd() #controllo di essermi spostato correttamente"
      ],
      "metadata": {
        "colab": {
          "base_uri": "https://localhost:8080/",
          "height": 35
        },
        "id": "TMtwlkkmQk3V",
        "outputId": "b50494c6-7f79-4ecc-ea22-d8c63c5a278a"
      },
      "execution_count": null,
      "outputs": [
        {
          "output_type": "execute_result",
          "data": {
            "text/plain": [
              "'/content/Raccolta'"
            ],
            "application/vnd.google.colaboratory.intrinsic+json": {
              "type": "string"
            }
          },
          "metadata": {},
          "execution_count": 44
        }
      ]
    },
    {
      "cell_type": "code",
      "source": [
        "with open(\"raccolta_poesie.txt\", \"w\") as f:\n",
        "  pass"
      ],
      "metadata": {
        "id": "VQ-dbw-aQwPN"
      },
      "execution_count": null,
      "outputs": []
    },
    {
      "cell_type": "code",
      "source": [
        "os.getcwd()"
      ],
      "metadata": {
        "colab": {
          "base_uri": "https://localhost:8080/",
          "height": 35
        },
        "id": "of6MqJ6PQ57O",
        "outputId": "35fbfb7f-582d-4930-ca13-671c3931c2f3"
      },
      "execution_count": null,
      "outputs": [
        {
          "output_type": "execute_result",
          "data": {
            "text/plain": [
              "'/content'"
            ],
            "application/vnd.google.colaboratory.intrinsic+json": {
              "type": "string"
            }
          },
          "metadata": {},
          "execution_count": 7
        }
      ]
    },
    {
      "cell_type": "code",
      "source": [
        "os.listdir()"
      ],
      "metadata": {
        "colab": {
          "base_uri": "https://localhost:8080/"
        },
        "id": "PN7mXCdmQ9Bq",
        "outputId": "6d1561af-72ed-456c-9379-d8c3363319c0"
      },
      "execution_count": null,
      "outputs": [
        {
          "output_type": "execute_result",
          "data": {
            "text/plain": [
              "['.config',\n",
              " '.ipynb_checkpoints',\n",
              " 'se_durassimo_in_eterno.txt',\n",
              " 'felicità.txt',\n",
              " 'il_più_bello_dei_mari.txt',\n",
              " 'sei_la_mia_schiavitu_sei_la_mia_liberta.txt',\n",
              " 'bacio.txt',\n",
              " 'sample_data']"
            ]
          },
          "metadata": {},
          "execution_count": 8
        }
      ]
    },
    {
      "cell_type": "code",
      "source": [
        "os.remove(\"raccolta_poesie\")"
      ],
      "metadata": {
        "id": "p7UwS3BjRDfu"
      },
      "execution_count": null,
      "outputs": []
    },
    {
      "cell_type": "code",
      "source": [
        "os.listdir()"
      ],
      "metadata": {
        "colab": {
          "base_uri": "https://localhost:8080/"
        },
        "id": "JdT2YN5hRIku",
        "outputId": "bc10a9df-c211-4789-a0b8-297cf0678fc1"
      },
      "execution_count": null,
      "outputs": [
        {
          "output_type": "execute_result",
          "data": {
            "text/plain": [
              "['raccolta_poesie.txt']"
            ]
          },
          "metadata": {},
          "execution_count": 52
        }
      ]
    },
    {
      "cell_type": "code",
      "source": [
        "cd .."
      ],
      "metadata": {
        "colab": {
          "base_uri": "https://localhost:8080/"
        },
        "id": "GxY9N6xmRprt",
        "outputId": "b72dd1a8-ba6b-4972-bb68-58a51085f35c"
      },
      "execution_count": null,
      "outputs": [
        {
          "output_type": "stream",
          "name": "stdout",
          "text": [
            "/content\n"
          ]
        }
      ]
    },
    {
      "cell_type": "code",
      "source": [
        "with open(\"bacio.txt\") as f:\n",
        "  for i, line in enumerate(f):\n",
        "    print(i,line, end=\"\")\n"
      ],
      "metadata": {
        "colab": {
          "base_uri": "https://localhost:8080/"
        },
        "id": "vUKQt-QGRVQd",
        "outputId": "6dd462a3-ce19-433a-e752-5eb6c94710e2"
      },
      "execution_count": null,
      "outputs": [
        {
          "output_type": "stream",
          "name": "stdout",
          "text": [
            "0 Bacio di Alda Merini\n",
            "1 \n",
            "2 Bacio che sopporti il peso\n",
            "3 della mia anima breve\n",
            "4 in te il mondo del mio discorso\n",
            "5 diventa suono e paura."
          ]
        }
      ]
    },
    {
      "cell_type": "markdown",
      "source": [
        "# RIVVIA KERNEL"
      ],
      "metadata": {
        "id": "nbpGmTCvTGAp"
      }
    },
    {
      "cell_type": "code",
      "source": [
        "import os"
      ],
      "metadata": {
        "id": "w7LVbQWjVGLD"
      },
      "execution_count": null,
      "outputs": []
    },
    {
      "cell_type": "code",
      "source": [
        "os.getcwd()"
      ],
      "metadata": {
        "colab": {
          "base_uri": "https://localhost:8080/",
          "height": 35
        },
        "id": "bG5C_cOeVBfU",
        "outputId": "2615dc5c-f5ee-4863-bdd7-19ddd84dce96"
      },
      "execution_count": null,
      "outputs": [
        {
          "output_type": "execute_result",
          "data": {
            "text/plain": [
              "'/content'"
            ],
            "application/vnd.google.colaboratory.intrinsic+json": {
              "type": "string"
            }
          },
          "metadata": {},
          "execution_count": 5
        }
      ]
    },
    {
      "cell_type": "code",
      "source": [
        "from os import listdir, mkdir\n",
        "\n",
        "\n",
        "#la mia working directory è /content, qui l'ho salvato come se fosse una costante\n",
        "\n",
        "#poi ho creato una nuova directory ma tramite la creazione di un nuovo PATH\n",
        "\n",
        "#Poi ho creato il file tramite la creazione del NEW_PATH + il file che voglio creare\n",
        "\n",
        "#Questo sulla base che tutto alla fine è un cammino da proseguire\n",
        "\n",
        "\n",
        "\n",
        "PATH = \"/content/\"\n",
        "NEW_PATH = PATH+\"raccolta/\"\n",
        "NEW_FILE_NAME = NEW_PATH + \"raccolta_poesie.txt\"\n",
        "\n",
        "mkdir(NEW_PATH) #con questo abbiamo creato al nuova directory\n",
        "\n",
        "new_file = open(NEW_FILE_NAME, \"w\") #qui invece abbiamo creato il file andando a passare il PATH\n",
        "\n",
        "c = 1 #creazione di un contatore\n",
        "\n",
        "for f_name in listdir(PATH): #stiamo dicendo che per ogni elemento nella listdir di PATH\n",
        "  if not \".txt\" in f_name : #se non hanno il .txt alla fine di continuare\n",
        "    continue\n",
        "\n",
        "  with open(PATH + f_name) as f: #se hanno il .txt di aprire quel file come f , abbiamo dato anche qui il PATH come argomento\n",
        "    new_file.write(f\"POESIA {c}\\n\") #scrivere nel nuovo file POESIA {c} e poi a capo\n",
        "    new_file.write(f.read()+\"\\n\\n\") #poi scrivere tutto quello che si legge da quel file + due a capo\n",
        "    c+=1 #incrementiamo di 1 perchè serve per poi avere la seconda POESIA\n",
        "\n",
        "new_file.close() #Alla fine chiudiamo il file\n"
      ],
      "metadata": {
        "id": "UKc_kN35TIJd"
      },
      "execution_count": null,
      "outputs": []
    },
    {
      "cell_type": "markdown",
      "source": [
        "#<mark> Quanto manca al nostro compleanno Esercizio\n"
      ],
      "metadata": {
        "id": "goK-x_j6Z-Dc"
      }
    },
    {
      "cell_type": "markdown",
      "source": [
        "Inserire come input la data del nostro compleanno in formato giorno/mese. Scrivere un programma in grado di calcolare i giorni mancanti al tuo compleanno e stampa il risultato di output.\n",
        "\n",
        "Suggerimenti: si possono utilizzare gli operatori di confronto per confrontare due date.\n",
        "\n"
      ],
      "metadata": {
        "id": "sK4xfzHjaD3H"
      }
    },
    {
      "cell_type": "code",
      "source": [
        "from datetime import datetime\n",
        "\n",
        "now = datetime.now()\n",
        "\n",
        "date_str = \"25/02\"\n",
        "date = datetime.strptime(date_str, \"%d/%m\")\n",
        "\n",
        "date = date.replace(year=now.year)\n",
        "\n",
        "print(\"data di oggi: \"+datetime.strftime(now, \"%d/%m\"))\n",
        "\n",
        "if(date<now):\n",
        "  print(\"Il %s è già passato\" % date_str)\n",
        "else:\n",
        "  print(\"Il %s deve ancora venire\" % date_str)\n",
        "\n"
      ],
      "metadata": {
        "colab": {
          "base_uri": "https://localhost:8080/"
        },
        "id": "46ie2va-aCZY",
        "outputId": "357e3634-d604-40d6-af50-7e2e64929f6d"
      },
      "execution_count": null,
      "outputs": [
        {
          "output_type": "stream",
          "name": "stdout",
          "text": [
            "data di oggi: 17/10\n",
            "Il 25/02 è già passato\n"
          ]
        }
      ]
    },
    {
      "cell_type": "code",
      "source": [
        "today = datetime.now()\n",
        "\n",
        "\n",
        "bday_str = input(\"Che giorno fai il compleanno? [dd/mm]: \")\n",
        "bday = datetime.strptime(bday_str, \"%d/%m\")\n",
        "\n",
        "bday = bday.replace(year=today.year)\n",
        "\n",
        "to_bday = bday - today\n",
        "print(f\"Mancano ancora {to_bday.days} giorni al tuo compleanno!\")"
      ],
      "metadata": {
        "colab": {
          "base_uri": "https://localhost:8080/"
        },
        "id": "1SEpxXV-bhmE",
        "outputId": "5082c211-28e8-40ee-c845-0b814cea8a8e"
      },
      "execution_count": null,
      "outputs": [
        {
          "output_type": "stream",
          "name": "stdout",
          "text": [
            "Che giorno fai il compleanno? [dd/mm]: 25/02\n",
            "Mancano ancora -236 giorni al tuo compleanno!\n"
          ]
        }
      ]
    },
    {
      "cell_type": "markdown",
      "source": [
        "# <mark> Equazioni per il Machine Learning\n",
        "\n",
        "\n",
        "Dobbiamo implementare queste equazioni all'interno di apposite funzioni.\n",
        "\n",
        "-La sigmoide\n",
        "\n",
        "-la ReLu Rectified Linear Unit\n",
        "\n",
        "-tangente iperbolica\n",
        "\n",
        "\n",
        "Per valutare la qualità di un qualsiasi modello di machine learning è necessario usare una funzione di costo, implementiamo la log loss utilizzando dove è possibile il modulo math di Python.\n",
        "\n"
      ],
      "metadata": {
        "id": "nUaYib91XC9_"
      }
    },
    {
      "cell_type": "code",
      "source": [
        "import math\n",
        "\n",
        "def sigmoid(z):\n",
        "  return 1/(1+math.pow(math.e, -z))\n",
        "\n",
        "\n",
        "def relu(z):\n",
        "  return max(0,z)\n",
        "\n",
        "def tanh(z):\n",
        "  return (1-math.exp(-2*z))/(1+math.exp(-2*z))\n",
        "\n",
        "def log_loss(y, a):\n",
        "\n",
        "  assert(len(y)==len(a)), \"y e a devono avere la stessa dimensione\"\n",
        "\n",
        "  loss = 0\n",
        "\n",
        "  for y_i, a_i in zip(y,a):\n",
        "    loss += y_i*math.log(a_i)+(1-y_i)*math.log(1-a_i)\n",
        "\n",
        "  loss /= -len(y)\n",
        "  return loss\n",
        "\n"
      ],
      "metadata": {
        "id": "C0UlkxrSXy9Z"
      },
      "execution_count": null,
      "outputs": []
    },
    {
      "cell_type": "code",
      "source": [
        "sigmoid(1)"
      ],
      "metadata": {
        "colab": {
          "base_uri": "https://localhost:8080/"
        },
        "id": "NoZABM8hZ7SJ",
        "outputId": "1965488f-0670-4421-9c4e-22d3a0085230"
      },
      "execution_count": null,
      "outputs": [
        {
          "output_type": "execute_result",
          "data": {
            "text/plain": [
              "0.7310585786300049"
            ]
          },
          "metadata": {},
          "execution_count": 2
        }
      ]
    },
    {
      "cell_type": "code",
      "source": [
        "relu(-0.12)"
      ],
      "metadata": {
        "colab": {
          "base_uri": "https://localhost:8080/"
        },
        "id": "u9DH7EkcZ-aJ",
        "outputId": "6d9ee266-c3b4-45b7-ad8f-18ca0e8de555"
      },
      "execution_count": null,
      "outputs": [
        {
          "output_type": "execute_result",
          "data": {
            "text/plain": [
              "0"
            ]
          },
          "metadata": {},
          "execution_count": 3
        }
      ]
    },
    {
      "cell_type": "code",
      "source": [
        "relu(0.12)"
      ],
      "metadata": {
        "colab": {
          "base_uri": "https://localhost:8080/"
        },
        "id": "da_0a2praCQw",
        "outputId": "f0c4189b-65c3-43e0-b76b-557d5290a47c"
      },
      "execution_count": null,
      "outputs": [
        {
          "output_type": "execute_result",
          "data": {
            "text/plain": [
              "0.12"
            ]
          },
          "metadata": {},
          "execution_count": 4
        }
      ]
    },
    {
      "cell_type": "code",
      "source": [
        "tanh(1)"
      ],
      "metadata": {
        "colab": {
          "base_uri": "https://localhost:8080/"
        },
        "id": "AbpjqaRFaFOn",
        "outputId": "b89678aa-02ff-4fd8-d2cb-0e1d87477deb"
      },
      "execution_count": null,
      "outputs": [
        {
          "output_type": "execute_result",
          "data": {
            "text/plain": [
              "0.7615941559557649"
            ]
          },
          "metadata": {},
          "execution_count": 5
        }
      ]
    },
    {
      "cell_type": "code",
      "source": [
        "y = [1, 0, 1, 1, 0]\n",
        "\n",
        "a= [0.75, 0.4, 0.6, 0.8, 0.1]\n",
        "log_loss(y, a)"
      ],
      "metadata": {
        "colab": {
          "base_uri": "https://localhost:8080/"
        },
        "id": "UYTIjMnbaIzy",
        "outputId": "c3949c57-e1cc-4134-a5b7-59a90227cbd3"
      },
      "execution_count": null,
      "outputs": [
        {
          "output_type": "execute_result",
          "data": {
            "text/plain": [
              "0.32756747739115966"
            ]
          },
          "metadata": {},
          "execution_count": 6
        }
      ]
    },
    {
      "cell_type": "markdown",
      "source": [
        "#<mark> PyPIP e PiP"
      ],
      "metadata": {
        "id": "7ap7txBEJbWa"
      }
    },
    {
      "cell_type": "markdown",
      "source": [
        "Il Python Package Index conosciuto come PyPi è una repository di moduli, librerie e framework Open Source, realizzati dalla vastissima community di Python.\n",
        "\n",
        "Tipi di licenze Open Source:\n",
        "\n",
        "- MIT, BSD, Apache: Licenze che danno all'utente la libertà di fare quello che vuole con il codice\n",
        "\n",
        "- GPL, LGPL: Licenze di libero utilizzo, ma solo se il codice, anche se modificato, rimane open source\n",
        "\n",
        "\n",
        "pypi.org => link principale\n",
        "\n",
        "Per installare package si utilizza \"pip\""
      ],
      "metadata": {
        "id": "kKIdvvKIKTBu"
      }
    },
    {
      "cell_type": "code",
      "source": [
        "#per vedere che versione di pip abbiamo installato\n",
        "\n",
        "pip --version\n",
        "\n",
        "#evidentemente qui non lo possiamo vedere"
      ],
      "metadata": {
        "colab": {
          "base_uri": "https://localhost:8080/",
          "height": 176
        },
        "id": "yI0Tb34xKPA-",
        "outputId": "fa4e9948-3637-4dd6-bdd7-7f98af72d949"
      },
      "execution_count": null,
      "outputs": [
        {
          "output_type": "error",
          "ename": "NameError",
          "evalue": "name 'pip' is not defined",
          "traceback": [
            "\u001b[0;31m---------------------------------------------------------------------------\u001b[0m",
            "\u001b[0;31mNameError\u001b[0m                                 Traceback (most recent call last)",
            "\u001b[0;32m<ipython-input-1-b5d89960c343>\u001b[0m in \u001b[0;36m<cell line: 3>\u001b[0;34m()\u001b[0m\n\u001b[1;32m      1\u001b[0m \u001b[0;31m#per vedere che versione di pip abbiamo installato\u001b[0m\u001b[0;34m\u001b[0m\u001b[0;34m\u001b[0m\u001b[0m\n\u001b[1;32m      2\u001b[0m \u001b[0;34m\u001b[0m\u001b[0m\n\u001b[0;32m----> 3\u001b[0;31m \u001b[0mpip\u001b[0m \u001b[0;34m-\u001b[0m\u001b[0;34m-\u001b[0m\u001b[0mversion\u001b[0m\u001b[0;34m\u001b[0m\u001b[0;34m\u001b[0m\u001b[0m\n\u001b[0m",
            "\u001b[0;31mNameError\u001b[0m: name 'pip' is not defined"
          ]
        }
      ]
    },
    {
      "cell_type": "code",
      "source": [
        "pip freeze\n",
        "\n",
        "#vediamo tutti i moduli che abbiamo installato\n"
      ],
      "metadata": {
        "colab": {
          "base_uri": "https://localhost:8080/"
        },
        "id": "baOi3GahDN8F",
        "outputId": "e3ab9e05-ccda-42dc-9ef5-150b4e872825"
      },
      "execution_count": null,
      "outputs": [
        {
          "output_type": "stream",
          "name": "stdout",
          "text": [
            "absl-py==1.4.0\n",
            "accelerate==0.34.2\n",
            "aiohappyeyeballs==2.4.3\n",
            "aiohttp==3.10.10\n",
            "aiosignal==1.3.1\n",
            "alabaster==0.7.16\n",
            "albucore==0.0.16\n",
            "albumentations==1.4.15\n",
            "altair==4.2.2\n",
            "annotated-types==0.7.0\n",
            "anyio==3.7.1\n",
            "argon2-cffi==23.1.0\n",
            "argon2-cffi-bindings==21.2.0\n",
            "array_record==0.5.1\n",
            "arviz==0.19.0\n",
            "astropy==6.1.4\n",
            "astropy-iers-data==0.2024.10.14.0.32.55\n",
            "astunparse==1.6.3\n",
            "async-timeout==4.0.3\n",
            "atpublic==4.1.0\n",
            "attrs==24.2.0\n",
            "audioread==3.0.1\n",
            "autograd==1.7.0\n",
            "babel==2.16.0\n",
            "backcall==0.2.0\n",
            "beautifulsoup4==4.12.3\n",
            "bigframes==1.22.0\n",
            "bigquery-magics==0.4.0\n",
            "bleach==6.1.0\n",
            "blinker==1.4\n",
            "blis==0.7.11\n",
            "blosc2==2.0.0\n",
            "bokeh==3.4.3\n",
            "Bottleneck==1.4.1\n",
            "bqplot==0.12.43\n",
            "branca==0.8.0\n",
            "CacheControl==0.14.0\n",
            "cachetools==5.5.0\n",
            "catalogue==2.0.10\n",
            "certifi==2024.8.30\n",
            "cffi==1.17.1\n",
            "chardet==5.2.0\n",
            "charset-normalizer==3.4.0\n",
            "chex==0.1.87\n",
            "clarabel==0.9.0\n",
            "click==8.1.7\n",
            "cloudpathlib==0.19.0\n",
            "cloudpickle==3.1.0\n",
            "cmake==3.30.4\n",
            "cmdstanpy==1.2.4\n",
            "colorcet==3.1.0\n",
            "colorlover==0.3.0\n",
            "colour==0.1.5\n",
            "community==1.0.0b1\n",
            "confection==0.1.5\n",
            "cons==0.4.6\n",
            "contourpy==1.3.0\n",
            "cryptography==43.0.1\n",
            "cuda-python==12.2.1\n",
            "cudf-cu12 @ https://pypi.nvidia.com/cudf-cu12/cudf_cu12-24.10.1-cp310-cp310-manylinux_2_24_x86_64.manylinux_2_28_x86_64.whl\n",
            "cufflinks==0.17.3\n",
            "cupy-cuda12x==12.2.0\n",
            "cvxopt==1.3.2\n",
            "cvxpy==1.5.3\n",
            "cycler==0.12.1\n",
            "cymem==2.0.8\n",
            "Cython==3.0.11\n",
            "dask==2024.8.2\n",
            "datascience==0.17.6\n",
            "db-dtypes==1.3.0\n",
            "dbus-python==1.2.18\n",
            "debugpy==1.6.6\n",
            "decorator==4.4.2\n",
            "defusedxml==0.7.1\n",
            "Deprecated==1.2.14\n",
            "diffusers==0.30.3\n",
            "distro==1.7.0\n",
            "dlib==19.24.2\n",
            "dm-tree==0.1.8\n",
            "docker-pycreds==0.4.0\n",
            "docstring_parser==0.16\n",
            "docutils==0.18.1\n",
            "dopamine_rl==4.0.9\n",
            "duckdb==1.1.2\n",
            "earthengine-api==1.0.0\n",
            "easydict==1.13\n",
            "ecos==2.0.14\n",
            "editdistance==0.8.1\n",
            "eerepr==0.0.4\n",
            "einops==0.8.0\n",
            "en-core-web-sm @ https://github.com/explosion/spacy-models/releases/download/en_core_web_sm-3.7.1/en_core_web_sm-3.7.1-py3-none-any.whl#sha256=86cc141f63942d4b2c5fcee06630fd6f904788d2f0ab005cce45aadb8fb73889\n",
            "entrypoints==0.4\n",
            "et-xmlfile==1.1.0\n",
            "etils==1.9.4\n",
            "etuples==0.3.9\n",
            "eval_type_backport==0.2.0\n",
            "exceptiongroup==1.2.2\n",
            "fastai==2.7.17\n",
            "fastcore==1.7.16\n",
            "fastdownload==0.0.7\n",
            "fastjsonschema==2.20.0\n",
            "fastprogress==1.0.3\n",
            "fastrlock==0.8.2\n",
            "filelock==3.16.1\n",
            "firebase-admin==6.5.0\n",
            "Flask==2.2.5\n",
            "flatbuffers==24.3.25\n",
            "flax==0.8.5\n",
            "folium==0.17.0\n",
            "fonttools==4.54.1\n",
            "frozendict==2.4.6\n",
            "frozenlist==1.4.1\n",
            "fsspec==2024.6.1\n",
            "future==1.0.0\n",
            "gast==0.6.0\n",
            "gcsfs==2024.6.1\n",
            "GDAL==3.6.4\n",
            "gdown==5.2.0\n",
            "geemap==0.34.5\n",
            "gensim==4.3.3\n",
            "geocoder==1.38.1\n",
            "geographiclib==2.0\n",
            "geopandas==1.0.1\n",
            "geopy==2.4.1\n",
            "gin-config==0.5.0\n",
            "gitdb==4.0.11\n",
            "GitPython==3.1.43\n",
            "glob2==0.7\n",
            "google==2.0.3\n",
            "google-ai-generativelanguage==0.6.10\n",
            "google-api-core==2.19.2\n",
            "google-api-python-client==2.137.0\n",
            "google-auth==2.27.0\n",
            "google-auth-httplib2==0.2.0\n",
            "google-auth-oauthlib==1.2.1\n",
            "google-cloud-aiplatform==1.70.0\n",
            "google-cloud-bigquery==3.25.0\n",
            "google-cloud-bigquery-connection==1.15.5\n",
            "google-cloud-bigquery-storage==2.27.0\n",
            "google-cloud-bigtable==2.26.0\n",
            "google-cloud-core==2.4.1\n",
            "google-cloud-datastore==2.19.0\n",
            "google-cloud-firestore==2.16.1\n",
            "google-cloud-functions==1.16.5\n",
            "google-cloud-iam==2.15.2\n",
            "google-cloud-language==2.13.4\n",
            "google-cloud-pubsub==2.25.0\n",
            "google-cloud-resource-manager==1.12.5\n",
            "google-cloud-storage==2.8.0\n",
            "google-cloud-translate==3.15.5\n",
            "google-colab @ file:///colabtools/dist/google_colab-1.0.0.tar.gz\n",
            "google-crc32c==1.6.0\n",
            "google-generativeai==0.8.3\n",
            "google-pasta==0.2.0\n",
            "google-resumable-media==2.7.2\n",
            "googleapis-common-protos==1.65.0\n",
            "googledrivedownloader==0.4\n",
            "graphviz==0.20.3\n",
            "greenlet==3.1.1\n",
            "grpc-google-iam-v1==0.13.1\n",
            "grpcio==1.64.1\n",
            "grpcio-status==1.48.2\n",
            "gspread==6.0.2\n",
            "gspread-dataframe==3.3.1\n",
            "gym==0.25.2\n",
            "gym-notices==0.0.8\n",
            "h5netcdf==1.4.0\n",
            "h5py==3.11.0\n",
            "holidays==0.58\n",
            "holoviews==1.19.1\n",
            "html5lib==1.1\n",
            "httpimport==1.4.0\n",
            "httplib2==0.22.0\n",
            "huggingface-hub==0.24.7\n",
            "humanize==4.10.0\n",
            "hyperopt==0.2.7\n",
            "ibis-framework==9.2.0\n",
            "idna==3.10\n",
            "imageio==2.35.1\n",
            "imageio-ffmpeg==0.5.1\n",
            "imagesize==1.4.1\n",
            "imbalanced-learn==0.12.4\n",
            "imgaug==0.4.0\n",
            "immutabledict==4.2.0\n",
            "importlib_metadata==8.5.0\n",
            "importlib_resources==6.4.5\n",
            "imutils==0.5.4\n",
            "inflect==7.4.0\n",
            "iniconfig==2.0.0\n",
            "intel-cmplr-lib-ur==2024.2.1\n",
            "intel-openmp==2024.2.1\n",
            "ipyevents==2.0.2\n",
            "ipyfilechooser==0.6.0\n",
            "ipykernel==5.5.6\n",
            "ipyleaflet==0.19.2\n",
            "ipyparallel==8.8.0\n",
            "ipython==7.34.0\n",
            "ipython-genutils==0.2.0\n",
            "ipython-sql==0.5.0\n",
            "ipytree==0.2.2\n",
            "ipywidgets==7.7.1\n",
            "itsdangerous==2.2.0\n",
            "jax==0.4.33\n",
            "jax-cuda12-pjrt==0.4.33\n",
            "jax-cuda12-plugin==0.4.33\n",
            "jaxlib==0.4.33\n",
            "jeepney==0.7.1\n",
            "jellyfish==1.1.0\n",
            "jieba==0.42.1\n",
            "Jinja2==3.1.4\n",
            "joblib==1.4.2\n",
            "jsonpickle==3.3.0\n",
            "jsonschema==4.23.0\n",
            "jsonschema-specifications==2024.10.1\n",
            "jupyter-client==6.1.12\n",
            "jupyter-console==6.1.0\n",
            "jupyter-leaflet==0.19.2\n",
            "jupyter-server==1.24.0\n",
            "jupyter_core==5.7.2\n",
            "jupyterlab_pygments==0.3.0\n",
            "jupyterlab_widgets==3.0.13\n",
            "kaggle==1.6.17\n",
            "kagglehub==0.3.2\n",
            "keras==3.4.1\n",
            "keyring==23.5.0\n",
            "kiwisolver==1.4.7\n",
            "langcodes==3.4.1\n",
            "language_data==1.2.0\n",
            "launchpadlib==1.10.16\n",
            "lazr.restfulclient==0.14.4\n",
            "lazr.uri==1.0.6\n",
            "lazy_loader==0.4\n",
            "libclang==18.1.1\n",
            "libcudf-cu12 @ https://pypi.nvidia.com/libcudf-cu12/libcudf_cu12-24.10.1-py3-none-manylinux_2_28_x86_64.whl\n",
            "librosa==0.10.2.post1\n",
            "lightgbm==4.5.0\n",
            "linkify-it-py==2.0.3\n",
            "llvmlite==0.43.0\n",
            "locket==1.0.0\n",
            "logical-unification==0.4.6\n",
            "lxml==4.9.4\n",
            "marisa-trie==1.2.1\n",
            "Markdown==3.7\n",
            "markdown-it-py==3.0.0\n",
            "MarkupSafe==3.0.1\n",
            "matplotlib==3.7.1\n",
            "matplotlib-inline==0.1.7\n",
            "matplotlib-venn==1.1.1\n",
            "mdit-py-plugins==0.4.2\n",
            "mdurl==0.1.2\n",
            "miniKanren==1.0.3\n",
            "missingno==0.5.2\n",
            "mistune==0.8.4\n",
            "mizani==0.11.4\n",
            "mkl==2024.2.2\n",
            "ml-dtypes==0.4.1\n",
            "mlxtend==0.23.1\n",
            "more-itertools==10.5.0\n",
            "moviepy==1.0.3\n",
            "mpmath==1.3.0\n",
            "msgpack==1.1.0\n",
            "multidict==6.1.0\n",
            "multipledispatch==1.0.0\n",
            "multitasking==0.0.11\n",
            "murmurhash==1.0.10\n",
            "music21==9.1.0\n",
            "namex==0.0.8\n",
            "natsort==8.4.0\n",
            "nbclassic==1.1.0\n",
            "nbclient==0.10.0\n",
            "nbconvert==6.5.4\n",
            "nbformat==5.10.4\n",
            "nest-asyncio==1.6.0\n",
            "networkx==3.4.1\n",
            "nibabel==5.2.1\n",
            "nltk==3.8.1\n",
            "notebook==6.5.5\n",
            "notebook_shim==0.2.4\n",
            "numba==0.60.0\n",
            "numexpr==2.10.1\n",
            "numpy==1.26.4\n",
            "nvidia-cublas-cu12==12.6.3.3\n",
            "nvidia-cuda-cupti-cu12==12.6.80\n",
            "nvidia-cuda-nvcc-cu12==12.6.77\n",
            "nvidia-cuda-runtime-cu12==12.6.77\n",
            "nvidia-cudnn-cu12==9.5.0.50\n",
            "nvidia-cufft-cu12==11.3.0.4\n",
            "nvidia-curand-cu12==10.3.7.77\n",
            "nvidia-cusolver-cu12==11.7.1.2\n",
            "nvidia-cusparse-cu12==12.5.4.2\n",
            "nvidia-nccl-cu12==2.23.4\n",
            "nvidia-nvjitlink-cu12==12.6.77\n",
            "nvtx==0.2.10\n",
            "nx-cugraph-cu12 @ https://pypi.nvidia.com/nx-cugraph-cu12/nx_cugraph_cu12-24.10.0-py3-none-any.whl\n",
            "oauth2client==4.1.3\n",
            "oauthlib==3.2.2\n",
            "opencv-contrib-python==4.10.0.84\n",
            "opencv-python==4.10.0.84\n",
            "opencv-python-headless==4.10.0.84\n",
            "openpyxl==3.1.5\n",
            "opentelemetry-api==1.16.0\n",
            "opentelemetry-sdk==1.16.0\n",
            "opentelemetry-semantic-conventions==0.37b0\n",
            "opt_einsum==3.4.0\n",
            "optax==0.2.3\n",
            "optree==0.13.0\n",
            "orbax-checkpoint==0.6.4\n",
            "osqp==0.6.7.post3\n",
            "packaging==24.1\n",
            "pandas==2.2.2\n",
            "pandas-datareader==0.10.0\n",
            "pandas-gbq==0.23.2\n",
            "pandas-stubs==2.2.2.240909\n",
            "pandocfilters==1.5.1\n",
            "panel==1.4.5\n",
            "param==2.1.1\n",
            "parso==0.8.4\n",
            "parsy==2.1\n",
            "partd==1.4.2\n",
            "pathlib==1.0.1\n",
            "patsy==0.5.6\n",
            "peewee==3.17.7\n",
            "pexpect==4.9.0\n",
            "pickleshare==0.7.5\n",
            "pillow==10.4.0\n",
            "platformdirs==4.3.6\n",
            "plotly==5.24.1\n",
            "plotnine==0.13.6\n",
            "pluggy==1.5.0\n",
            "polars==1.7.1\n",
            "pooch==1.8.2\n",
            "portpicker==1.5.2\n",
            "preshed==3.0.9\n",
            "prettytable==3.11.0\n",
            "proglog==0.1.10\n",
            "progressbar2==4.5.0\n",
            "prometheus_client==0.21.0\n",
            "promise==2.3\n",
            "prompt_toolkit==3.0.48\n",
            "propcache==0.2.0\n",
            "prophet==1.1.6\n",
            "proto-plus==1.24.0\n",
            "protobuf==3.20.3\n",
            "psutil==5.9.5\n",
            "psycopg2==2.9.9\n",
            "ptyprocess==0.7.0\n",
            "py-cpuinfo==9.0.0\n",
            "py4j==0.10.9.7\n",
            "pyarrow==16.1.0\n",
            "pyarrow-hotfix==0.6\n",
            "pyasn1==0.6.1\n",
            "pyasn1_modules==0.4.1\n",
            "pycocotools==2.0.8\n",
            "pycparser==2.22\n",
            "pydantic==2.9.2\n",
            "pydantic_core==2.23.4\n",
            "pydata-google-auth==1.8.2\n",
            "pydot==3.0.2\n",
            "pydotplus==2.0.2\n",
            "PyDrive==1.3.1\n",
            "PyDrive2==1.20.0\n",
            "pyerfa==2.0.1.4\n",
            "pygame==2.6.1\n",
            "pygit2==1.15.1\n",
            "Pygments==2.18.0\n",
            "PyGObject==3.42.1\n",
            "PyJWT==2.9.0\n",
            "pylibcudf-cu12 @ https://pypi.nvidia.com/pylibcudf-cu12/pylibcudf_cu12-24.10.1-cp310-cp310-manylinux_2_24_x86_64.manylinux_2_28_x86_64.whl\n",
            "pylibcugraph-cu12==24.10.0\n",
            "pylibraft-cu12==24.10.0\n",
            "pymc==5.16.2\n",
            "pymystem3==0.2.0\n",
            "pynvjitlink-cu12==0.3.0\n",
            "pyogrio==0.10.0\n",
            "PyOpenGL==3.1.7\n",
            "pyOpenSSL==24.2.1\n",
            "pyparsing==3.2.0\n",
            "pyperclip==1.9.0\n",
            "pyproj==3.7.0\n",
            "pyshp==2.3.1\n",
            "PySocks==1.7.1\n",
            "pyspark==3.5.3\n",
            "pytensor==2.25.5\n",
            "pytest==7.4.4\n",
            "python-apt==0.0.0\n",
            "python-box==7.2.0\n",
            "python-dateutil==2.8.2\n",
            "python-louvain==0.16\n",
            "python-slugify==8.0.4\n",
            "python-utils==3.9.0\n",
            "pytz==2024.2\n",
            "pyviz_comms==3.0.3\n",
            "PyYAML==6.0.2\n",
            "pyzmq==24.0.1\n",
            "qdldl==0.1.7.post4\n",
            "ratelim==0.1.6\n",
            "referencing==0.35.1\n",
            "regex==2024.9.11\n",
            "requests==2.32.3\n",
            "requests-oauthlib==1.3.1\n",
            "requirements-parser==0.9.0\n",
            "rich==13.9.2\n",
            "rmm-cu12==24.10.0\n",
            "rpds-py==0.20.0\n",
            "rpy2==3.4.2\n",
            "rsa==4.9\n",
            "safetensors==0.4.5\n",
            "scikit-image==0.24.0\n",
            "scikit-learn==1.5.2\n",
            "scipy==1.13.1\n",
            "scooby==0.10.0\n",
            "scs==3.2.7\n",
            "seaborn==0.13.2\n",
            "SecretStorage==3.3.1\n",
            "Send2Trash==1.8.3\n",
            "sentencepiece==0.2.0\n",
            "sentry-sdk==2.16.0\n",
            "setproctitle==1.3.3\n",
            "shap==0.46.0\n",
            "shapely==2.0.6\n",
            "shellingham==1.5.4\n",
            "simple-parsing==0.1.6\n",
            "six==1.16.0\n",
            "sklearn-pandas==2.2.0\n",
            "slicer==0.0.8\n",
            "smart-open==7.0.5\n",
            "smmap==5.0.1\n",
            "sniffio==1.3.1\n",
            "snowballstemmer==2.2.0\n",
            "soundfile==0.12.1\n",
            "soupsieve==2.6\n",
            "soxr==0.5.0.post1\n",
            "spacy==3.7.5\n",
            "spacy-legacy==3.0.12\n",
            "spacy-loggers==1.0.5\n",
            "Sphinx==5.0.2\n",
            "sphinxcontrib-applehelp==2.0.0\n",
            "sphinxcontrib-devhelp==2.0.0\n",
            "sphinxcontrib-htmlhelp==2.1.0\n",
            "sphinxcontrib-jsmath==1.0.1\n",
            "sphinxcontrib-qthelp==2.0.0\n",
            "sphinxcontrib-serializinghtml==2.0.0\n",
            "SQLAlchemy==2.0.36\n",
            "sqlglot==25.1.0\n",
            "sqlparse==0.5.1\n",
            "srsly==2.4.8\n",
            "stanio==0.5.1\n",
            "statsmodels==0.14.4\n",
            "StrEnum==0.4.15\n",
            "sympy==1.13.3\n",
            "tables==3.8.0\n",
            "tabulate==0.9.0\n",
            "tbb==2021.13.1\n",
            "tenacity==9.0.0\n",
            "tensorboard==2.17.0\n",
            "tensorboard-data-server==0.7.2\n",
            "tensorflow==2.17.0\n",
            "tensorflow-datasets==4.9.6\n",
            "tensorflow-hub==0.16.1\n",
            "tensorflow-io-gcs-filesystem==0.37.1\n",
            "tensorflow-metadata==1.16.1\n",
            "tensorflow-probability==0.24.0\n",
            "tensorstore==0.1.66\n",
            "termcolor==2.5.0\n",
            "terminado==0.18.1\n",
            "text-unidecode==1.3\n",
            "textblob==0.17.1\n",
            "tf-slim==1.1.0\n",
            "tf_keras==2.17.0\n",
            "thinc==8.2.5\n",
            "threadpoolctl==3.5.0\n",
            "tifffile==2024.9.20\n",
            "timm==1.0.10\n",
            "tinycss2==1.3.0\n",
            "tokenizers==0.19.1\n",
            "toml==0.10.2\n",
            "tomli==2.0.2\n",
            "toolz==0.12.1\n",
            "torch @ https://download.pytorch.org/whl/cu121_full/torch-2.4.1%2Bcu121-cp310-cp310-linux_x86_64.whl\n",
            "torchaudio @ https://download.pytorch.org/whl/cu121_full/torchaudio-2.4.1%2Bcu121-cp310-cp310-linux_x86_64.whl\n",
            "torchsummary==1.5.1\n",
            "torchvision @ https://download.pytorch.org/whl/cu121_full/torchvision-0.19.1%2Bcu121-cp310-cp310-linux_x86_64.whl\n",
            "tornado==6.3.3\n",
            "tqdm==4.66.5\n",
            "traitlets==5.7.1\n",
            "traittypes==0.2.1\n",
            "transformers==4.44.2\n",
            "tweepy==4.14.0\n",
            "typeguard==4.3.0\n",
            "typer==0.12.5\n",
            "types-pytz==2024.2.0.20241003\n",
            "types-setuptools==75.1.0.20241014\n",
            "typing_extensions==4.12.2\n",
            "tzdata==2024.2\n",
            "tzlocal==5.2\n",
            "uc-micro-py==1.0.3\n",
            "uritemplate==4.1.1\n",
            "urllib3==2.2.3\n",
            "vega-datasets==0.9.0\n",
            "wadllib==1.3.6\n",
            "wandb==0.18.3\n",
            "wasabi==1.1.3\n",
            "wcwidth==0.2.13\n",
            "weasel==0.4.1\n",
            "webcolors==24.8.0\n",
            "webencodings==0.5.1\n",
            "websocket-client==1.8.0\n",
            "Werkzeug==3.0.4\n",
            "widgetsnbextension==3.6.9\n",
            "wordcloud==1.9.3\n",
            "wrapt==1.16.0\n",
            "xarray==2024.9.0\n",
            "xarray-einstats==0.8.0\n",
            "xgboost==2.1.1\n",
            "xlrd==2.0.1\n",
            "xyzservices==2024.9.0\n",
            "yarl==1.15.2\n",
            "yellowbrick==1.5\n",
            "yfinance==0.2.44\n",
            "zipp==3.20.2\n"
          ]
        }
      ]
    },
    {
      "cell_type": "code",
      "source": [
        "pip list\n",
        "#serve per vedere i packages in maniera più strutturata\n",
        "\n",
        "#qui non funziona perchè siamo su colab"
      ],
      "metadata": {
        "colab": {
          "base_uri": "https://localhost:8080/",
          "height": 158
        },
        "id": "5nWU9ArTDWtk",
        "outputId": "e4eb23a5-5145-4ace-acc8-7454a7678c2a"
      },
      "execution_count": null,
      "outputs": [
        {
          "output_type": "error",
          "ename": "NameError",
          "evalue": "name 'pip' is not defined",
          "traceback": [
            "\u001b[0;31m---------------------------------------------------------------------------\u001b[0m",
            "\u001b[0;31mNameError\u001b[0m                                 Traceback (most recent call last)",
            "\u001b[0;32m<ipython-input-4-5d4fdb2bd6dc>\u001b[0m in \u001b[0;36m<cell line: 1>\u001b[0;34m()\u001b[0m\n\u001b[0;32m----> 1\u001b[0;31m \u001b[0mpip\u001b[0m\u001b[0;34m(\u001b[0m\u001b[0mlist\u001b[0m\u001b[0;34m)\u001b[0m\u001b[0;34m\u001b[0m\u001b[0;34m\u001b[0m\u001b[0m\n\u001b[0m\u001b[1;32m      2\u001b[0m \u001b[0;31m#serve per vedere i packages in maniera più strutturata\u001b[0m\u001b[0;34m\u001b[0m\u001b[0;34m\u001b[0m\u001b[0m\n",
            "\u001b[0;31mNameError\u001b[0m: name 'pip' is not defined"
          ]
        }
      ]
    },
    {
      "cell_type": "code",
      "source": [
        "pip install chuck-norris-python\n",
        "\n",
        "#installiamo questo modulo molto divertente su chuck norris"
      ],
      "metadata": {
        "colab": {
          "base_uri": "https://localhost:8080/"
        },
        "id": "1nJmYFf8D0vl",
        "outputId": "4de0888d-1395-4ff3-9089-2657f1d56974"
      },
      "execution_count": null,
      "outputs": [
        {
          "output_type": "stream",
          "name": "stdout",
          "text": [
            "Collecting chuck-norris-python\n",
            "  Downloading chuck-norris-python-1.2.tar.gz (2.2 kB)\n",
            "  Preparing metadata (setup.py) ... \u001b[?25l\u001b[?25hdone\n",
            "Requirement already satisfied: requests in /usr/local/lib/python3.10/dist-packages (from chuck-norris-python) (2.32.3)\n",
            "Requirement already satisfied: charset-normalizer<4,>=2 in /usr/local/lib/python3.10/dist-packages (from requests->chuck-norris-python) (3.4.0)\n",
            "Requirement already satisfied: idna<4,>=2.5 in /usr/local/lib/python3.10/dist-packages (from requests->chuck-norris-python) (3.10)\n",
            "Requirement already satisfied: urllib3<3,>=1.21.1 in /usr/local/lib/python3.10/dist-packages (from requests->chuck-norris-python) (2.2.3)\n",
            "Requirement already satisfied: certifi>=2017.4.17 in /usr/local/lib/python3.10/dist-packages (from requests->chuck-norris-python) (2024.8.30)\n",
            "Building wheels for collected packages: chuck-norris-python\n",
            "  Building wheel for chuck-norris-python (setup.py) ... \u001b[?25l\u001b[?25hdone\n",
            "  Created wheel for chuck-norris-python: filename=chuck_norris_python-1.2-py3-none-any.whl size=2279 sha256=c3baff15d22fc3b89084c78bc649d544615bc0e890b74828d0d5294c0dffd898\n",
            "  Stored in directory: /root/.cache/pip/wheels/56/25/89/719ca21ef0eae7ad1f21c9004b2d258ef833a6df270e5c2322\n",
            "Successfully built chuck-norris-python\n",
            "Installing collected packages: chuck-norris-python\n",
            "Successfully installed chuck-norris-python-1.2\n"
          ]
        }
      ]
    },
    {
      "cell_type": "markdown",
      "source": [
        "Oltre al modulo vengono installate anche le sue dipendenze, eventuali altri moduli e librerie che servono al funzionamento del modulo. (Tutto fatto automaticamente da pip).\n",
        "\n",
        "Dopo aver installato un nuovo package dobbiamo riavviare il kernel.\n",
        "Tutti i package installati tramite pip vanno a finire dentro una cartella lib.\n",
        "\n",
        "In particolare questo modulo su chucknorris installa anche il modulo requests in quanto fa delle richiese al database su chuck norris tramite l'api.\n",
        "\n",
        "Tutti u package hanno la propria documentazione che ci spiega come utilizzare il package."
      ],
      "metadata": {
        "id": "rID6CVakEFsP"
      }
    },
    {
      "cell_type": "code",
      "source": [
        "import requests\n",
        "from chuck import ChuckNorris\n"
      ],
      "metadata": {
        "id": "RyrTXKtPFXak"
      },
      "execution_count": null,
      "outputs": []
    },
    {
      "cell_type": "code",
      "source": [
        "cn = ChuckNorris()\n",
        "\n",
        "data = cn.random()\n",
        "\n",
        "print(data)"
      ],
      "metadata": {
        "colab": {
          "base_uri": "https://localhost:8080/"
        },
        "id": "BDtKTgT-FsQ4",
        "outputId": "ec640abf-5992-4c05-e54d-ec4344c274d6"
      },
      "execution_count": null,
      "outputs": [
        {
          "output_type": "stream",
          "name": "stdout",
          "text": [
            "<Norris: None>\n"
          ]
        }
      ]
    },
    {
      "cell_type": "markdown",
      "source": [
        "Vediamo come disinstallare un modulo adesso.\n"
      ],
      "metadata": {
        "id": "3XCsurTaF06v"
      }
    },
    {
      "cell_type": "code",
      "source": [
        "pip uninstall chuck-norris-python\n",
        "\n",
        "#abbiamo cosi disinstallato il package"
      ],
      "metadata": {
        "colab": {
          "base_uri": "https://localhost:8080/"
        },
        "id": "Cnlm0ppKF6Vh",
        "outputId": "b9ced76e-a8ab-41f9-f693-b4f6c4b29b87"
      },
      "execution_count": null,
      "outputs": [
        {
          "output_type": "stream",
          "name": "stdout",
          "text": [
            "Found existing installation: chuck-norris-python 1.2\n",
            "Uninstalling chuck-norris-python-1.2:\n",
            "  Would remove:\n",
            "    /usr/local/lib/python3.10/dist-packages/chuck/*\n",
            "    /usr/local/lib/python3.10/dist-packages/chuck_norris_python-1.2.dist-info/*\n",
            "Proceed (Y/n)? y\n",
            "  Successfully uninstalled chuck-norris-python-1.2\n"
          ]
        }
      ]
    },
    {
      "cell_type": "markdown",
      "source": [
        "Facciamo un esempio con requests che è un package che ci permette di fare richieste http da python:\n",
        "\n",
        "get\n",
        "\n",
        "post\n",
        "\n",
        "put\n",
        "\n",
        "delete\n",
        "\n",
        "per installare una versione specifica ci basta aggiungere dopo il nome == e poi la versione con il major,minor,micro.\n",
        "\n"
      ],
      "metadata": {
        "id": "Rq-jzznfKnhw"
      }
    },
    {
      "cell_type": "code",
      "source": [
        "pip install requests\n",
        "\n",
        "#ho provato a scaricare la versione 1.0.0 ma non me la fa scaricare per qualche motivo\n",
        "#C'è un conflitto di dipendenze, utilizzare moduli troppo vecchi non è un'ottima idea"
      ],
      "metadata": {
        "colab": {
          "base_uri": "https://localhost:8080/"
        },
        "id": "vlcZZCUKK-eY",
        "outputId": "1da5422a-e5c3-4c2d-bfa5-f09a9f24b6f9"
      },
      "execution_count": null,
      "outputs": [
        {
          "output_type": "stream",
          "name": "stdout",
          "text": [
            "Requirement already satisfied: requests in /usr/local/lib/python3.10/dist-packages (2.32.3)\n",
            "Requirement already satisfied: charset-normalizer<4,>=2 in /usr/local/lib/python3.10/dist-packages (from requests) (3.4.0)\n",
            "Requirement already satisfied: idna<4,>=2.5 in /usr/local/lib/python3.10/dist-packages (from requests) (3.10)\n",
            "Requirement already satisfied: urllib3<3,>=1.21.1 in /usr/local/lib/python3.10/dist-packages (from requests) (2.2.3)\n",
            "Requirement already satisfied: certifi>=2017.4.17 in /usr/local/lib/python3.10/dist-packages (from requests) (2024.8.30)\n"
          ]
        }
      ]
    },
    {
      "cell_type": "code",
      "source": [
        "#mettiamo caso che vogliamo installare la triade del calcolo scientifico su python\n",
        "\n",
        "#numpy, matplotlib, scipy\n"
      ],
      "metadata": {
        "id": "alGWtFaiL23W"
      },
      "execution_count": null,
      "outputs": []
    },
    {
      "cell_type": "code",
      "source": [
        "pip install numpy scipy matplotlib"
      ],
      "metadata": {
        "colab": {
          "base_uri": "https://localhost:8080/"
        },
        "id": "dkgmGmIaMyCm",
        "outputId": "15859c5f-dde1-4a09-818e-a2c025a504ba"
      },
      "execution_count": null,
      "outputs": [
        {
          "output_type": "stream",
          "name": "stdout",
          "text": [
            "Requirement already satisfied: numpy in /usr/local/lib/python3.10/dist-packages (1.26.4)\n",
            "Requirement already satisfied: scipy in /usr/local/lib/python3.10/dist-packages (1.13.1)\n",
            "Requirement already satisfied: matplotlib in /usr/local/lib/python3.10/dist-packages (3.7.1)\n",
            "Requirement already satisfied: contourpy>=1.0.1 in /usr/local/lib/python3.10/dist-packages (from matplotlib) (1.3.0)\n",
            "Requirement already satisfied: cycler>=0.10 in /usr/local/lib/python3.10/dist-packages (from matplotlib) (0.12.1)\n",
            "Requirement already satisfied: fonttools>=4.22.0 in /usr/local/lib/python3.10/dist-packages (from matplotlib) (4.54.1)\n",
            "Requirement already satisfied: kiwisolver>=1.0.1 in /usr/local/lib/python3.10/dist-packages (from matplotlib) (1.4.7)\n",
            "Requirement already satisfied: packaging>=20.0 in /usr/local/lib/python3.10/dist-packages (from matplotlib) (24.1)\n",
            "Requirement already satisfied: pillow>=6.2.0 in /usr/local/lib/python3.10/dist-packages (from matplotlib) (10.4.0)\n",
            "Requirement already satisfied: pyparsing>=2.3.1 in /usr/local/lib/python3.10/dist-packages (from matplotlib) (3.2.0)\n",
            "Requirement already satisfied: python-dateutil>=2.7 in /usr/local/lib/python3.10/dist-packages (from matplotlib) (2.8.2)\n",
            "Requirement already satisfied: six>=1.5 in /usr/local/lib/python3.10/dist-packages (from python-dateutil>=2.7->matplotlib) (1.16.0)\n"
          ]
        }
      ]
    },
    {
      "cell_type": "code",
      "source": [
        "pip freeze > requirements.txt #questo ci permette di prendere pip freeze ed inserirlo all'interno del file requirements"
      ],
      "metadata": {
        "id": "lzKPuXmbNBz5"
      },
      "execution_count": null,
      "outputs": []
    },
    {
      "cell_type": "markdown",
      "source": [
        "Nel file requirements troveremo, avremo l'output di freeze, ovvero tutti i moduli che abbiamo installato su questo computer a questo punto per reinstallare tutto ciò che è presente nel documento di requirements dobbiamo fare solo:"
      ],
      "metadata": {
        "id": "aHeFnNsBNnIW"
      }
    },
    {
      "cell_type": "code",
      "source": [
        "pip install -r requirements.txt"
      ],
      "metadata": {
        "colab": {
          "base_uri": "https://localhost:8080/"
        },
        "id": "1rHtEQk2N256",
        "outputId": "a2959d30-be18-4686-a583-aa7bba6da8f9"
      },
      "execution_count": null,
      "outputs": [
        {
          "output_type": "stream",
          "name": "stdout",
          "text": [
            "Collecting cudf-cu12@ https://pypi.nvidia.com/cudf-cu12/cudf_cu12-24.10.1-cp310-cp310-manylinux_2_24_x86_64.manylinux_2_28_x86_64.whl (from -r requirements.txt (line 60))\n",
            "  Downloading https://pypi.nvidia.com/cudf-cu12/cudf_cu12-24.10.1-cp310-cp310-manylinux_2_24_x86_64.manylinux_2_28_x86_64.whl (24.9 MB)\n",
            "\u001b[2K     \u001b[90m━━━━━━━━━━━━━━━━━━━━━━━━━━━━━━━━━━━━━━━━\u001b[0m \u001b[32m24.9/24.9 MB\u001b[0m \u001b[31m46.4 MB/s\u001b[0m eta \u001b[36m0:00:00\u001b[0m\n",
            "\u001b[?25hCollecting en-core-web-sm@ https://github.com/explosion/spacy-models/releases/download/en_core_web_sm-3.7.1/en_core_web_sm-3.7.1-py3-none-any.whl#sha256=86cc141f63942d4b2c5fcee06630fd6f904788d2f0ab005cce45aadb8fb73889 (from -r requirements.txt (line 91))\n",
            "  Downloading https://github.com/explosion/spacy-models/releases/download/en_core_web_sm-3.7.1/en_core_web_sm-3.7.1-py3-none-any.whl (12.8 MB)\n",
            "\u001b[2K     \u001b[90m━━━━━━━━━━━━━━━━━━━━━━━━━━━━━━━━━━━━━━━━\u001b[0m \u001b[32m12.8/12.8 MB\u001b[0m \u001b[31m60.3 MB/s\u001b[0m eta \u001b[36m0:00:00\u001b[0m\n",
            "\u001b[?25hProcessing /colabtools/dist/google_colab-1.0.0.tar.gz (from -r requirements.txt (line 151))\n",
            "\u001b[31mERROR: Could not install packages due to an OSError: [Errno 2] No such file or directory: '/colabtools/dist/google_colab-1.0.0.tar.gz'\n",
            "\u001b[0m\u001b[31m\n",
            "\u001b[0m"
          ]
        }
      ]
    },
    {
      "cell_type": "markdown",
      "source": [
        "#<mark> Esercizio sui moduli con pip  ESERCIZIO PIU DIFFICILE\n",
        "\n"
      ],
      "metadata": {
        "id": "LN8CSA8uOJlZ"
      }
    },
    {
      "cell_type": "markdown",
      "source": [
        "Dobbiamo creare un editor di immagini, andando a scegliere i moduli da utilizzare dal Python Package Index e studiando la loro documentazione. Per la ricerca non ti basare solo su PyPi, Google, StackOverflow e Github sono anche tuoi amici.\n",
        "\n",
        "Il programma dovrà chiedere all'utente il percorso ad un'immagine jpg o png, prima di andare avanti il programma deve assicurarsi che l'immagine effettivamente esista (suggerimento, dai uno sguardo al modulo path di os) e che abbia una delle due estensioni accettate, altrimenti deve mostrare un avviso ed uscire.\n",
        "\n",
        "\n",
        "\n",
        "In seguito, dovrà stampare su schermo:\n",
        "\n",
        "1. Nome dell'immagine (solo nome senza percorso)\n",
        "\n",
        "2. Estensione dell'immagine (jpg opng)\n",
        "\n",
        "3. Risoluzione dell'immagine( larghezza x altezza).\n",
        "\n",
        "\n",
        "\n",
        "Fatto ciò, il programma deve chiedere all'utente se vuole cambiare la risoluzione dell'immagine, l'utente dovrà inserire una risoluzione in formato Larghezza x Altezza oppure lasciare vuoto, se lascia vuoto la risoluzione non verrà modificata.\n",
        "\n",
        "\n",
        "Se le proporzioni saranno differenti da quelle originali, allora il programma dovrà chiedere all'utente se vuole mantenerle, in caso positivo bisogna modificare larghezza/altezza inserita dall'utente per mantenere le proporzioni originali.\n",
        "\n",
        "In seguito il programma dovrà chiedere all'utente se vuole convertire l'immagine in bianco e nero, in caso positivo dovrà farlo.\n",
        "\n",
        "Se si usa Jupyter notebook o Google Colab, prova a mostrare l'immagine finale dentro il notebook."
      ],
      "metadata": {
        "id": "eyzbliDcQSJR"
      }
    },
    {
      "cell_type": "code",
      "source": [
        "pip install Pillow"
      ],
      "metadata": {
        "colab": {
          "base_uri": "https://localhost:8080/"
        },
        "id": "tQ79wQuzON3v",
        "outputId": "d39c055c-94f6-4b1e-f11b-d1a2aa01f482"
      },
      "execution_count": null,
      "outputs": [
        {
          "output_type": "stream",
          "name": "stdout",
          "text": [
            "Requirement already satisfied: Pillow in /usr/local/lib/python3.10/dist-packages (10.4.0)\n"
          ]
        }
      ]
    },
    {
      "cell_type": "code",
      "source": [
        "pip show Pillow"
      ],
      "metadata": {
        "colab": {
          "base_uri": "https://localhost:8080/"
        },
        "id": "T3MLzPgnZUmL",
        "outputId": "381d097a-f615-4526-ae8b-eb8fa2d449e2"
      },
      "execution_count": null,
      "outputs": [
        {
          "output_type": "stream",
          "name": "stdout",
          "text": [
            "Name: pillow\n",
            "Version: 10.4.0\n",
            "Summary: Python Imaging Library (Fork)\n",
            "Home-page: https://python-pillow.org\n",
            "Author: \n",
            "Author-email: \"Jeffrey A. Clark\" <aclark@aclark.net>\n",
            "License: HPND\n",
            "Location: /usr/local/lib/python3.10/dist-packages\n",
            "Requires: \n",
            "Required-by: bokeh, diffusers, dopamine_rl, fastai, imageio, imgaug, matplotlib, scikit-image, torchvision, wordcloud\n"
          ]
        }
      ]
    },
    {
      "cell_type": "code",
      "source": [
        "import os\n",
        "import time\n",
        "os.getcwd()"
      ],
      "metadata": {
        "colab": {
          "base_uri": "https://localhost:8080/",
          "height": 35
        },
        "id": "k-NnRE02bGOF",
        "outputId": "c06296d5-5abf-49b4-ac3f-1197ecf14280"
      },
      "execution_count": null,
      "outputs": [
        {
          "output_type": "execute_result",
          "data": {
            "text/plain": [
              "'/content'"
            ],
            "application/vnd.google.colaboratory.intrinsic+json": {
              "type": "string"
            }
          },
          "metadata": {},
          "execution_count": 1
        }
      ]
    },
    {
      "cell_type": "code",
      "source": [
        "os.listdir()"
      ],
      "metadata": {
        "colab": {
          "base_uri": "https://localhost:8080/"
        },
        "id": "iSomKQNxbcBx",
        "outputId": "88851290-1092-44da-ad63-86514d83ba3f"
      },
      "execution_count": null,
      "outputs": [
        {
          "output_type": "execute_result",
          "data": {
            "text/plain": [
              "['.config', 'Adi.jpeg', 'sample_data']"
            ]
          },
          "metadata": {},
          "execution_count": 3
        }
      ]
    },
    {
      "cell_type": "code",
      "source": [
        "PATH = \"/content/\"\n",
        "im = input(\"Inserisci il percorso dell'immagine che vuoi visualizzare: \")\n",
        "\n",
        "im_path = PATH + im\n",
        "\n",
        "if not (im_path.lower().endswith(\".jpeg\") or im_path.lower().endswith(\".png\")):\n",
        "\n",
        "  print(\"Il formato della foto selezionato non è .png e nemmeno .jpeg\")\n",
        "\n",
        "else:\n",
        "\n",
        "  print(\"Puoi proseguire\")\n",
        "\n",
        "\n"
      ],
      "metadata": {
        "colab": {
          "base_uri": "https://localhost:8080/"
        },
        "id": "psiHtTGpaq3J",
        "outputId": "b303a01e-3f3e-4769-bb8d-89b1b4655170"
      },
      "execution_count": null,
      "outputs": [
        {
          "output_type": "stream",
          "name": "stdout",
          "text": [
            "Inserisci il percorso dell'immagine che vuoi visualizzare: Adi.jpeg\n",
            "Puoi proseguire\n"
          ]
        }
      ]
    },
    {
      "cell_type": "code",
      "source": [
        "from PIL import Image\n",
        "img = Image.open(im_path)\n",
        "\n",
        "img.show() #se lavoraiamo su google colab show non avrà nessun effetto perchè stiamo lavorando su un server di google."
      ],
      "metadata": {
        "id": "yoSM_vR_ajtl"
      },
      "execution_count": null,
      "outputs": []
    },
    {
      "cell_type": "code",
      "source": [
        "img.size"
      ],
      "metadata": {
        "colab": {
          "base_uri": "https://localhost:8080/"
        },
        "id": "hO6XVaGEQ01b",
        "outputId": "e91edcbf-0f48-485a-c13c-750740906cb5"
      },
      "execution_count": null,
      "outputs": [
        {
          "output_type": "execute_result",
          "data": {
            "text/plain": [
              "(3088, 2316)"
            ]
          },
          "metadata": {},
          "execution_count": 7
        }
      ]
    },
    {
      "cell_type": "code",
      "source": [
        "img.format"
      ],
      "metadata": {
        "colab": {
          "base_uri": "https://localhost:8080/",
          "height": 35
        },
        "id": "LeW4g1IfQ8H1",
        "outputId": "457ae579-d2d3-45e9-f554-2f1cf76872e0"
      },
      "execution_count": null,
      "outputs": [
        {
          "output_type": "execute_result",
          "data": {
            "text/plain": [
              "'JPEG'"
            ],
            "application/vnd.google.colaboratory.intrinsic+json": {
              "type": "string"
            }
          },
          "metadata": {},
          "execution_count": 8
        }
      ]
    },
    {
      "cell_type": "code",
      "source": [
        "from PIL import Image\n",
        "from os.path import isfile\n",
        "\n",
        "def is_valid_img(img, accepted_exts =[\"JPG\", \"PMG\"]):\n",
        "  return img.format in accepted_exts\n",
        "\n",
        "\n",
        "img_path = input(\"Inserisci il percorso all'immagine: \")\n",
        "\n",
        "assert(isfile(img_path)), f\"{img_path non esiste}\"\n",
        "\n",
        "img = Image.open(img_path)\n",
        "assert(is_valid_img(img)), f\"{img_path} non ha un fromato valido!.\"\n",
        "\n",
        "assert(is_valid_img())"
      ],
      "metadata": {
        "colab": {
          "base_uri": "https://localhost:8080/",
          "height": 106
        },
        "id": "hMY8I7jkRLs9",
        "outputId": "90ca84e6-dafb-4f9c-f025-38f079300efa"
      },
      "execution_count": null,
      "outputs": [
        {
          "output_type": "error",
          "ename": "SyntaxError",
          "evalue": "f-string: invalid syntax. Perhaps you forgot a comma? (<ipython-input-12-8192bbe1b156>, line 10)",
          "traceback": [
            "\u001b[0;36m  File \u001b[0;32m\"<ipython-input-12-8192bbe1b156>\"\u001b[0;36m, line \u001b[0;32m10\u001b[0m\n\u001b[0;31m    assert(isfile(img_path)), f\"{img_path non esiste}\"\u001b[0m\n\u001b[0m     ^\u001b[0m\n\u001b[0;31mSyntaxError\u001b[0m\u001b[0;31m:\u001b[0m f-string: invalid syntax. Perhaps you forgot a comma?\n"
          ]
        }
      ]
    },
    {
      "cell_type": "markdown",
      "source": [
        "<mark> Sviluppo incrementale\n",
        "\n",
        "E' un approccio di scrittura di un codice che si basa su sviluppo di pezzi di programma che mano a mano proviamo.\n",
        "\n",
        "Per stampare la foto dobbiamo avvalerci dell'uso di matplotlib che ci permette di creare grafici e visualizzazioni grafiche."
      ],
      "metadata": {
        "id": "h8oyCEnjTyqm"
      }
    }
  ]
}