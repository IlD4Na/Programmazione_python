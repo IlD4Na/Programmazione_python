{
  "nbformat": 4,
  "nbformat_minor": 0,
  "metadata": {
    "colab": {
      "provenance": []
    },
    "kernelspec": {
      "name": "python3",
      "display_name": "Python 3"
    },
    "language_info": {
      "name": "python"
    }
  },
  "cells": [
    {
      "cell_type": "markdown",
      "source": [
        "# Programmazione ad Oggetti"
      ],
      "metadata": {
        "id": "AQRWUA3_fwz3"
      }
    },
    {
      "cell_type": "markdown",
      "source": [
        "Il funzionamento di un oggetto si basa su un semplice concetto: i dati e le procedure sono contenute all'interno del progetto stesso.\n",
        "\n",
        "Dati ==> Vengono chiamati ATTRIBUTI\n",
        "Procedure/funzioni ==> Vengono chiamati METODI\n",
        "\n",
        "Questo procedimento prende nome di \"Incapsulamento\".\n",
        "\n"
      ],
      "metadata": {
        "id": "AsHm2uvofsqN"
      }
    },
    {
      "cell_type": "markdown",
      "source": [
        "<mark> __init__ è il costruttore della classe\n",
        "\n",
        "All'interno di init si possono definire gli attributi usando \"self\" che è un riferimento all'istanza corrente dell'oggetto.\n",
        "\n",
        "\n",
        "\n",
        "```\n",
        "# class Square:\n",
        "    def __init__(self, l):  # Questo è il costruttore\n",
        "        self.l = l #qui invece abbiamo self.l che è l'attributo della classe\n",
        "\n",
        "    def area(self):    #metodo\n",
        "        return self.l**2\n",
        "\n",
        "    def perimeter(self):     #altro metodo\n",
        "        return self.l*4\n",
        "      \n",
        "```\n",
        "\n",
        "Quando noi andiamo a passare un valore all'oggetto, quel valore verrà poi passato al costruttore init.\n",
        "\n",
        "\n",
        "\n",
        "```\n",
        "square = Square(4)\n",
        "```\n",
        "Qui sopra noi stiamo creando uno specifico oggetto, chiamato istanza, partendo da una classe. Stiamo istanziando l'oggetto.\n",
        "\n",
        "Un classe è un template che contiene le specifiche degli oggetti.\n",
        "\n",
        "Un oggetto è ciò che possiamo creare utilizzando la classe.\n",
        "\n",
        "Un'istanza è ciò che bbiamo creato e che possiamo utilizzare\n",
        "\n",
        "Vediamo come usare la classe\n",
        "\n",
        "\n",
        "\n",
        "```\n",
        "# square = Square(4)\n",
        "\n",
        "print(square.perimeter())\n",
        "\n",
        "print(square.area())\n",
        "```\n",
        "\n",
        "Questa è una tecnica che viene usata l'instanziamento dell'oggetto\n",
        "\n",
        "\n"
      ],
      "metadata": {
        "id": "TbcKjkPQKD2O"
      }
    },
    {
      "cell_type": "code",
      "execution_count": null,
      "metadata": {
        "id": "BsKj5CCXfo0Y"
      },
      "outputs": [],
      "source": [
        "class Triangle:\n",
        "\n",
        "  def perimeter(a, b, c):\n",
        "    return a + b + c\n",
        "\n",
        "  def area(b, h):\n",
        "    return b*h/2"
      ]
    },
    {
      "cell_type": "code",
      "source": [
        "a = 10 #integer\n",
        "c = 10 #integer\n",
        "b = 15 #integer\n",
        "h = 7.5 #float\n",
        "\n",
        "\n",
        "perimeter = Triangle.perimeter(a, b, c)\n",
        "\n",
        "area = Triangle.area(b,h)\n",
        "\n",
        "print(f\"Il perimetro del triangolo di lati {a}, {b} e {c} è {perimeter}\")\n",
        "\n",
        "print(f\"L'area del triangolo con base {b} e altezza {h} è {area}\")"
      ],
      "metadata": {
        "colab": {
          "base_uri": "https://localhost:8080/"
        },
        "id": "2uvoTZN0gBQp",
        "outputId": "7d957865-aa1d-4da1-9bf9-524bb7f26799"
      },
      "execution_count": null,
      "outputs": [
        {
          "output_type": "stream",
          "name": "stdout",
          "text": [
            "Il perimetro del triangolo di lati 10, 15 e 10 è 35\n",
            "L'area del triangolo con base 15 e altezza 7.5 è 56.25\n"
          ]
        }
      ]
    },
    {
      "cell_type": "markdown",
      "source": [
        "In questo momento abbiamo usato in modo statico i metodi di una classe. Non abbiamo creato un'istanza per utilizzare i metodi dalla nostra istanza ma abbiamo creato una classe statica. QUindi abbiamo utilizzato i metodi della classe stessa.\n",
        "\n",
        "# <mark>  Vediamo adesso come usare la nostra classe come se fosse un oggetto."
      ],
      "metadata": {
        "id": "UvMFHRKog1Dr"
      }
    },
    {
      "cell_type": "code",
      "source": [
        "class Triangle:\n",
        "\n",
        "  def perimeter(self, a, b, c):\n",
        "    return a + b + c\n",
        "\n",
        "  def area(self, b, h):\n",
        "    return b*h/2"
      ],
      "metadata": {
        "id": "T1T_tnEEhK_W"
      },
      "execution_count": null,
      "outputs": []
    },
    {
      "cell_type": "code",
      "source": [
        "a = 10 #integer\n",
        "c = 10 #integer\n",
        "b = 15 #integer\n",
        "h = 7.5 #float\n",
        "\n",
        "triangle =Triangle()\n",
        "\n",
        "perimeter = triangle.perimeter(a, b, c)\n",
        "\n",
        "area = triangle.area(b,h)\n",
        "\n",
        "print(f\"Il perimetro del triangolo di lati {a}, {b} e {c} è {perimeter}\")\n",
        "\n",
        "print(f\"L'area del triangolo con base {b} e altezza {h} è {area}\")"
      ],
      "metadata": {
        "colab": {
          "base_uri": "https://localhost:8080/"
        },
        "id": "JBH6rnBchxvL",
        "outputId": "36eec952-391e-4526-b84d-bd19d13567c0"
      },
      "execution_count": null,
      "outputs": [
        {
          "output_type": "stream",
          "name": "stdout",
          "text": [
            "Il perimetro del triangolo di lati 10, 15 e 10 è 35\n",
            "L'area del triangolo con base 15 e altezza 7.5 è 56.25\n"
          ]
        }
      ]
    },
    {
      "cell_type": "markdown",
      "source": [
        "Qui abbiamo assegnato alla variabile triangle la classe Triangle(), qui abbiamo usato l'istanza della classe appena creata.\n",
        "\n",
        "La differenza è che andiamo a creare degli attributi.\n",
        "\n",
        "Ciò che abbiamo fatto sopra è concettualmente sbagliato perchè i lati e l'altezza sono delle proprietà della classe quindi dovremmo immagazinarli come attributi alla creazione dell'oggetto senza andarli a apssare ogni volta per i calcoli di perimetro e area.\n",
        "\n",
        "Abbiamo creato il costruttore della classe sotto."
      ],
      "metadata": {
        "id": "gw9pYMz_h5GS"
      }
    },
    {
      "cell_type": "code",
      "source": [
        "class Triangle:\n",
        "\n",
        "  def __init__(self, a, b, c, h):\n",
        "    self.a = a\n",
        "    self.b = b\n",
        "    self.c = c\n",
        "    self.h = h\n",
        "    #Qui li abbiamo immagazinati come appositi attributi\n",
        "\n",
        "  def perimeter(self):\n",
        "    return self.a + self.b + self.c\n",
        "\n",
        "  def area(self):\n",
        "    return self.b*self.h/2"
      ],
      "metadata": {
        "id": "RYYjjzO9iQsx"
      },
      "execution_count": null,
      "outputs": []
    },
    {
      "cell_type": "code",
      "source": [
        "a = 10 #integer\n",
        "c = 10 #integer\n",
        "b = 15 #integer\n",
        "h = 7.5 #float\n",
        "\n",
        "triangle =Triangle(a, b, c, h) #qui istanziamo la classe\n",
        "\n",
        "perimeter = triangle.perimeter()\n",
        "\n",
        "area = triangle.area()\n",
        "\n",
        "print(f\"Il perimetro del triangolo di lati {a}, {b} e {c} è {perimeter}\")\n",
        "\n",
        "print(f\"L'area del triangolo con base {b} e altezza {h} è {area}\")"
      ],
      "metadata": {
        "colab": {
          "base_uri": "https://localhost:8080/"
        },
        "id": "9r3To93QjGkq",
        "outputId": "4465d497-c5a2-425b-d0b3-e3df0ad5b660"
      },
      "execution_count": null,
      "outputs": [
        {
          "output_type": "stream",
          "name": "stdout",
          "text": [
            "Il perimetro del triangolo di lati 10, 15 e 10 è 35\n",
            "L'area del triangolo con base 15 e altezza 7.5 è 56.25\n"
          ]
        }
      ]
    },
    {
      "cell_type": "code",
      "source": [
        "triangle.a #adesso possiamo andare a stampare i vari attributi"
      ],
      "metadata": {
        "colab": {
          "base_uri": "https://localhost:8080/"
        },
        "id": "xVek5tPDjQGC",
        "outputId": "629610c7-5aa8-4647-8b8f-372c2a437902"
      },
      "execution_count": null,
      "outputs": [
        {
          "output_type": "execute_result",
          "data": {
            "text/plain": [
              "10"
            ]
          },
          "metadata": {},
          "execution_count": 7
        }
      ]
    },
    {
      "cell_type": "markdown",
      "source": [
        "C'è uno standard tra i programmatori per quanto riguardo l'utilizzo di un attributo privato. Semplicemente si va a mettere un under score prima, tipo come sotto indicato.\n",
        "\n",
        "GLi attributi privati non vanno usati al di fuori della classe.\n",
        "\n",
        "In altri linguaggi di programmazione come Java o C++ l'accesso agli attributi privati è controllato da specificatori di accesso come private, in Python però non esiste un meccanismo dia ccesso rigoroso per rendere un attributo completamente privato. Si usa un convenzione dove si mette un underscore all'inizio del nome dell'attributo per indicare che è destinato all'uso interno.\n",
        "\n",
        "\n",
        "```\n",
        "class Esempio:\n",
        "    def __init__(self):\n",
        "        self._attributo_protetto = \"Sono protetto\"\n",
        "\n",
        "obj = Esempio()\n",
        "print(obj._attributo_protetto)  # Accesso possibile, ma sconsigliato\n",
        "\n",
        "\n",
        " Generato da ProfAI - https://prof.profession.ai/\n",
        "```\n",
        "\n",
        "L'uso di attributi privati o protetti aiuta a mantenere l'incapsulamento, che è uno dei principi fondamentali della programmazione orientata agli oggetti."
      ],
      "metadata": {
        "id": "ATzm9V1EjgbC"
      }
    },
    {
      "cell_type": "markdown",
      "source": [
        "Vediamo adesso cosa ci ritorna se stampiamo la classe triangle con print."
      ],
      "metadata": {
        "id": "fOy5fWGukIbL"
      }
    },
    {
      "cell_type": "markdown",
      "source": [
        "Python ci dà la possibilità di andare a sovrascrivere anche le funzioni built-in.\n",
        "\n",
        "Ma prima vediamo cosa ci stampa print passando l'oggetto."
      ],
      "metadata": {
        "id": "-puw7UA0wTbA"
      }
    },
    {
      "cell_type": "code",
      "source": [
        "print(triangle)"
      ],
      "metadata": {
        "colab": {
          "base_uri": "https://localhost:8080/"
        },
        "id": "yOjw2olTkMjy",
        "outputId": "cddccf20-590a-49e2-8956-c8436b6ef142"
      },
      "execution_count": null,
      "outputs": [
        {
          "output_type": "stream",
          "name": "stdout",
          "text": [
            "<__main__.Triangle object at 0x7a9d823c2e60>\n"
          ]
        }
      ]
    },
    {
      "cell_type": "markdown",
      "source": [
        "Ci dice che proviene dal modulo principale __main__ e si tratta di un classe oggetto e poi abbiamo l'indirizzo di memoria dove l'oggetto viene immagazinato.\n",
        "\n",
        "Proviene dal modulo principale main e ci viene detto anche l'indirizzo di memoria dove questo oggetto viene immagazinato.\n",
        "\n",
        "Proviamo adesso a sovrascrivere il funzionamento di print:\n",
        "\n",
        "Per fare ciò dobbiamo usare il metodo speciale __repr__ che è un metodo speciale di Python.\n",
        "\n",
        "I doppi underscore sono degli standard che vanno usati solo per metodi. o funzioni speciali di Python.\n",
        "\n",
        "\n"
      ],
      "metadata": {
        "id": "rX5MeQgqkO_y"
      }
    },
    {
      "cell_type": "code",
      "source": [
        "class Triangle:\n",
        "\n",
        "  def __init__(self, a, b, c, h):\n",
        "    self.a = a\n",
        "    self.b = b\n",
        "    self.c = c\n",
        "    self.h = h\n",
        "    #Qui li abbiamo immagazinati come appositi attributi\n",
        "\n",
        "  def perimeter(self):\n",
        "    return self.a + self.b + self.c\n",
        "\n",
        "  def area(self):\n",
        "    return self.b*self.h/2\n",
        "\n",
        "  def __repr__(self):  #questo standard con i doppi underscore è un standard che viene usato solo con metodi speciali di Python\n",
        "\n",
        "      info = f\"Area del triangolo: {self.perimeter()}\"\n",
        "      info += f\"Area del triangolo: {self.area()}\"\n",
        "      return info\n"
      ],
      "metadata": {
        "id": "zcjvXmM7kxh4"
      },
      "execution_count": null,
      "outputs": []
    },
    {
      "cell_type": "code",
      "source": [
        "a = 10 #integer\n",
        "c = 10 #integer\n",
        "b = 15 #integer\n",
        "h = 7.5 #float\n",
        "\n",
        "triangle =Triangle(a, b, c, h)\n",
        "\n",
        "perimeter = triangle.perimeter()\n",
        "\n",
        "area = triangle.area()\n",
        "\n",
        "print(f\"Il perimetro del triangolo di lati {a}, {b} e {c} è {perimeter}\")\n",
        "\n",
        "print(f\"L'area del triangolo con base {b} e altezza {h} è {area}\")"
      ],
      "metadata": {
        "colab": {
          "base_uri": "https://localhost:8080/"
        },
        "id": "mLA2-oKFthvQ",
        "outputId": "d8d61fb7-3e23-4242-91d3-ebeadca015d9"
      },
      "execution_count": null,
      "outputs": [
        {
          "output_type": "stream",
          "name": "stdout",
          "text": [
            "Il perimetro del triangolo di lati 10, 15 e 10 è 35\n",
            "L'area del triangolo con base 15 e altezza 7.5 è 56.25\n"
          ]
        }
      ]
    },
    {
      "cell_type": "code",
      "source": [
        "print(triangle)"
      ],
      "metadata": {
        "colab": {
          "base_uri": "https://localhost:8080/"
        },
        "id": "n43P8ik4tlrQ",
        "outputId": "8f500b4e-cc25-4312-d2b3-87ff9f70e5ec"
      },
      "execution_count": null,
      "outputs": [
        {
          "output_type": "stream",
          "name": "stdout",
          "text": [
            "Area del triangolo: 35Area del triangolo: 56.25\n"
          ]
        }
      ]
    },
    {
      "cell_type": "markdown",
      "source": [
        "Qui abbiamo ritornato ciò che abbiamo nella def repr.\n",
        "Quindi abbiamo modificato il metodo speciale di print con repr."
      ],
      "metadata": {
        "id": "UzxGXtaVtyVg"
      }
    },
    {
      "cell_type": "markdown",
      "source": [
        "#<mark> Docstring che ci permettono di documentare le nostrea classi e i vari metodi.\n",
        "\n",
        "Riprendiamo la classe che abbiamo usato in precedenza, e con la funzione built in help() possiamo ottenere delle informazioni di una specifica classe."
      ],
      "metadata": {
        "id": "yvwCW8Cvt_YZ"
      }
    },
    {
      "cell_type": "code",
      "source": [
        "help(Triangle)"
      ],
      "metadata": {
        "colab": {
          "base_uri": "https://localhost:8080/"
        },
        "id": "PF0BO5mLukM7",
        "outputId": "b3925c0a-02dc-4a90-b3fe-1913d634e0e3"
      },
      "execution_count": null,
      "outputs": [
        {
          "output_type": "stream",
          "name": "stdout",
          "text": [
            "Help on class Triangle in module __main__:\n",
            "\n",
            "class Triangle(builtins.object)\n",
            " |  Triangle(a, b, c, h)\n",
            " |  \n",
            " |  Methods defined here:\n",
            " |  \n",
            " |  __init__(self, a, b, c, h)\n",
            " |      Initialize self.  See help(type(self)) for accurate signature.\n",
            " |  \n",
            " |  __repr__(self)\n",
            " |      Return repr(self).\n",
            " |  \n",
            " |  area(self)\n",
            " |  \n",
            " |  perimeter(self)\n",
            " |  \n",
            " |  ----------------------------------------------------------------------\n",
            " |  Data descriptors defined here:\n",
            " |  \n",
            " |  __dict__\n",
            " |      dictionary for instance variables (if defined)\n",
            " |  \n",
            " |  __weakref__\n",
            " |      list of weak references to the object (if defined)\n",
            "\n"
          ]
        }
      ]
    },
    {
      "cell_type": "markdown",
      "source": [
        "Ci viene detto in che modulo è presente la classe in questo caso in __main__. Ci viene mostrato i metodi definiti nella nostra classe e qual'è il costruttore. Una classe può contenere molti metodi quindi è utile andarea controllare cosa questi metodi fanno e di cosa hanno bisogno quindi gli argomenti di cui hanno bisogno. Per questa cosa possiamo usare le Dogstring"
      ],
      "metadata": {
        "id": "TDLCfi8KuwOg"
      }
    },
    {
      "cell_type": "code",
      "source": [
        "class Triangle:\n",
        "\n",
        "  def __init__(self, a, b, c, h):\n",
        "\n",
        "\n",
        "    \"\"\"\n",
        "    a, b, c (float) = lati del triangolo\n",
        "\n",
        "    h (float) = altezza del triangolo\n",
        "\n",
        "\n",
        "\n",
        "    \"\"\"\n",
        "    self.a = a\n",
        "    self.b = b\n",
        "    self.c = c\n",
        "    self.h = h\n",
        "    #Qui li abbiamo immagazinati come appositi attributi\n",
        "\n",
        "  def perimeter(self):\n",
        "\n",
        "\n",
        "    \"\"\"\n",
        "\n",
        "    Calcolo del perimetro del triangolo\n",
        "\n",
        "    \"\"\"\n",
        "    return self.a + self.b + self.c\n",
        "\n",
        "  def area(self):\n",
        "\n",
        "\n",
        "    #docstring di seguito\n",
        "\n",
        "    \"\"\"\n",
        "    Calcolo dell'area del triangolo\n",
        "\n",
        "    \"\"\"\n",
        "    return self.b*self.h/2\n",
        "\n",
        "  def __repr__(self):\n",
        "      #questo standard con i doppi underscore è un standard che viene usato solo con metodi speciali di Python\n",
        "\n",
        "\n",
        "      \"\"\"\n",
        "  Stampa perimetro e area del triangolo\n",
        "      \"\"\"\n",
        "      info = f\"Area del triangolo: {self.perimeter()}\"\n",
        "      info += f\"Area del triangolo: {self.area()}\"\n",
        "      return info\n"
      ],
      "metadata": {
        "id": "Buqc89HiwVi0"
      },
      "execution_count": null,
      "outputs": []
    },
    {
      "cell_type": "code",
      "source": [
        "help(Triangle)"
      ],
      "metadata": {
        "colab": {
          "base_uri": "https://localhost:8080/"
        },
        "id": "xFL-g0Uww_57",
        "outputId": "a2c16f43-f858-4250-eb50-07c075363822"
      },
      "execution_count": null,
      "outputs": [
        {
          "output_type": "stream",
          "name": "stdout",
          "text": [
            "Help on class Triangle in module __main__:\n",
            "\n",
            "class Triangle(builtins.object)\n",
            " |  Triangle(a, b, c, h)\n",
            " |  \n",
            " |  Methods defined here:\n",
            " |  \n",
            " |  __init__(self, a, b, c, h)\n",
            " |      a, b, c (float) = lati del triangolo\n",
            " |      \n",
            " |      h (float) = altezza del triangolo\n",
            " |  \n",
            " |  __repr__(self)\n",
            " |      Stampa perimetro e area del triangolo\n",
            " |  \n",
            " |  area(self)\n",
            " |      Calcolo dell'area del triangolo\n",
            " |  \n",
            " |  perimeter(self)\n",
            " |      Calcolo del perimetro del triangolo\n",
            " |  \n",
            " |  ----------------------------------------------------------------------\n",
            " |  Data descriptors defined here:\n",
            " |  \n",
            " |  __dict__\n",
            " |      dictionary for instance variables (if defined)\n",
            " |  \n",
            " |  __weakref__\n",
            " |      list of weak references to the object (if defined)\n",
            "\n"
          ]
        }
      ]
    },
    {
      "cell_type": "markdown",
      "source": [
        "Ecco che subito sotto il nome dei metodi abbiamo le informazioni (le dogstring) che abbiamo specificato noi. L'uso di dogstring ci permette di permettere ad altri programmatori che usano classi definite da noi di capire effettivamente a cosa alcuni metodi delle classi servono.\n",
        "\n",
        "Possiamo anche documentare cosa sono gli attributi."
      ],
      "metadata": {
        "id": "1CfIu7NzxFg5"
      }
    },
    {
      "cell_type": "markdown",
      "source": [
        "# <mark> Eredità e polimorfismo\n",
        "\n",
        "\n",
        "La classe base, quindi quella che estenderemo, prende il nome di classe padre o superclasse. La classe derivata è invece chiamata classe figlia.\n",
        "\n",
        "<mark>Questo meccanismo è chiamato Ereditarietà (Inheritance)\n",
        "\n",
        "Andiamo a creare una classe padre per andare a rappresentare una figura geometrica.\n",
        "\n",
        "\n",
        "\n",
        "```\n",
        " #Classe PADRE\n",
        "\n",
        " class Person:\n",
        "\n",
        "\n",
        "    def __init__(self, name, surname):\n",
        "        self.name = name\n",
        "        self.surname = surname\n",
        "\n",
        "    def get_fullname(self):\n",
        "        return self.name + \" \" +self.surname\n",
        "\n",
        "person = Person(\"Giuseppe\", \"Gullo\")\n",
        "\n",
        "print(person.get_fullname())\n",
        "```\n",
        "\n",
        "Adesso andiamo invece a creare la classe figlia\n",
        "\n",
        "\n",
        "```\n",
        "class Student(Person):\n",
        "\n",
        "     def __init__(self, name, surname, course, gpa):\n",
        "         self.name = name\n",
        "         self.surname = surname\n",
        "         self.course = course\n",
        "         self.gpa = gpa\n",
        "\n",
        "      def get_course():\n",
        "         return self.course\n",
        "\n",
        "      def get_gpa():\n",
        "         return self.gpa\n",
        "\n",
        "\n",
        "student = Student(\"Giuseppe\", \"Gullo\", \"Computer Science\", 3.90)\n",
        "\n",
        "\n",
        "print(student.get_fullname())\n",
        "print(student.get_course())\n",
        "print(student.get_gpa())\n",
        "```\n",
        "Nella definizione della nuova classe facciamo passare attraverso il nome della classe padre.\n",
        "\n",
        "Possiamo utilizzare il metodo get_fullname anche se non lo abbiamo definito perchè viene in questo caso ereditato dalla classe padre.\n",
        "\n",
        "<mark> POLIMORFISMO\n",
        "\n",
        "Una classe figlia può sovrascrivere metodi e attributi di una classe padre, se necessario.\n",
        "\n",
        "Quando classe padre e classe figlia prendono un numero di parametri diversi a livello del costruttore si può usare l'oggetto args.\n",
        "\n",
        "L'args ci permette di passare un numero variabile di parametri."
      ],
      "metadata": {
        "id": "soTYsUcjx56M"
      }
    },
    {
      "cell_type": "markdown",
      "source": [
        "\n",
        "Se vogliamo lasciare vuoto un metodo possiamo mettere dentro un \"return\" senza niente che ci ritornerà \"None\" oppure usare una keyword che è \"pass\".\n",
        "\n",
        "La differenza tra return e pass è che return ritorna mentre pass non fa nulla, quindi pass è semplicemente un placeholder per quelle funzioni che vogliamo lasciare senza corpo.\n",
        "\n"
      ],
      "metadata": {
        "id": "T00lOc3MWHN4"
      }
    },
    {
      "cell_type": "code",
      "source": [
        "class Shape:\n",
        "\n",
        "\n",
        "  \"\"\"\n",
        "  Questa classe rappresenta una generica figura geometrica\n",
        "\n",
        "  \"\"\"\n",
        "\n",
        "\n",
        "#definiamo un costruttore che prenderà in input una tupla l\n",
        "\n",
        "  def __init__(self,l):\n",
        "     \"\"\"\n",
        "     l (tupla): lati e altezza della figura\n",
        "     \"\"\"\n",
        "\n",
        "     self._l = l #assegnamo l ad un attributo privato (abbiamo messo l'underscore)\n",
        "\n",
        "  def perimetro(self): #l'implementazione di cosa faranno i metodi lo facciamo nelle classi figlie\n",
        "    \"\"\"\n",
        "    Calcolo del perimetro della figura\n",
        "    \"\"\"\n",
        "    pass\n",
        "  def area(self):\n",
        "    \"\"\"\n",
        "    Calcolo dell'area della figura\n",
        "    \"\"\"\n",
        "    pass\n",
        "\n",
        "  def __repr__(self): #E' la funzione che sovrascrive il print\n",
        "    \"\"\"\n",
        "    Stampa perimetro e area della figura\n",
        "    \"\"\"\n",
        "\n",
        "    info = f\"Perimetro della figura: {self.perimeter()}\"\n",
        "    info += f\"Area della figura {self.area()}\"\n",
        "    return info\n",
        "\n",
        "#Questa che abbiamo creato è una classe padre"
      ],
      "metadata": {
        "id": "38zdxtbAyRi4"
      },
      "execution_count": null,
      "outputs": []
    },
    {
      "cell_type": "markdown",
      "source": [
        "Sotto il metodo dobbiamo perforza scrivere altro oltre alla docstring se no ci ritornerà un errore, noi possiamo utilizzare return oppure possiamo usare la parola pass.\n",
        "\n",
        "Pass si utilizza in quei casi in cui vogliamo lasciare il corpo di una funzione o metodo vuoto. La differenza tra return e pass è che return ritorna None invece pass non fa nulla.\n",
        "\n",
        "Quindi pass è un placeholder per quelle volte in cui vogliamo lasciare vuoto il metodo perchè magari lo vogliamo definire all'interno della classe figlia."
      ],
      "metadata": {
        "id": "KKhEFK1c0_gj"
      }
    },
    {
      "cell_type": "code",
      "source": [
        "help(Shape)"
      ],
      "metadata": {
        "colab": {
          "base_uri": "https://localhost:8080/"
        },
        "id": "6kwsxjc62gSg",
        "outputId": "7bd4514e-6dd4-444a-9c11-d2735526e2f5"
      },
      "execution_count": null,
      "outputs": [
        {
          "output_type": "stream",
          "name": "stdout",
          "text": [
            "Help on class Shape in module __main__:\n",
            "\n",
            "class Shape(builtins.object)\n",
            " |  Shape(l)\n",
            " |  \n",
            " |  Questa classe rappresenta una generica figura geometrica\n",
            " |  \n",
            " |  Methods defined here:\n",
            " |  \n",
            " |  __init__(self, l)\n",
            " |      l (tupla): lati e altezza della figura\n",
            " |  \n",
            " |  __repr__(self)\n",
            " |      Stampa perimetro e area della figura\n",
            " |  \n",
            " |  area(self)\n",
            " |      Calcolo dell'area della figura\n",
            " |  \n",
            " |  perimetro(self)\n",
            " |      Calcolo del perimetro della figura\n",
            " |  \n",
            " |  ----------------------------------------------------------------------\n",
            " |  Data descriptors defined here:\n",
            " |  \n",
            " |  __dict__\n",
            " |      dictionary for instance variables (if defined)\n",
            " |  \n",
            " |  __weakref__\n",
            " |      list of weak references to the object (if defined)\n",
            "\n"
          ]
        }
      ]
    },
    {
      "cell_type": "code",
      "source": [
        "# andiamo a creare una classe figlia\n",
        "# Abbiamo creato una classe figlia Triangolo passandogli dentro la calsse figlia Shape\n",
        "# il costruttore viene già ereditato dalla classe padre e andiamo a sovrascrivere tramite il polimorfismo il funzionamento del metodo perimeter\n",
        "\n",
        "class Triangle(Shape):\n",
        "\n",
        "\n",
        "  \"\"\"\n",
        "  Questa classe rappresenta un triangolo\n",
        "\n",
        "  \"\"\"\n",
        "\n",
        "  def perimeter(self):\n",
        "\n",
        "\n",
        "\n",
        "    \"\"\"\n",
        "    Calcolo del perimetro del triangolo\n",
        "\n",
        "    \"\"\"\n",
        "    return self._l[0] + self._l[1] + self._l[2]\n",
        "\n",
        "  def area(self):\n",
        "\n",
        "\n",
        "\n",
        "    \"\"\"\n",
        "    Calcolo dell'area del triangolo\n",
        "\n",
        "    \"\"\"\n",
        "    return self._l[1]*self._l[3]/2\n",
        "\n",
        "\n",
        "#questa è la nostra classe completata, sia il costruttore init che il costruttore per il print quindi repr verrà ereditato dalla classe  padre cosi come sono\n",
        "\n",
        "#Usiamo adesso help sopra la nostra classe figlia Triangle\n",
        "\n",
        "\n"
      ],
      "metadata": {
        "id": "Fp7QYzXRpiZJ"
      },
      "execution_count": null,
      "outputs": []
    },
    {
      "cell_type": "code",
      "source": [
        "help(Triangle)\n",
        "\n",
        "#Vedremo i metodi che avremo sovrascritto quindi quelli definiti qui\n",
        "#Poi abbiamo i metodi ereditati dalla classe padre che sono init e repr\n",
        "#Vengono ereditate anche le dogstring presenti\n",
        "#possiamo però andare a sovrascrivere le dogstring per renderle più specifiche\n",
        "\n",
        "#Abbiamo sovrascritto le dogstring che sono state ereditate dalla classe padre"
      ],
      "metadata": {
        "colab": {
          "base_uri": "https://localhost:8080/"
        },
        "id": "m7Iy5yDiq3Br",
        "outputId": "b7fa2289-3ac6-40f2-a0fe-bff6a00d678c"
      },
      "execution_count": null,
      "outputs": [
        {
          "output_type": "stream",
          "name": "stdout",
          "text": [
            "Help on class Triangle in module __main__:\n",
            "\n",
            "class Triangle(Shape)\n",
            " |  Triangle(l)\n",
            " |  \n",
            " |  Questa classe rappresenta un triangolo\n",
            " |  \n",
            " |  Method resolution order:\n",
            " |      Triangle\n",
            " |      Shape\n",
            " |      builtins.object\n",
            " |  \n",
            " |  Methods defined here:\n",
            " |  \n",
            " |  area(self)\n",
            " |      Calcolo dell'area del triangolo\n",
            " |  \n",
            " |  perimeter(self)\n",
            " |      Calcolo del perimetro del triangolo\n",
            " |  \n",
            " |  ----------------------------------------------------------------------\n",
            " |  Methods inherited from Shape:\n",
            " |  \n",
            " |  __init__(self, l)\n",
            " |      l (tupla): lati e altezza della figura\n",
            " |  \n",
            " |  __repr__(self)\n",
            " |      Stampa perimetro e area della figura\n",
            " |  \n",
            " |  perimetro(self)\n",
            " |      Calcolo del perimetro della figura\n",
            " |  \n",
            " |  ----------------------------------------------------------------------\n",
            " |  Data descriptors inherited from Shape:\n",
            " |  \n",
            " |  __dict__\n",
            " |      dictionary for instance variables (if defined)\n",
            " |  \n",
            " |  __weakref__\n",
            " |      list of weak references to the object (if defined)\n",
            "\n"
          ]
        }
      ]
    },
    {
      "cell_type": "code",
      "source": [
        "triangle = Triangle((5, 3, 5, 6))\n",
        "print(triangle)"
      ],
      "metadata": {
        "colab": {
          "base_uri": "https://localhost:8080/"
        },
        "id": "ZWPNNd6VsrqI",
        "outputId": "2e3f0c5f-121b-4cde-a96b-7c6f39cc31af"
      },
      "execution_count": null,
      "outputs": [
        {
          "output_type": "stream",
          "name": "stdout",
          "text": [
            "Perimetro della figura: 13Area della figura 9.0\n"
          ]
        }
      ]
    },
    {
      "cell_type": "markdown",
      "source": [
        "Abbiamo usato la classe padre per creare una calsse figlia, ma potremmo riusarla per creare altre classi figlie, potremmo creare nuovamente una classe figlia quadrata (square)."
      ],
      "metadata": {
        "id": "l4Yja8Lztemh"
      }
    },
    {
      "cell_type": "code",
      "source": [
        "class Square(Shape):\n",
        "\n",
        "  \"\"\"\n",
        "  Questa classe rappresenta un quadrato\n",
        "  \"\"\"\n",
        "\n",
        "  def perimeter(self):\n",
        "    \"\"\"\n",
        "    Calcolo del perimetro del quadrato\n",
        "    \"\"\"\n",
        "    return 4*self.l[0]\n",
        "\n",
        "  def area(self):\n",
        "    \"\"\"\n",
        "    Calcolo dell'area del quadrato\n",
        "    \"\"\"\n",
        "    return self.l[0]**2"
      ],
      "metadata": {
        "id": "70yNa6V7tn2V"
      },
      "execution_count": null,
      "outputs": []
    },
    {
      "cell_type": "code",
      "source": [
        "square = Square((5,))\n",
        "print(square)\n",
        "\n",
        "#affinchè la tupla venga riconosciuta come tupla e non come valore int avendo un solo valore dobbiamo lasciare una virgola finale\n",
        "\n"
      ],
      "metadata": {
        "colab": {
          "base_uri": "https://localhost:8080/"
        },
        "id": "YZg2dT67t9qS",
        "outputId": "14a988ec-ee3c-4478-b469-60dd1f0cdcea"
      },
      "execution_count": null,
      "outputs": [
        {
          "output_type": "stream",
          "name": "stdout",
          "text": [
            "Perimetro della figura: 20Area della figura 25\n"
          ]
        }
      ]
    },
    {
      "cell_type": "markdown",
      "source": [
        "Una tupla con un unico elemento dentro viene considerato int o stringa quindi per farla risultare tupla dobbiamo mettere la virgola dopo quel primo elemento."
      ],
      "metadata": {
        "id": "gAYQpAfk78i4"
      }
    },
    {
      "cell_type": "markdown",
      "source": [
        "# <mark> Esercizi su programmazione ad oggetti\n",
        "\n",
        "Definisci una classe per rappresentare una circonferenza che, prendendo in input il raggio, definisca dei metodi per il calcolo di diametro, circonferenza e area. Documenta i metodi utilizzando le Docstring."
      ],
      "metadata": {
        "id": "pzXnenpSvFll"
      }
    },
    {
      "cell_type": "code",
      "source": [
        "class Circumference:\n",
        "\n",
        "  \"\"\"\n",
        "  Questa classe rappresenta una circonferenza\n",
        "\n",
        "  \"\"\"\n",
        "\n",
        "\n",
        "  def __init__(self, r):\n",
        "    \"\"\"\n",
        "    r (float): raggio della circonferenza\n",
        "    \"\"\"\n",
        "    self.r = r\n",
        "\n",
        "  def diameter(self):\n",
        "    \"\"\"\n",
        "    Calcolo del diametro della circonferenza\n",
        "    \"\"\"\n",
        "    return 2*self.r\n",
        "\n",
        "  def circum(self):\n",
        "    \"\"\"\n",
        "    Calcolo della circonferenza della circonferenza\n",
        "    \"\"\"\n",
        "    return round(2*3.14*self.r, 2)\n",
        "\n",
        "  def area(self):\n",
        "    \"\"\"\n",
        "    Calcolo dell'area della circonferenza\n",
        "    \"\"\"\n",
        "    return 3.14*self.r**2\n",
        "\n",
        "  def __repr__(self):\n",
        "    \"\"\"\n",
        "    Stampa diametro, circonferenza e area della circonferenza\n",
        "\n",
        "    \"\"\"\n",
        "    info = f\"Diametro della circonferenza: {self.diameter()}\\n\"\n",
        "    info += f\"Circonferenza della circonferenza: {self.circum()}\\n\"\n",
        "    info += f\"Area della circonferenza: {self.area()}\\n\"\n",
        "    return info\n"
      ],
      "metadata": {
        "id": "H8gHHEQA6wqe"
      },
      "execution_count": null,
      "outputs": []
    },
    {
      "cell_type": "code",
      "source": [
        "circonferenza = Circumference(5)\n",
        "print(circonferenza)\n",
        "\n",
        "\n",
        "print(circonferenza.diameter())\n",
        "\n",
        "print(circonferenza.circum())\n",
        "\n",
        "print(circonferenza.area())\n",
        "#"
      ],
      "metadata": {
        "colab": {
          "base_uri": "https://localhost:8080/"
        },
        "id": "ZFIjxE3G72zA",
        "outputId": "725b5d29-9c5a-474d-9402-470ddc8a3312"
      },
      "execution_count": null,
      "outputs": [
        {
          "output_type": "stream",
          "name": "stdout",
          "text": [
            "Diametro della circonferenza: 10\n",
            "Circonferenza della circonferenza: 31.4\n",
            "Area della circonferenza: 78.5\n",
            "\n",
            "10\n",
            "31.4\n",
            "78.5\n"
          ]
        }
      ]
    },
    {
      "cell_type": "markdown",
      "source": [
        "<mark> Esercizio sui vettori\n",
        "\n",
        "\n",
        "Dobbiamo creare una classe che rappresenta un vettore numerico, la classe accetta in input una lista di numeri che saranno valori del vettore e la classe deve avere queste funzionalità:\n",
        "\n",
        "-Stampare un'oggetto Vector il risultato sarà la lista dei suoi valori\n",
        "\n",
        "-Sommando due oggetti vector il risultato sarà un nuovo oggetto Vectorr composto dalla somma dei valori dei due vettori alle posizioni corrispondenti\n",
        "(es Vector([1,2,3]) + Vector ([2,4,6]) = Vector([3,6,9]).\n",
        "\n",
        "-Sottraendo un oggetto Vector all'altro oggetto Vector\n",
        "\n",
        "-Moltiplicando due oggetti Vector il risultato dovrà essere il prodotto scalare dei due vettori, il prodotto scalare è definito come la somma del prodotto dei singoli elementi corrispondenti dei due vettori (es. Vector([1,2,3]) + Vector ([2,4,6]) = 28, dobbiamo fare 1*2 + 2*4 + 3*6\n",
        "\n",
        "(prodotto scalare in inglese si chiama dot product)\n",
        "\n",
        "-Un confronto di uguaglianza tra i due vettori dovrà ritornare True se i due vettori hanno esattamente gli stessi elementi, altrimenti dovrà ritornare False.\n",
        "\n",
        "\n",
        "-Per i punti 2,3,4 e 5 i vettori devono avere uguale dimensione in caso di dimensione differente dobbiamo stampare \"I vettori hanno dimensioni differenti\" e ritorna None.\n",
        "\n",
        "La classe deve aver i seguenti metodi:\n",
        "\n",
        "1. .sum(): ritorna la somma di tutti gli elementi del vettore\n",
        "\n",
        "2. .norm(): ritorna la norma del vettore, cioè la radice quadrata del prodotto scalare tra il vettore e se stesso ES Vector([10,20,30, 40]).norm() = 54.77\n",
        "\n",
        "Ovvero 10*10 + 20*20 + 30*30 + 40*40 = risultato e poi √risultato = 54.77\n",
        "\n",
        "\n",
        "La classe inoltre deve supportare l'indexing.\n",
        "\n",
        "es.\n",
        "\n",
        "v = Vector([2,4,6])\n",
        "print(v[1]) # stampa 4\n",
        "\n",
        "Abbiamo già lo scheletro della classe\n",
        "\n",
        "Il metodo __getitem__ viene usato per l'indexing, viene chiamata questa funzione e come argomento viene usato l'indice che viene passato.\n",
        "\n",
        "L'add viene usato quando dobbiamo eseguire la somma tra gli oggetti, quindi se noi proviamo a sommare vettore1 + vettore2 verrà chiamato il metodo add quindi vettore1 e vettore2 verrà passato come argomento al metodo add.\n",
        "\n",
        "Stessa cosa per sub sottrazione, eq per l'uguaglianza, e per al moltiplicazione con mul"
      ],
      "metadata": {
        "id": "wnegCMNj9hho"
      }
    },
    {
      "cell_type": "markdown",
      "source": [],
      "metadata": {
        "id": "e5gHEvmEBbIg"
      }
    },
    {
      "cell_type": "code",
      "source": [
        "class Vector():\n",
        "\n",
        "\n",
        "  def __init__(self, values):\n",
        "    \"\"\"\n",
        "    values [list] : is a list with vector's values\n",
        "    \"\"\"\n",
        "    self._values = values #attributo privato\n",
        "\n",
        "  def _is_len_eq(self, vector): #questo è il metodo dell'uguaglianza\n",
        "\n",
        "    \"\"\"\n",
        "    Metodo che controlla lse i due vettori hanno la stessa lunghezza di valori\n",
        "    \"\"\"\n",
        "\n",
        "    if len(self._values) != len(vector._values):\n",
        "        print(\"I vettori hanno dimensioni differenti\")\n",
        "        return False\n",
        "\n",
        "    return True\n",
        "\n",
        "\n",
        "\n",
        "  def __getitem__(self,i):\n",
        "    return self._values[i]\n",
        "\n",
        "  def __add__(self, vector): #dobbiamo fare la somma per i due vettori, il primo è self e l'altro è vector\n",
        "\n",
        "    if self._is_len_eq(vector) == False:\n",
        "      print(\"I due vettori hanno dimensioni diverse\")\n",
        "      return None\n",
        "\n",
        "\n",
        "    list_sum = []\n",
        "    for val1, val2 in zip(self._values, vector._values): #\n",
        "      list_sum.append(val1 + val2)\n",
        "\n",
        "    return Vector(list_sum) #creiamo un vettore con quella lista utilizzando la classe stessa\n",
        "\n",
        "  def __sub__(self, vector):\n",
        "\n",
        "    if self._is_len_eq(vector) == False:\n",
        "      return None\n",
        "\n",
        "    list_diff = []\n",
        "    for val1, val2 in zip(self._values, vector._values):\n",
        "      list_diff.append(val1 - val2)\n",
        "\n",
        "    return Vector(list_diff)\n",
        "\n",
        "  def __eq__(self, vector):\n",
        "\n",
        "\n",
        "    if self._is_len_eq(vector) == False:\n",
        "      return None\n",
        "\n",
        "    for val1, val2 in zip(self._values, vector._values):\n",
        "      if val1 != val2:\n",
        "        return False\n",
        "\n",
        "    return True\n",
        "\n",
        "  def __mul__(self, vector):\n",
        "    return self.dot(vector)\n",
        "\n",
        "\n",
        "  def dot(self, vector):\n",
        "    if self._is_len_eq(vector) == False:\n",
        "      return None\n",
        "\n",
        "    prod = 0\n",
        "\n",
        "    for val1, val2 in zip(self._values, vector._values):\n",
        "\n",
        "      prod += val1*val2\n",
        "\n",
        "    return prod\n",
        "\n",
        "\n",
        "\n",
        "\n",
        "  def sum(self):\n",
        "    return sum(self._values)\n",
        "\n",
        "  def norm(self, precision=None):\n",
        "\n",
        "    val = self.dot(self)**(1/2)\n",
        "\n",
        "    if precision is None:\n",
        "      return self.dot(self)**(1/2)\n",
        "\n",
        "    return round(val, precision)\n",
        "\n",
        "  def __repr__(self):\n",
        "    return str(self._values)"
      ],
      "metadata": {
        "id": "VPBhLGPHCYr1"
      },
      "execution_count": null,
      "outputs": []
    },
    {
      "cell_type": "code",
      "source": [
        "v1 = Vector([1,2,3])\n",
        "v2 = Vector([2,4,6])\n",
        "\n"
      ],
      "metadata": {
        "id": "xK6At54MNY79"
      },
      "execution_count": null,
      "outputs": []
    },
    {
      "cell_type": "code",
      "source": [
        "v1+v2"
      ],
      "metadata": {
        "colab": {
          "base_uri": "https://localhost:8080/"
        },
        "id": "pm6nT33qNigc",
        "outputId": "76b1f98a-00bf-4066-c63e-fd308d8febd2"
      },
      "execution_count": null,
      "outputs": [
        {
          "output_type": "execute_result",
          "data": {
            "text/plain": [
              "[3, 6, 9]"
            ]
          },
          "metadata": {},
          "execution_count": 8
        }
      ]
    },
    {
      "cell_type": "code",
      "source": [
        "v1 -v2"
      ],
      "metadata": {
        "colab": {
          "base_uri": "https://localhost:8080/"
        },
        "id": "Z2d_rMQeNpLS",
        "outputId": "0f75dd39-4445-44bb-dae2-fb8aed399a84"
      },
      "execution_count": null,
      "outputs": [
        {
          "output_type": "execute_result",
          "data": {
            "text/plain": [
              "[-1, -2, -3]"
            ]
          },
          "metadata": {},
          "execution_count": 9
        }
      ]
    },
    {
      "cell_type": "code",
      "source": [
        "v1*v2"
      ],
      "metadata": {
        "colab": {
          "base_uri": "https://localhost:8080/"
        },
        "id": "1qJQ9uOhN4tS",
        "outputId": "2bc134f6-0703-466b-8463-970eb4610701"
      },
      "execution_count": null,
      "outputs": [
        {
          "output_type": "execute_result",
          "data": {
            "text/plain": [
              "28"
            ]
          },
          "metadata": {},
          "execution_count": 10
        }
      ]
    },
    {
      "cell_type": "code",
      "source": [
        "v1.sum()"
      ],
      "metadata": {
        "colab": {
          "base_uri": "https://localhost:8080/"
        },
        "id": "qUTwb6ZbN8eb",
        "outputId": "efe05f9e-fc4c-41af-b2f5-922a8f49db3f"
      },
      "execution_count": null,
      "outputs": [
        {
          "output_type": "execute_result",
          "data": {
            "text/plain": [
              "6"
            ]
          },
          "metadata": {},
          "execution_count": 11
        }
      ]
    },
    {
      "cell_type": "code",
      "source": [
        "v2.sum()"
      ],
      "metadata": {
        "colab": {
          "base_uri": "https://localhost:8080/"
        },
        "id": "22PlqAvnOGM8",
        "outputId": "c58a0661-42c1-4c42-e420-b304f34b2d4b"
      },
      "execution_count": null,
      "outputs": [
        {
          "output_type": "execute_result",
          "data": {
            "text/plain": [
              "12"
            ]
          },
          "metadata": {},
          "execution_count": 12
        }
      ]
    },
    {
      "cell_type": "code",
      "source": [
        "v1.norm()"
      ],
      "metadata": {
        "colab": {
          "base_uri": "https://localhost:8080/"
        },
        "id": "qGdnz9ABOJix",
        "outputId": "80e0c529-3f6f-4550-c680-4a3ec30d961d"
      },
      "execution_count": null,
      "outputs": [
        {
          "output_type": "execute_result",
          "data": {
            "text/plain": [
              "3.7416573867739413"
            ]
          },
          "metadata": {},
          "execution_count": 13
        }
      ]
    },
    {
      "cell_type": "code",
      "source": [
        "v1.norm(precision=2)"
      ],
      "metadata": {
        "colab": {
          "base_uri": "https://localhost:8080/"
        },
        "id": "_UWXMlHeOz4-",
        "outputId": "74688592-eb17-428d-ef6c-4389cb86ec5e"
      },
      "execution_count": null,
      "outputs": [
        {
          "output_type": "execute_result",
          "data": {
            "text/plain": [
              "3.74"
            ]
          },
          "metadata": {},
          "execution_count": 14
        }
      ]
    },
    {
      "cell_type": "code",
      "source": [
        "v1 == v2"
      ],
      "metadata": {
        "colab": {
          "base_uri": "https://localhost:8080/"
        },
        "id": "JiIOdV4xO5Sj",
        "outputId": "0c050a05-5663-4b49-e5d8-ed97bded775a"
      },
      "execution_count": null,
      "outputs": [
        {
          "output_type": "execute_result",
          "data": {
            "text/plain": [
              "False"
            ]
          },
          "metadata": {},
          "execution_count": 15
        }
      ]
    },
    {
      "cell_type": "code",
      "source": [
        "v3 = Vector([10,20])"
      ],
      "metadata": {
        "id": "_LhtKUIzO97_"
      },
      "execution_count": null,
      "outputs": []
    },
    {
      "cell_type": "code",
      "source": [
        "v1+v3"
      ],
      "metadata": {
        "colab": {
          "base_uri": "https://localhost:8080/"
        },
        "id": "OvJq1B62PFzE",
        "outputId": "f866f9e0-9d5c-45dd-beb6-bd3356374ff5"
      },
      "execution_count": null,
      "outputs": [
        {
          "output_type": "stream",
          "name": "stdout",
          "text": [
            "I vettori hanno dimensioni differenti\n"
          ]
        }
      ]
    }
  ]
}