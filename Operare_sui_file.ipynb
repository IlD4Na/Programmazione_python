{
  "nbformat": 4,
  "nbformat_minor": 0,
  "metadata": {
    "colab": {
      "provenance": []
    },
    "kernelspec": {
      "name": "python3",
      "display_name": "Python 3"
    },
    "language_info": {
      "name": "python"
    }
  },
  "cells": [
    {
      "cell_type": "markdown",
      "source": [
        "#<mark> Operare sui file"
      ],
      "metadata": {
        "id": "Yv6glXp3w5dP"
      }
    },
    {
      "cell_type": "markdown",
      "source": [
        "Python ci permette di acquisire dati da diversi formati di files e salvarli, rendendo i nostri programmi <mark> persistenti.\n",
        "\n",
        "Questo significa che i dati sopraviveranno al riavvio del programma, invece se andiamo a chiudere e riavviar eil programma riotteniamo i dati che avevamo in precedenza.\n",
        "\n",
        "<mark> Formato .txt ==> il formato più semplice di testo libero non strutturato\n",
        "\n",
        "<mark> Formato .csv ==> Formato tabulare, le colonne sono divise da virgole\n",
        "\n",
        "<mark> Formato .tsv  ==> Formato tabulare, le colonne sono divise da un tab\n",
        "\n",
        "<mark> Formato .json ==> sta per Javascript object notation, formato che permette di salvare i dati in coppie di chiave/valore e come liste\n",
        "\n",
        "\n",
        "\n",
        "```\n",
        "{\n",
        "  \"items\": [{\n",
        "    \n",
        "    \"product\": \"anguria\",\n",
        "    \"quantity\": 3\n",
        "  },\n",
        "  {\n",
        "    \"product\": \"latte di soia\",\n",
        "    \"quantity\": 5\n",
        "  }\n",
        "  ]\n",
        "}\n",
        "```\n",
        "Questa è un formato dove abbiamo Items come chiave poi come valore abbiamo un'altra lista con varie chiavi e valori.\n",
        "\n",
        "\n"
      ],
      "metadata": {
        "id": "-N6ajbgAxBal"
      }
    },
    {
      "cell_type": "markdown",
      "source": [
        "#<mark> Operare sui file Pratica"
      ],
      "metadata": {
        "id": "DKLOAPAfzm63"
      }
    },
    {
      "cell_type": "code",
      "execution_count": null,
      "metadata": {
        "id": "NCB84wN5w1xM"
      },
      "outputs": [],
      "source": [
        "proverbs_file = open(\"proverbi.txt\", encoding =\"utf-8\")"
      ]
    },
    {
      "cell_type": "code",
      "source": [
        "proverbs_file"
      ],
      "metadata": {
        "colab": {
          "base_uri": "https://localhost:8080/"
        },
        "id": "uQj50beiEKhA",
        "outputId": "319f8c92-4c96-4e76-99ee-c9a09390a7c8"
      },
      "execution_count": null,
      "outputs": [
        {
          "output_type": "execute_result",
          "data": {
            "text/plain": [
              "<_io.TextIOWrapper name='proverbi.txt' mode='r' encoding='utf-8'>"
            ]
          },
          "metadata": {},
          "execution_count": 5
        }
      ]
    },
    {
      "cell_type": "code",
      "source": [
        "proverbs_file.read()"
      ],
      "metadata": {
        "colab": {
          "base_uri": "https://localhost:8080/",
          "height": 125
        },
        "id": "lChUn7nTERSG",
        "outputId": "a9b40845-3b1a-4070-c5ae-0983805a62de"
      },
      "execution_count": null,
      "outputs": [
        {
          "output_type": "execute_result",
          "data": {
            "text/plain": [
              "'A buon intenditor, poche parole. \\nA caval donato non si guarda in bocca. \\nAnno nuovo, vita nuova. \\nBacco, Tabacco e Venere, riducon l’uomo in cenere. \\nBuon sangue non mente. \\nCampa cavallo che l’erba cresce. \\nCan che abbaia non morde. \\nChi ben comincia è alla metà dell’opera. \\nChi è causa del suo mal, pianga se stesso.\\nChi la dura, la vince. \\nChiodo scaccia chiodo. \\nTanto la va la gatta al lardo che ci lascia lo zampino. '"
            ],
            "application/vnd.google.colaboratory.intrinsic+json": {
              "type": "string"
            }
          },
          "metadata": {},
          "execution_count": 6
        }
      ]
    },
    {
      "cell_type": "code",
      "source": [
        "proverbs_file.read()"
      ],
      "metadata": {
        "colab": {
          "base_uri": "https://localhost:8080/",
          "height": 35
        },
        "id": "BqG2AsMUEhD_",
        "outputId": "16e96821-d268-42e1-863a-fe4a2bcaffb4"
      },
      "execution_count": null,
      "outputs": [
        {
          "output_type": "execute_result",
          "data": {
            "text/plain": [
              "''"
            ],
            "application/vnd.google.colaboratory.intrinsic+json": {
              "type": "string"
            }
          },
          "metadata": {},
          "execution_count": 7
        }
      ]
    },
    {
      "cell_type": "markdown",
      "source": [
        "Rileggendolo lo troviamo vuoto perchè l'oggetto TextIOWrapper contiene al suo interno un cursore di dove ci troviamo all'interno del file, una volta che leggiamo il file per intero il cursore viene posizionato alla fine del file quindi leggendolo di nuovo otterremmo la stringa vuota.\n",
        "\n",
        "Possiamo riposizionare manualmente il cursore utilizzando il metodo seek riposizionando il cursore all'inizio in posizione 0. Se avessimo messo come indice 10 saremmo partiti dal carattere numero 10."
      ],
      "metadata": {
        "id": "DgIAqF0CEkju"
      }
    },
    {
      "cell_type": "code",
      "source": [
        "proverbs_file.seek(0)\n",
        "proverbs_file.read()"
      ],
      "metadata": {
        "colab": {
          "base_uri": "https://localhost:8080/",
          "height": 125
        },
        "id": "SZpaIrSkFCC6",
        "outputId": "d41d4919-cc55-4731-b10d-0358309cab5e"
      },
      "execution_count": null,
      "outputs": [
        {
          "output_type": "execute_result",
          "data": {
            "text/plain": [
              "'A buon intenditor, poche parole. \\nA caval donato non si guarda in bocca. \\nAnno nuovo, vita nuova. \\nBacco, Tabacco e Venere, riducon l’uomo in cenere. \\nBuon sangue non mente. \\nCampa cavallo che l’erba cresce. \\nCan che abbaia non morde. \\nChi ben comincia è alla metà dell’opera. \\nChi è causa del suo mal, pianga se stesso.\\nChi la dura, la vince. \\nChiodo scaccia chiodo. \\nTanto la va la gatta al lardo che ci lascia lo zampino. '"
            ],
            "application/vnd.google.colaboratory.intrinsic+json": {
              "type": "string"
            }
          },
          "metadata": {},
          "execution_count": 8
        }
      ]
    },
    {
      "cell_type": "markdown",
      "source": [
        "Possiamo anche leggere il file riga per riga facendo riferimento al carattere di nuova riga \"/n\"."
      ],
      "metadata": {
        "id": "voHd3uymFSMP"
      }
    },
    {
      "cell_type": "code",
      "source": [
        "proverbs_file.seek(0)\n",
        "proverbs_file.readlines() #ritorna una lista che contiene varie stringhe\n"
      ],
      "metadata": {
        "colab": {
          "base_uri": "https://localhost:8080/"
        },
        "id": "Yqm_pNb5FZys",
        "outputId": "40eb4559-9b0d-4520-bdfd-0c6a7ff2ffe9"
      },
      "execution_count": null,
      "outputs": [
        {
          "output_type": "execute_result",
          "data": {
            "text/plain": [
              "['A buon intenditor, poche parole. \\n',\n",
              " 'A caval donato non si guarda in bocca. \\n',\n",
              " 'Anno nuovo, vita nuova. \\n',\n",
              " 'Bacco, Tabacco e Venere, riducon l’uomo in cenere. \\n',\n",
              " 'Buon sangue non mente. \\n',\n",
              " 'Campa cavallo che l’erba cresce. \\n',\n",
              " 'Can che abbaia non morde. \\n',\n",
              " 'Chi ben comincia è alla metà dell’opera. \\n',\n",
              " 'Chi è causa del suo mal, pianga se stesso.\\n',\n",
              " 'Chi la dura, la vince. \\n',\n",
              " 'Chiodo scaccia chiodo. \\n',\n",
              " 'Tanto la va la gatta al lardo che ci lascia lo zampino. ']"
            ]
          },
          "metadata": {},
          "execution_count": 9
        }
      ]
    },
    {
      "cell_type": "code",
      "source": [
        "proverbs_file.seek(0)\n",
        "for line in proverbs_file.readlines():\n",
        "  print(line, end=\"\") #di default è end=\"\\n\" quindi print di default fa finire con un a capo alla fine\n",
        "\n",
        "  #proviamo a farlo con qualcosa di diverso per capire come funziona questo parametro\n",
        "\n",
        "\n"
      ],
      "metadata": {
        "colab": {
          "base_uri": "https://localhost:8080/"
        },
        "id": "zxuPAEtRJPCc",
        "outputId": "70946633-3617-49c4-fc40-54837f69ab86"
      },
      "execution_count": null,
      "outputs": [
        {
          "output_type": "stream",
          "name": "stdout",
          "text": [
            "A buon intenditor, poche parole. \n",
            "A caval donato non si guarda in bocca. \n",
            "Anno nuovo, vita nuova. \n",
            "Bacco, Tabacco e Venere, riducon l’uomo in cenere. \n",
            "Buon sangue non mente. \n",
            "Campa cavallo che l’erba cresce. \n",
            "Can che abbaia non morde. \n",
            "Chi ben comincia è alla metà dell’opera. \n",
            "Chi è causa del suo mal, pianga se stesso.\n",
            "Chi la dura, la vince. \n",
            "Chiodo scaccia chiodo. \n",
            "Tanto la va la gatta al lardo che ci lascia lo zampino. "
          ]
        }
      ]
    },
    {
      "cell_type": "code",
      "source": [
        "proverbs_file.seek(0)\n",
        "for line in proverbs_file.readlines():\n",
        "  print(line, end=\"...\")"
      ],
      "metadata": {
        "colab": {
          "base_uri": "https://localhost:8080/"
        },
        "id": "vswTArxWb3Zy",
        "outputId": "0f3459fa-64d3-45c8-c1aa-af4eccb9a0b1"
      },
      "execution_count": null,
      "outputs": [
        {
          "output_type": "stream",
          "name": "stdout",
          "text": [
            "A buon intenditor, poche parole. \n",
            "...A caval donato non si guarda in bocca. \n",
            "...Anno nuovo, vita nuova. \n",
            "...Bacco, Tabacco e Venere, riducon l’uomo in cenere. \n",
            "...Buon sangue non mente. \n",
            "...Campa cavallo che l’erba cresce. \n",
            "...Can che abbaia non morde. \n",
            "...Chi ben comincia è alla metà dell’opera. \n",
            "...Chi è causa del suo mal, pianga se stesso.\n",
            "...Chi la dura, la vince. \n",
            "...Chiodo scaccia chiodo. \n",
            "...Tanto la va la gatta al lardo che ci lascia lo zampino. ..."
          ]
        }
      ]
    },
    {
      "cell_type": "markdown",
      "source": [
        "Una volta aperto un file ci dobbiamo ricordare di chiuderlo."
      ],
      "metadata": {
        "id": "DE_STN4bcA8v"
      }
    },
    {
      "cell_type": "code",
      "source": [
        "proverbs_file.close()"
      ],
      "metadata": {
        "id": "8Xj0ygLRcE2e"
      },
      "execution_count": null,
      "outputs": []
    },
    {
      "cell_type": "code",
      "source": [
        "proverbs_file.read()\n",
        "\n",
        "#otterremmo un'eccezidne dato che il file ormai è chiuso\n",
        "#l'eccezione ci dice che stiamo cercando di eseguire un'opzione di Input output su un file chiuso\n",
        "\n"
      ],
      "metadata": {
        "colab": {
          "base_uri": "https://localhost:8080/",
          "height": 216
        },
        "id": "lfmuKlbVcLEJ",
        "outputId": "38d950cf-799e-409e-e7b2-c22ddbd5a374"
      },
      "execution_count": null,
      "outputs": [
        {
          "output_type": "error",
          "ename": "ValueError",
          "evalue": "I/O operation on closed file.",
          "traceback": [
            "\u001b[0;31m---------------------------------------------------------------------------\u001b[0m",
            "\u001b[0;31mValueError\u001b[0m                                Traceback (most recent call last)",
            "\u001b[0;32m<ipython-input-15-7bfaa12502f7>\u001b[0m in \u001b[0;36m<cell line: 1>\u001b[0;34m()\u001b[0m\n\u001b[0;32m----> 1\u001b[0;31m \u001b[0mproverbs_file\u001b[0m\u001b[0;34m.\u001b[0m\u001b[0mread\u001b[0m\u001b[0;34m(\u001b[0m\u001b[0;34m)\u001b[0m\u001b[0;34m\u001b[0m\u001b[0;34m\u001b[0m\u001b[0m\n\u001b[0m\u001b[1;32m      2\u001b[0m \u001b[0;34m\u001b[0m\u001b[0m\n\u001b[1;32m      3\u001b[0m \u001b[0;31m#otterremmo un'eccezidne dato che il file ormai è chiuso\u001b[0m\u001b[0;34m\u001b[0m\u001b[0;34m\u001b[0m\u001b[0m\n",
            "\u001b[0;31mValueError\u001b[0m: I/O operation on closed file."
          ]
        }
      ]
    },
    {
      "cell_type": "markdown",
      "source": [
        "Spessissimo capiterà che ci si dimenticherà di chiudere i file, quindi gli sviluppatori di Python hanno messo a disposizione la parola with che ci permette di eseguire comando all'interno di un contesto."
      ],
      "metadata": {
        "id": "tBXDY64Icfe5"
      }
    },
    {
      "cell_type": "code",
      "source": [
        "with open(\"proverbi.txt\") as proverbs_file:\n",
        "  proverbs = proverbs_file.read()\n",
        "  print(proverbs)\n",
        "\n"
      ],
      "metadata": {
        "colab": {
          "base_uri": "https://localhost:8080/"
        },
        "id": "Zfw6ISjTctE7",
        "outputId": "9e5fc199-2992-4ecd-a03a-cf8bf43d843f"
      },
      "execution_count": null,
      "outputs": [
        {
          "output_type": "stream",
          "name": "stdout",
          "text": [
            "A buon intenditor, poche parole. \n",
            "A caval donato non si guarda in bocca. \n",
            "Anno nuovo, vita nuova. \n",
            "Bacco, Tabacco e Venere, riducon l’uomo in cenere. \n",
            "Buon sangue non mente. \n",
            "Campa cavallo che l’erba cresce. \n",
            "Can che abbaia non morde. \n",
            "Chi ben comincia è alla metà dell’opera. \n",
            "Chi è causa del suo mal, pianga se stesso.\n",
            "Chi la dura, la vince. \n",
            "Chiodo scaccia chiodo. \n",
            "Tanto la va la gatta al lardo che ci lascia lo zampino. \n"
          ]
        }
      ]
    },
    {
      "cell_type": "markdown",
      "source": [
        "Praticamente il file viene chiuso automaticamente quando usciamo dal contesto che abbiamo creato con \"with\"."
      ],
      "metadata": {
        "id": "caB5vbZidl92"
      }
    },
    {
      "cell_type": "markdown",
      "source": [
        "Per poter scrivere all'interno di un file dobbiamo aprire il file con i giusti permessi specificati nella funzione <mark> open.\n",
        "\n",
        "\n",
        "r: apre il file in sola lettura (modalità di default)\n",
        "\n",
        "r+: apre il file in lettura e scrittura, il puntatore viene posizionato all'inizio del file\n",
        "\n",
        "w: apre il file in sola scrittura, se il file esiste lo sovrascrive, se non esiste lo crea\n",
        "\n",
        "w+: apre il file in lettura e scrittura, se il file esiste lo sovrascrive, se non esiste lo crea\n",
        "\n",
        "a: apre il file in scrittura senza sovrascrivere il contenuto corrente\n",
        "\n",
        "a+: apre il file in lettura e scrittura senza sovrascrivere il contenuto corrente. Se il file non esiste lo crea."
      ],
      "metadata": {
        "id": "3aUC2Yscd7NM"
      }
    },
    {
      "cell_type": "code",
      "source": [
        "proverbs_file = open(\"proverbi.txt\", \"r\")\n"
      ],
      "metadata": {
        "id": "iCtJbuYrewaq"
      },
      "execution_count": null,
      "outputs": []
    },
    {
      "cell_type": "code",
      "source": [
        "proverb = \"\\nIl vino buono sta nelle botti piccole\"\n",
        "proverbs_file.write(proverb)\n",
        "\n",
        "#operazione non supportato perchè non possiamo scrivere su un file aperto in sola lettura.\n",
        "\n"
      ],
      "metadata": {
        "colab": {
          "base_uri": "https://localhost:8080/",
          "height": 198
        },
        "id": "lf8kI6NvfDt3",
        "outputId": "dedb0ee1-6add-480b-8a92-3ed51c4e19cf"
      },
      "execution_count": null,
      "outputs": [
        {
          "output_type": "error",
          "ename": "UnsupportedOperation",
          "evalue": "not writable",
          "traceback": [
            "\u001b[0;31m---------------------------------------------------------------------------\u001b[0m",
            "\u001b[0;31mUnsupportedOperation\u001b[0m                      Traceback (most recent call last)",
            "\u001b[0;32m<ipython-input-21-0cb4c697e686>\u001b[0m in \u001b[0;36m<cell line: 2>\u001b[0;34m()\u001b[0m\n\u001b[1;32m      1\u001b[0m \u001b[0mproverb\u001b[0m \u001b[0;34m=\u001b[0m \u001b[0;34m\"\\nIl vino buono sta nelle botti piccole\"\u001b[0m\u001b[0;34m\u001b[0m\u001b[0;34m\u001b[0m\u001b[0m\n\u001b[0;32m----> 2\u001b[0;31m \u001b[0mproverbs_file\u001b[0m\u001b[0;34m.\u001b[0m\u001b[0mwrite\u001b[0m\u001b[0;34m(\u001b[0m\u001b[0;34m\"\"\u001b[0m\u001b[0;34m)\u001b[0m\u001b[0;34m\u001b[0m\u001b[0;34m\u001b[0m\u001b[0m\n\u001b[0m",
            "\u001b[0;31mUnsupportedOperation\u001b[0m: not writable"
          ]
        }
      ]
    },
    {
      "cell_type": "code",
      "source": [
        "f =open(\"file.txt\", \"w\")"
      ],
      "metadata": {
        "id": "iMtU8VhVfqvB"
      },
      "execution_count": null,
      "outputs": []
    },
    {
      "cell_type": "code",
      "source": [
        "f.write(proverb)"
      ],
      "metadata": {
        "colab": {
          "base_uri": "https://localhost:8080/"
        },
        "id": "t9QQc3JugLHD",
        "outputId": "f801fb9f-e1f5-4820-bfbd-b9345f0c2884"
      },
      "execution_count": null,
      "outputs": [
        {
          "output_type": "execute_result",
          "data": {
            "text/plain": [
              "38"
            ]
          },
          "metadata": {},
          "execution_count": 24
        }
      ]
    },
    {
      "cell_type": "markdown",
      "source": [
        "Il metodo write ci ritorna un numero che è 38, sono i numeri i bit che sono stati scritti."
      ],
      "metadata": {
        "id": "7yhM_9_kgRT4"
      }
    },
    {
      "cell_type": "code",
      "source": [
        "f.read()"
      ],
      "metadata": {
        "colab": {
          "base_uri": "https://localhost:8080/",
          "height": 180
        },
        "id": "j88dTBiRghVg",
        "outputId": "39f54dac-57d2-4712-b52a-acb1272344eb"
      },
      "execution_count": null,
      "outputs": [
        {
          "output_type": "error",
          "ename": "UnsupportedOperation",
          "evalue": "not readable",
          "traceback": [
            "\u001b[0;31m---------------------------------------------------------------------------\u001b[0m",
            "\u001b[0;31mUnsupportedOperation\u001b[0m                      Traceback (most recent call last)",
            "\u001b[0;32m<ipython-input-25-571e9fb02258>\u001b[0m in \u001b[0;36m<cell line: 1>\u001b[0;34m()\u001b[0m\n\u001b[0;32m----> 1\u001b[0;31m \u001b[0mf\u001b[0m\u001b[0;34m.\u001b[0m\u001b[0mread\u001b[0m\u001b[0;34m(\u001b[0m\u001b[0;34m)\u001b[0m\u001b[0;34m\u001b[0m\u001b[0;34m\u001b[0m\u001b[0m\n\u001b[0m",
            "\u001b[0;31mUnsupportedOperation\u001b[0m: not readable"
          ]
        }
      ]
    },
    {
      "cell_type": "code",
      "source": [
        "proverbs_file = open(proverbi.txt, \"a\")\n",
        "proverbs_file.write(proverb)"
      ],
      "metadata": {
        "colab": {
          "base_uri": "https://localhost:8080/",
          "height": 198
        },
        "id": "tD2VAnW5guIh",
        "outputId": "095adcb7-ed11-41ad-e3a6-09898c6152d4"
      },
      "execution_count": null,
      "outputs": [
        {
          "output_type": "error",
          "ename": "NameError",
          "evalue": "name 'proverbi' is not defined",
          "traceback": [
            "\u001b[0;31m---------------------------------------------------------------------------\u001b[0m",
            "\u001b[0;31mNameError\u001b[0m                                 Traceback (most recent call last)",
            "\u001b[0;32m<ipython-input-27-de721ccbd96a>\u001b[0m in \u001b[0;36m<cell line: 1>\u001b[0;34m()\u001b[0m\n\u001b[0;32m----> 1\u001b[0;31m \u001b[0mproverbs_file\u001b[0m \u001b[0;34m=\u001b[0m \u001b[0mopen\u001b[0m\u001b[0;34m(\u001b[0m\u001b[0mproverbi\u001b[0m\u001b[0;34m.\u001b[0m\u001b[0mtxt\u001b[0m\u001b[0;34m,\u001b[0m \u001b[0;34m\"a\"\u001b[0m\u001b[0;34m)\u001b[0m\u001b[0;34m\u001b[0m\u001b[0;34m\u001b[0m\u001b[0m\n\u001b[0m\u001b[1;32m      2\u001b[0m \u001b[0mproverbs_file\u001b[0m\u001b[0;34m.\u001b[0m\u001b[0mwrite\u001b[0m\u001b[0;34m(\u001b[0m\u001b[0mproverb\u001b[0m\u001b[0;34m)\u001b[0m\u001b[0;34m\u001b[0m\u001b[0;34m\u001b[0m\u001b[0m\n",
            "\u001b[0;31mNameError\u001b[0m: name 'proverbi' is not defined"
          ]
        }
      ]
    },
    {
      "cell_type": "code",
      "source": [
        "proverbs_file = open(\"proverbi.txt\", \"a+\", encoding=\"utf-8\")\n",
        "proverbs_file.read()"
      ],
      "metadata": {
        "colab": {
          "base_uri": "https://localhost:8080/",
          "height": 35
        },
        "id": "ZS3oAYjOkNV1",
        "outputId": "3c6ccec6-8b0f-469c-9b40-2bb493f7154b"
      },
      "execution_count": null,
      "outputs": [
        {
          "output_type": "execute_result",
          "data": {
            "text/plain": [
              "''"
            ],
            "application/vnd.google.colaboratory.intrinsic+json": {
              "type": "string"
            }
          },
          "metadata": {},
          "execution_count": 31
        }
      ]
    },
    {
      "cell_type": "code",
      "source": [
        "proverbs_file.seek(0)"
      ],
      "metadata": {
        "colab": {
          "base_uri": "https://localhost:8080/"
        },
        "id": "lmgkTszPkcQI",
        "outputId": "ee71ecf1-ec58-44db-a5f2-4b2afd83cd88"
      },
      "execution_count": null,
      "outputs": [
        {
          "output_type": "execute_result",
          "data": {
            "text/plain": [
              "0"
            ]
          },
          "metadata": {},
          "execution_count": 32
        }
      ]
    },
    {
      "cell_type": "code",
      "source": [
        "proverbs_file.readlines()"
      ],
      "metadata": {
        "colab": {
          "base_uri": "https://localhost:8080/"
        },
        "id": "16l_J7H0kge9",
        "outputId": "ed342341-660f-4b3a-f946-c5f51e969e8f"
      },
      "execution_count": null,
      "outputs": [
        {
          "output_type": "execute_result",
          "data": {
            "text/plain": [
              "['A buon intenditor, poche parole. \\n',\n",
              " 'A caval donato non si guarda in bocca. \\n',\n",
              " 'Anno nuovo, vita nuova. \\n',\n",
              " 'Bacco, Tabacco e Venere, riducon l’uomo in cenere. \\n',\n",
              " 'Buon sangue non mente. \\n',\n",
              " 'Campa cavallo che l’erba cresce. \\n',\n",
              " 'Can che abbaia non morde. \\n',\n",
              " 'Chi ben comincia è alla metà dell’opera. \\n',\n",
              " 'Chi è causa del suo mal, pianga se stesso.\\n',\n",
              " 'Chi la dura, la vince. \\n',\n",
              " 'Chiodo scaccia chiodo. \\n',\n",
              " 'Tanto la va la gatta al lardo che ci lascia lo zampino. ']"
            ]
          },
          "metadata": {},
          "execution_count": 33
        }
      ]
    },
    {
      "cell_type": "code",
      "source": [
        "proverbs_file.write(\"\\nChi va a Roma perde la poltrona.\")"
      ],
      "metadata": {
        "colab": {
          "base_uri": "https://localhost:8080/"
        },
        "id": "ArpNORNqkuay",
        "outputId": "f295db75-75c0-490c-b86a-54777b43427a"
      },
      "execution_count": null,
      "outputs": [
        {
          "output_type": "execute_result",
          "data": {
            "text/plain": [
              "33"
            ]
          },
          "metadata": {},
          "execution_count": 34
        }
      ]
    },
    {
      "cell_type": "code",
      "source": [
        "proverbs_file.seek(0)\n",
        "proverbs_file.readlines()"
      ],
      "metadata": {
        "colab": {
          "base_uri": "https://localhost:8080/"
        },
        "id": "yb9MkZ7Uk8Wd",
        "outputId": "20b406a4-84f3-498c-f1ab-6d6fc9dcd0eb"
      },
      "execution_count": null,
      "outputs": [
        {
          "output_type": "execute_result",
          "data": {
            "text/plain": [
              "['A buon intenditor, poche parole. \\n',\n",
              " 'A caval donato non si guarda in bocca. \\n',\n",
              " 'Anno nuovo, vita nuova. \\n',\n",
              " 'Bacco, Tabacco e Venere, riducon l’uomo in cenere. \\n',\n",
              " 'Buon sangue non mente. \\n',\n",
              " 'Campa cavallo che l’erba cresce. \\n',\n",
              " 'Can che abbaia non morde. \\n',\n",
              " 'Chi ben comincia è alla metà dell’opera. \\n',\n",
              " 'Chi è causa del suo mal, pianga se stesso.\\n',\n",
              " 'Chi la dura, la vince. \\n',\n",
              " 'Chiodo scaccia chiodo. \\n',\n",
              " 'Tanto la va la gatta al lardo che ci lascia lo zampino. \\n',\n",
              " 'Chi va a Roma perde la poltrona.']"
            ]
          },
          "metadata": {},
          "execution_count": 35
        }
      ]
    },
    {
      "cell_type": "markdown",
      "source": [
        "# <mark> Leggere un file in formato binario\n",
        "\n",
        "\n",
        "Di base la funzione open di un file interpreta il contenuto di un file come del testo, però ci può capitare di lavorare su dei file che non contengono del testo, in questi casi possiamo aprirli in <mark> modalità binaria.\n",
        "\n",
        "Il \"rb\" che vediamo nel contesto di apertura sta per read binary\n"
      ],
      "metadata": {
        "id": "XnifPb8FlIDL"
      }
    },
    {
      "cell_type": "code",
      "source": [
        "with open(\"proverbi.txt\", \"rb\") as proverbs_file:\n",
        "  proverbs = proverbs_file.readlines()"
      ],
      "metadata": {
        "id": "rsWlwI3kqSo2"
      },
      "execution_count": null,
      "outputs": []
    },
    {
      "cell_type": "code",
      "source": [
        "proverbs[0]"
      ],
      "metadata": {
        "colab": {
          "base_uri": "https://localhost:8080/"
        },
        "id": "xwhKxIqZq292",
        "outputId": "ceea51fa-2ae0-433c-d6c9-a3e6b904fe11"
      },
      "execution_count": null,
      "outputs": [
        {
          "output_type": "execute_result",
          "data": {
            "text/plain": [
              "b'A buon intenditor, poche parole. \\n'"
            ]
          },
          "metadata": {},
          "execution_count": 37
        }
      ]
    },
    {
      "cell_type": "markdown",
      "source": [
        "Potrebbe sembrare che non sia cambiato niente ma prima della stringa c'è una b, se stampiamo il tipo di questa si tratterrà di una sequenza di byte."
      ],
      "metadata": {
        "id": "cxLXkD3hq95g"
      }
    },
    {
      "cell_type": "code",
      "source": [
        "type(proverbs[0])"
      ],
      "metadata": {
        "colab": {
          "base_uri": "https://localhost:8080/"
        },
        "id": "28CpnaOxrHit",
        "outputId": "2bc55f76-18ef-40b6-9ab7-5b9bf3038eab"
      },
      "execution_count": null,
      "outputs": [
        {
          "output_type": "execute_result",
          "data": {
            "text/plain": [
              "bytes"
            ]
          },
          "metadata": {},
          "execution_count": 38
        }
      ]
    },
    {
      "cell_type": "markdown",
      "source": [
        "Quindi python ci mette questa b per dirci \"guarda io ti faccio vedere una stringa in codice binario\" te la traduco solamente a livello visivo perchè se no non capiresti nulla."
      ],
      "metadata": {
        "id": "nO7YiOJ4rMn6"
      }
    },
    {
      "cell_type": "markdown",
      "source": [
        "#Operare su file CSV\n",
        "\n",
        "Abbiamo scaricato il file shirts.csv dalla repository del corso su Github di Prof Ai.\n",
        "\n",
        "Abbiamo bisogno di un modulo apposta per poter importare questo file che si chiama modulo csv che fa parte della standard library di Python."
      ],
      "metadata": {
        "id": "O0qmh2qlt4Lh"
      }
    },
    {
      "cell_type": "code",
      "source": [
        "import csv #fa parte della standard library di python\n",
        "\n",
        "with open(\"shirts.csv\", \"r\") as csv_file:\n",
        "\n",
        "  csv_reader = csv.reader(csv_file)\n",
        "\n",
        "  for i, row in enumerate(csv_reader):\n",
        "\n",
        "    if i==0:\n",
        "      print(\"Colonne: \", row)\n",
        "    else:\n",
        "      print(f\"Entry {i}\", row)\n",
        "\n",
        "#abbiamo stampato in modo che si capisse meglio il contenuto\n",
        "#quindi abbiamo\n",
        "\n",
        "\n"
      ],
      "metadata": {
        "colab": {
          "base_uri": "https://localhost:8080/"
        },
        "id": "GVxT4tf6ukgi",
        "outputId": "17c6e7d3-09cd-41f3-96fe-b0cc27c552f6"
      },
      "execution_count": null,
      "outputs": [
        {
          "output_type": "stream",
          "name": "stdout",
          "text": [
            "Colonne:  ['', 'taglia', 'colore', 'prezzo']\n",
            "Entry 1 ['0', 'S', 'bianco', '4.99']\n",
            "Entry 2 ['1', 'M', 'bianco', '19.99']\n",
            "Entry 3 ['2', 'XL', 'bianco', '12.49']\n",
            "Entry 4 ['3', 'XL', 'bianco', '14.99']\n",
            "Entry 5 ['4', 'S', 'bianco', '14.99']\n",
            "Entry 6 ['5', 'S', 'verde', '7.99']\n",
            "Entry 7 ['6', 'M', 'verde', '4.99']\n",
            "Entry 8 ['7', 'L', 'verde', '12.49']\n",
            "Entry 9 ['8', 'XL', 'bianco', '12.49']\n",
            "Entry 10 ['9', 'M', 'verde', '19.99']\n",
            "Entry 11 ['10', 'L', 'bianco', '14.99']\n",
            "Entry 12 ['11', 'XL', 'bianco', '19.99']\n",
            "Entry 13 ['12', 'M', 'bianco', '4.99']\n",
            "Entry 14 ['13', 'L', 'bianco', '7.99']\n",
            "Entry 15 ['14', 'M', 'bianco', '14.99']\n",
            "Entry 16 ['15', 'XL', 'rosso', '9.99']\n",
            "Entry 17 ['16', 'S', 'rosso', '12.49']\n",
            "Entry 18 ['17', 'L', 'bianco', '7.99']\n",
            "Entry 19 ['18', 'XL', 'bianco', '4.99']\n",
            "Entry 20 ['19', 'M', 'verde', '14.99']\n",
            "Entry 21 ['20', 'S', 'verde', '14.99']\n",
            "Entry 22 ['21', 'XL', 'bianco', '7.99']\n",
            "Entry 23 ['22', 'S', 'verde', '9.99']\n",
            "Entry 24 ['23', 'XL', 'bianco', '14.99']\n",
            "Entry 25 ['24', 'S', 'rosso', '14.99']\n",
            "Entry 26 ['25', 'XL', 'bianco', '9.99']\n",
            "Entry 27 ['26', 'M', 'verde', '7.99']\n",
            "Entry 28 ['27', 'XL', 'bianco', '4.99']\n",
            "Entry 29 ['28', 'S', 'verde', '14.99']\n",
            "Entry 30 ['29', 'L', 'bianco', '12.49']\n",
            "Entry 31 ['30', 'M', 'rosso', '9.99']\n",
            "Entry 32 ['31', 'L', 'verde', '9.99']\n",
            "Entry 33 ['32', 'XL', 'rosso', '7.99']\n",
            "Entry 34 ['33', 'M', 'bianco', '19.99']\n",
            "Entry 35 ['34', 'L', 'verde', '12.49']\n",
            "Entry 36 ['35', 'L', 'bianco', '12.49']\n",
            "Entry 37 ['36', 'L', 'bianco', '9.99']\n",
            "Entry 38 ['37', 'XL', 'bianco', '14.99']\n",
            "Entry 39 ['38', 'L', 'verde', '14.99']\n",
            "Entry 40 ['39', 'XL', 'verde', '9.99']\n",
            "Entry 41 ['40', 'M', 'bianco', '14.99']\n",
            "Entry 42 ['41', 'L', 'verde', '19.99']\n",
            "Entry 43 ['42', 'XL', 'verde', '7.99']\n",
            "Entry 44 ['43', 'M', 'verde', '19.99']\n",
            "Entry 45 ['44', 'L', 'rosso', '19.99']\n",
            "Entry 46 ['45', 'XL', 'bianco', '9.99']\n",
            "Entry 47 ['46', 'M', 'rosso', '12.49']\n",
            "Entry 48 ['47', 'S', 'bianco', '7.99']\n",
            "Entry 49 ['48', 'S', 'rosso', '14.99']\n",
            "Entry 50 ['49', 'S', 'verde', '12.49']\n",
            "Entry 51 ['50', 'XL', 'bianco', '19.99']\n",
            "Entry 52 ['51', 'S', 'verde', '14.99']\n",
            "Entry 53 ['52', 'S', 'bianco', '19.99']\n",
            "Entry 54 ['53', 'M', 'verde', '9.99']\n",
            "Entry 55 ['54', 'L', 'verde', '4.99']\n",
            "Entry 56 ['55', 'M', 'verde', '12.49']\n",
            "Entry 57 ['56', 'L', 'bianco', '12.49']\n",
            "Entry 58 ['57', 'S', 'verde', '7.99']\n",
            "Entry 59 ['58', 'S', 'verde', '19.99']\n",
            "Entry 60 ['59', 'L', 'bianco', '9.99']\n",
            "Entry 61 ['60', 'XL', 'rosso', '14.99']\n",
            "Entry 62 ['61', 'M', 'bianco', '12.49']\n",
            "Entry 63 ['62', 'XL', 'bianco', '14.99']\n",
            "Entry 64 ['63', 'L', 'bianco', '9.99']\n",
            "Entry 65 ['64', 'XL', 'verde', '14.99']\n",
            "Entry 66 ['65', 'L', 'bianco', '12.49']\n",
            "Entry 67 ['66', 'XL', 'bianco', '4.99']\n",
            "Entry 68 ['67', 'L', 'bianco', '14.99']\n",
            "Entry 69 ['68', 'L', 'verde', '9.99']\n",
            "Entry 70 ['69', 'S', 'rosso', '14.99']\n",
            "Entry 71 ['70', 'S', 'rosso', '19.99']\n",
            "Entry 72 ['71', 'XL', 'rosso', '14.99']\n",
            "Entry 73 ['72', 'S', 'bianco', '9.99']\n",
            "Entry 74 ['73', 'S', 'rosso', '14.99']\n",
            "Entry 75 ['74', 'L', 'bianco', '9.99']\n",
            "Entry 76 ['75', 'XL', 'bianco', '9.99']\n",
            "Entry 77 ['76', 'L', 'verde', '19.99']\n",
            "Entry 78 ['77', 'XL', 'bianco', '19.99']\n",
            "Entry 79 ['78', 'M', 'bianco', '4.99']\n",
            "Entry 80 ['79', 'M', 'bianco', '9.99']\n",
            "Entry 81 ['80', 'S', 'bianco', '14.99']\n",
            "Entry 82 ['81', 'L', 'bianco', '19.99']\n",
            "Entry 83 ['82', 'S', 'verde', '7.99']\n",
            "Entry 84 ['83', 'XL', 'verde', '9.99']\n",
            "Entry 85 ['84', 'M', 'bianco', '12.49']\n",
            "Entry 86 ['85', 'L', 'verde', '4.99']\n",
            "Entry 87 ['86', 'M', 'bianco', '7.99']\n",
            "Entry 88 ['87', 'M', 'rosso', '14.99']\n",
            "Entry 89 ['88', 'S', 'rosso', '9.99']\n",
            "Entry 90 ['89', 'M', 'verde', '4.99']\n",
            "Entry 91 ['90', 'M', 'bianco', '12.49']\n",
            "Entry 92 ['91', 'M', 'rosso', '14.99']\n",
            "Entry 93 ['92', 'L', 'verde', '19.99']\n",
            "Entry 94 ['93', 'M', 'rosso', '7.99']\n",
            "Entry 95 ['94', 'S', 'verde', '4.99']\n",
            "Entry 96 ['95', 'L', 'bianco', '9.99']\n",
            "Entry 97 ['96', 'M', 'verde', '14.99']\n",
            "Entry 98 ['97', 'S', 'rosso', '12.49']\n",
            "Entry 99 ['98', 'L', 'rosso', '12.49']\n",
            "Entry 100 ['99', 'S', 'rosso', '19.99']\n"
          ]
        }
      ]
    },
    {
      "cell_type": "markdown",
      "source": [
        "Magari vogliamo andare a visualizzare e ottenere il file csv come coppia chiave valore, vediamo come farlo:\n",
        "\n",
        "Dove abbiamo il nome della colonna come chiave e valore ciò che è sotto.\n",
        "\n",
        "Sotto abbiamo stampato il contenuto del nostro file csv in maniera tabulare."
      ],
      "metadata": {
        "id": "5nu2Lhcuv5q8"
      }
    },
    {
      "cell_type": "code",
      "source": [
        "\n",
        "\n",
        "with open(\"shirts.csv\", \"r\") as csv_file:\n",
        "\n",
        "  csv_reader = csv.DictReader(csv_file)\n",
        "  print(\"%s\\t%s\\t%s\\t\" % tuple(csv_reader.fieldnames[1:]))\n",
        "\n",
        "  for row in csv_reader:\n",
        "    print(\"%s\\t%s\\t%s\\t\" % (row[\"taglia\"], row[\"colore\"], row[\"prezzo\"] ))\n",
        "\n"
      ],
      "metadata": {
        "colab": {
          "base_uri": "https://localhost:8080/"
        },
        "id": "FnomcjLFwA1T",
        "outputId": "1e509a46-e841-4a04-e3e0-d16f01266c1d"
      },
      "execution_count": null,
      "outputs": [
        {
          "output_type": "stream",
          "name": "stdout",
          "text": [
            "taglia\tcolore\tprezzo\t\n",
            "S\tbianco\t4.99\t\n",
            "M\tbianco\t19.99\t\n",
            "XL\tbianco\t12.49\t\n",
            "XL\tbianco\t14.99\t\n",
            "S\tbianco\t14.99\t\n",
            "S\tverde\t7.99\t\n",
            "M\tverde\t4.99\t\n",
            "L\tverde\t12.49\t\n",
            "XL\tbianco\t12.49\t\n",
            "M\tverde\t19.99\t\n",
            "L\tbianco\t14.99\t\n",
            "XL\tbianco\t19.99\t\n",
            "M\tbianco\t4.99\t\n",
            "L\tbianco\t7.99\t\n",
            "M\tbianco\t14.99\t\n",
            "XL\trosso\t9.99\t\n",
            "S\trosso\t12.49\t\n",
            "L\tbianco\t7.99\t\n",
            "XL\tbianco\t4.99\t\n",
            "M\tverde\t14.99\t\n",
            "S\tverde\t14.99\t\n",
            "XL\tbianco\t7.99\t\n",
            "S\tverde\t9.99\t\n",
            "XL\tbianco\t14.99\t\n",
            "S\trosso\t14.99\t\n",
            "XL\tbianco\t9.99\t\n",
            "M\tverde\t7.99\t\n",
            "XL\tbianco\t4.99\t\n",
            "S\tverde\t14.99\t\n",
            "L\tbianco\t12.49\t\n",
            "M\trosso\t9.99\t\n",
            "L\tverde\t9.99\t\n",
            "XL\trosso\t7.99\t\n",
            "M\tbianco\t19.99\t\n",
            "L\tverde\t12.49\t\n",
            "L\tbianco\t12.49\t\n",
            "L\tbianco\t9.99\t\n",
            "XL\tbianco\t14.99\t\n",
            "L\tverde\t14.99\t\n",
            "XL\tverde\t9.99\t\n",
            "M\tbianco\t14.99\t\n",
            "L\tverde\t19.99\t\n",
            "XL\tverde\t7.99\t\n",
            "M\tverde\t19.99\t\n",
            "L\trosso\t19.99\t\n",
            "XL\tbianco\t9.99\t\n",
            "M\trosso\t12.49\t\n",
            "S\tbianco\t7.99\t\n",
            "S\trosso\t14.99\t\n",
            "S\tverde\t12.49\t\n",
            "XL\tbianco\t19.99\t\n",
            "S\tverde\t14.99\t\n",
            "S\tbianco\t19.99\t\n",
            "M\tverde\t9.99\t\n",
            "L\tverde\t4.99\t\n",
            "M\tverde\t12.49\t\n",
            "L\tbianco\t12.49\t\n",
            "S\tverde\t7.99\t\n",
            "S\tverde\t19.99\t\n",
            "L\tbianco\t9.99\t\n",
            "XL\trosso\t14.99\t\n",
            "M\tbianco\t12.49\t\n",
            "XL\tbianco\t14.99\t\n",
            "L\tbianco\t9.99\t\n",
            "XL\tverde\t14.99\t\n",
            "L\tbianco\t12.49\t\n",
            "XL\tbianco\t4.99\t\n",
            "L\tbianco\t14.99\t\n",
            "L\tverde\t9.99\t\n",
            "S\trosso\t14.99\t\n",
            "S\trosso\t19.99\t\n",
            "XL\trosso\t14.99\t\n",
            "S\tbianco\t9.99\t\n",
            "S\trosso\t14.99\t\n",
            "L\tbianco\t9.99\t\n",
            "XL\tbianco\t9.99\t\n",
            "L\tverde\t19.99\t\n",
            "XL\tbianco\t19.99\t\n",
            "M\tbianco\t4.99\t\n",
            "M\tbianco\t9.99\t\n",
            "S\tbianco\t14.99\t\n",
            "L\tbianco\t19.99\t\n",
            "S\tverde\t7.99\t\n",
            "XL\tverde\t9.99\t\n",
            "M\tbianco\t12.49\t\n",
            "L\tverde\t4.99\t\n",
            "M\tbianco\t7.99\t\n",
            "M\trosso\t14.99\t\n",
            "S\trosso\t9.99\t\n",
            "M\tverde\t4.99\t\n",
            "M\tbianco\t12.49\t\n",
            "M\trosso\t14.99\t\n",
            "L\tverde\t19.99\t\n",
            "M\trosso\t7.99\t\n",
            "S\tverde\t4.99\t\n",
            "L\tbianco\t9.99\t\n",
            "M\tverde\t14.99\t\n",
            "S\trosso\t12.49\t\n",
            "L\trosso\t12.49\t\n",
            "S\trosso\t19.99\t\n"
          ]
        }
      ]
    },
    {
      "cell_type": "markdown",
      "source": [
        "Vediamo come facciamo a scrivere su un file csv, possiamo farlo o tramite una lista o tramite dizionari.\n"
      ],
      "metadata": {
        "id": "VmF9nK0U0ZYX"
      }
    },
    {
      "cell_type": "code",
      "source": [
        "with open(\"shirts.csv\", \"a\", newline='\\n') as csv_file:\n",
        "  csv_file.write(\"\\n\")\n",
        "  csv_writer = csv.writer(csv_file)\n",
        "  csv_writer.writerow([100, \"XXL\", \"ciano\", 49.99])\n",
        "  csv_writer.writerow([101, \"XL\", \"magenta\", 59.99])"
      ],
      "metadata": {
        "id": "BDQtyDrK0kWG"
      },
      "execution_count": null,
      "outputs": []
    },
    {
      "cell_type": "code",
      "source": [
        "with open(\"shirts.csv\", \"r\") as csv_file:\n",
        "\n",
        "  csv_reader = csv.reader(csv_file)\n",
        "\n",
        "  for i, row in enumerate(csv_reader):\n",
        "\n",
        "    if i==0:\n",
        "      print(\"Colonne: \", row)\n",
        "    else:\n",
        "      print(f\"Entry {i}\", row)\n",
        "\n",
        "#abbiamo stampato in modo che si capisse meglio il contenuto\n",
        "#quindi abbiamo\n"
      ],
      "metadata": {
        "colab": {
          "base_uri": "https://localhost:8080/"
        },
        "id": "IL3QOatZkOcd",
        "outputId": "658bfa1a-a994-4f09-b321-6e57cb1431fa"
      },
      "execution_count": null,
      "outputs": [
        {
          "output_type": "stream",
          "name": "stdout",
          "text": [
            "Colonne:  ['', 'taglia', 'colore', 'prezzo']\n",
            "Entry 1 ['0', 'S', 'bianco', '4.99']\n",
            "Entry 2 ['1', 'M', 'bianco', '19.99']\n",
            "Entry 3 ['2', 'XL', 'bianco', '12.49']\n",
            "Entry 4 ['3', 'XL', 'bianco', '14.99']\n",
            "Entry 5 ['4', 'S', 'bianco', '14.99']\n",
            "Entry 6 ['5', 'S', 'verde', '7.99']\n",
            "Entry 7 ['6', 'M', 'verde', '4.99']\n",
            "Entry 8 ['7', 'L', 'verde', '12.49']\n",
            "Entry 9 ['8', 'XL', 'bianco', '12.49']\n",
            "Entry 10 ['9', 'M', 'verde', '19.99']\n",
            "Entry 11 ['10', 'L', 'bianco', '14.99']\n",
            "Entry 12 ['11', 'XL', 'bianco', '19.99']\n",
            "Entry 13 ['12', 'M', 'bianco', '4.99']\n",
            "Entry 14 ['13', 'L', 'bianco', '7.99']\n",
            "Entry 15 ['14', 'M', 'bianco', '14.99']\n",
            "Entry 16 ['15', 'XL', 'rosso', '9.99']\n",
            "Entry 17 ['16', 'S', 'rosso', '12.49']\n",
            "Entry 18 ['17', 'L', 'bianco', '7.99']\n",
            "Entry 19 ['18', 'XL', 'bianco', '4.99']\n",
            "Entry 20 ['19', 'M', 'verde', '14.99']\n",
            "Entry 21 ['20', 'S', 'verde', '14.99']\n",
            "Entry 22 ['21', 'XL', 'bianco', '7.99']\n",
            "Entry 23 ['22', 'S', 'verde', '9.99']\n",
            "Entry 24 ['23', 'XL', 'bianco', '14.99']\n",
            "Entry 25 ['24', 'S', 'rosso', '14.99']\n",
            "Entry 26 ['25', 'XL', 'bianco', '9.99']\n",
            "Entry 27 ['26', 'M', 'verde', '7.99']\n",
            "Entry 28 ['27', 'XL', 'bianco', '4.99']\n",
            "Entry 29 ['28', 'S', 'verde', '14.99']\n",
            "Entry 30 ['29', 'L', 'bianco', '12.49']\n",
            "Entry 31 ['30', 'M', 'rosso', '9.99']\n",
            "Entry 32 ['31', 'L', 'verde', '9.99']\n",
            "Entry 33 ['32', 'XL', 'rosso', '7.99']\n",
            "Entry 34 ['33', 'M', 'bianco', '19.99']\n",
            "Entry 35 ['34', 'L', 'verde', '12.49']\n",
            "Entry 36 ['35', 'L', 'bianco', '12.49']\n",
            "Entry 37 ['36', 'L', 'bianco', '9.99']\n",
            "Entry 38 ['37', 'XL', 'bianco', '14.99']\n",
            "Entry 39 ['38', 'L', 'verde', '14.99']\n",
            "Entry 40 ['39', 'XL', 'verde', '9.99']\n",
            "Entry 41 ['40', 'M', 'bianco', '14.99']\n",
            "Entry 42 ['41', 'L', 'verde', '19.99']\n",
            "Entry 43 ['42', 'XL', 'verde', '7.99']\n",
            "Entry 44 ['43', 'M', 'verde', '19.99']\n",
            "Entry 45 ['44', 'L', 'rosso', '19.99']\n",
            "Entry 46 ['45', 'XL', 'bianco', '9.99']\n",
            "Entry 47 ['46', 'M', 'rosso', '12.49']\n",
            "Entry 48 ['47', 'S', 'bianco', '7.99']\n",
            "Entry 49 ['48', 'S', 'rosso', '14.99']\n",
            "Entry 50 ['49', 'S', 'verde', '12.49']\n",
            "Entry 51 ['50', 'XL', 'bianco', '19.99']\n",
            "Entry 52 ['51', 'S', 'verde', '14.99']\n",
            "Entry 53 ['52', 'S', 'bianco', '19.99']\n",
            "Entry 54 ['53', 'M', 'verde', '9.99']\n",
            "Entry 55 ['54', 'L', 'verde', '4.99']\n",
            "Entry 56 ['55', 'M', 'verde', '12.49']\n",
            "Entry 57 ['56', 'L', 'bianco', '12.49']\n",
            "Entry 58 ['57', 'S', 'verde', '7.99']\n",
            "Entry 59 ['58', 'S', 'verde', '19.99']\n",
            "Entry 60 ['59', 'L', 'bianco', '9.99']\n",
            "Entry 61 ['60', 'XL', 'rosso', '14.99']\n",
            "Entry 62 ['61', 'M', 'bianco', '12.49']\n",
            "Entry 63 ['62', 'XL', 'bianco', '14.99']\n",
            "Entry 64 ['63', 'L', 'bianco', '9.99']\n",
            "Entry 65 ['64', 'XL', 'verde', '14.99']\n",
            "Entry 66 ['65', 'L', 'bianco', '12.49']\n",
            "Entry 67 ['66', 'XL', 'bianco', '4.99']\n",
            "Entry 68 ['67', 'L', 'bianco', '14.99']\n",
            "Entry 69 ['68', 'L', 'verde', '9.99']\n",
            "Entry 70 ['69', 'S', 'rosso', '14.99']\n",
            "Entry 71 ['70', 'S', 'rosso', '19.99']\n",
            "Entry 72 ['71', 'XL', 'rosso', '14.99']\n",
            "Entry 73 ['72', 'S', 'bianco', '9.99']\n",
            "Entry 74 ['73', 'S', 'rosso', '14.99']\n",
            "Entry 75 ['74', 'L', 'bianco', '9.99']\n",
            "Entry 76 ['75', 'XL', 'bianco', '9.99']\n",
            "Entry 77 ['76', 'L', 'verde', '19.99']\n",
            "Entry 78 ['77', 'XL', 'bianco', '19.99']\n",
            "Entry 79 ['78', 'M', 'bianco', '4.99']\n",
            "Entry 80 ['79', 'M', 'bianco', '9.99']\n",
            "Entry 81 ['80', 'S', 'bianco', '14.99']\n",
            "Entry 82 ['81', 'L', 'bianco', '19.99']\n",
            "Entry 83 ['82', 'S', 'verde', '7.99']\n",
            "Entry 84 ['83', 'XL', 'verde', '9.99']\n",
            "Entry 85 ['84', 'M', 'bianco', '12.49']\n",
            "Entry 86 ['85', 'L', 'verde', '4.99']\n",
            "Entry 87 ['86', 'M', 'bianco', '7.99']\n",
            "Entry 88 ['87', 'M', 'rosso', '14.99']\n",
            "Entry 89 ['88', 'S', 'rosso', '9.99']\n",
            "Entry 90 ['89', 'M', 'verde', '4.99']\n",
            "Entry 91 ['90', 'M', 'bianco', '12.49']\n",
            "Entry 92 ['91', 'M', 'rosso', '14.99']\n",
            "Entry 93 ['92', 'L', 'verde', '19.99']\n",
            "Entry 94 ['93', 'M', 'rosso', '7.99']\n",
            "Entry 95 ['94', 'S', 'verde', '4.99']\n",
            "Entry 96 ['95', 'L', 'bianco', '9.99']\n",
            "Entry 97 ['96', 'M', 'verde', '14.99']\n",
            "Entry 98 ['97', 'S', 'rosso', '12.49']\n",
            "Entry 99 ['98', 'L', 'rosso', '12.49']\n",
            "Entry 100 ['99', 'S', 'rosso', '19.99100', 'XXL', 'ciano', '49.99']\n",
            "Entry 101 ['101', 'XL', 'magenta', '59.99']\n",
            "Entry 102 []\n",
            "Entry 103 ['100', 'XXL', 'ciano', '49.99']\n",
            "Entry 104 ['101', 'XL', 'magenta', '59.99']\n",
            "Entry 105 []\n",
            "Entry 106 ['100', 'XXL', 'ciano', '49.99']\n",
            "Entry 107 ['101', 'XL', 'magenta', '59.99']\n",
            "Entry 108 []\n",
            "Entry 109 ['100', 'XXL', 'ciano', '49.99']\n",
            "Entry 110 ['101', 'XL', 'magenta', '59.99']\n",
            "Entry 111 []\n",
            "Entry 112 ['100', 'XXL', 'ciano', '49.99']\n",
            "Entry 113 ['101', 'XL', 'magenta', '59.99']\n",
            "Entry 114 []\n",
            "Entry 115 ['100', 'XXL', 'ciano', '49.99']\n",
            "Entry 116 ['101', 'XL', 'magenta', '59.99']\n"
          ]
        }
      ]
    },
    {
      "cell_type": "markdown",
      "source": [
        "Vediamo che a livello dei due record che abbiamo aggiungo la prima riga si è attaccata all'ultima riga che c'era scritta. Questo succede perchè alla fine non c'era presente un carattere di fine riga. Questo lo possiamo risolvere mettendo un bel a capo alla fine."
      ],
      "metadata": {
        "id": "reFyxzuzkgY8"
      }
    },
    {
      "cell_type": "markdown",
      "source": [
        "Finire questa parte qui."
      ],
      "metadata": {
        "id": "04UVC4dX2Ulj"
      }
    },
    {
      "cell_type": "markdown",
      "source": [
        "#<mark> Vediamo come operare su file TSV"
      ],
      "metadata": {
        "id": "KqsUnnv52cC4"
      }
    },
    {
      "cell_type": "markdown",
      "source": [
        "Sono come i file csv a al posto di avere una virgola come separatore hanno un tab come separatore."
      ],
      "metadata": {
        "id": "Ek003-Bp2lMY"
      }
    },
    {
      "cell_type": "code",
      "source": [
        "with open(\"shirts.tsv\", \"r\") as csv_file:\n",
        "\n",
        "  csv_reader = csv.DictReader(csv_file, delimiter=\"\\t\") #\\t sta a indicare il Tab\n",
        "\n",
        "  print(\"%s\\t%s\\t%s\\t\" % tuple(csv_reader.fieldnames[1:]))\n",
        "\n",
        "  for row in csv_reader:\n",
        "    print(\"%s\\t%s\\t%s\\t\" % (row[\"taglia\"], row[\"colore\"], row[\"prezzo\"] ))\n",
        "\n"
      ],
      "metadata": {
        "colab": {
          "base_uri": "https://localhost:8080/"
        },
        "id": "IDNP1GGw2jfA",
        "outputId": "06945f4a-a57a-4725-e581-d46d55c57014"
      },
      "execution_count": null,
      "outputs": [
        {
          "output_type": "stream",
          "name": "stdout",
          "text": [
            "taglia\tcolore\tprezzo\t\n",
            "S\tbianco\t4.99\t\n",
            "M\tbianco\t19.99\t\n",
            "XL\tbianco\t12.49\t\n",
            "XL\tbianco\t14.99\t\n",
            "bianco\t14.99\tNone\t\n"
          ]
        }
      ]
    },
    {
      "cell_type": "code",
      "source": [
        "with open(\"shirts2.tsv\", \"a\", newline='') as csv_file:\n",
        "  columns = [\"id\", \"taglia\", \"colore\", \"prezzo\"]\n",
        "  csv_writer = csv.DictWriter(csv_file, fieldnames=columns, delimiter=\"\\t\")\n",
        "  csv_writer.writeheader()\n",
        "\n",
        "  csv_writer.writerow({\"id\":1, \"taglia\": \"XXL\",\n",
        "                       \"colore\":\"ciano\", \"prezzo\":49.99})\n",
        "\n",
        "  csv_writer.writerow({\"id\":2, \"taglia\":\"XL\",\n",
        "                       \"colore\":\"magenta\", \"prezzo\":59.99})"
      ],
      "metadata": {
        "id": "e65GvNH_3wHL"
      },
      "execution_count": null,
      "outputs": []
    },
    {
      "cell_type": "markdown",
      "source": [
        "In teoria il file creato dovrebbe essere sulle righe."
      ],
      "metadata": {
        "id": "VQkDKCcp5SDP"
      }
    },
    {
      "cell_type": "markdown",
      "source": [
        "#<mark> File JSON\n",
        "\n",
        "\n",
        "E' molto utile come formato perchè è praticamente uguale ai dizionari, quindi possiamo partire dai dizionari per scrivere il contenuto all'interno di file JSON."
      ],
      "metadata": {
        "id": "TXwBJ7st5eug"
      }
    },
    {
      "cell_type": "code",
      "source": [
        "inventory = {\n",
        "    \"abbigliamento\":{\n",
        "        \"magliette\":[\n",
        "            {\"taglia\":\"XL\", \"colore\":\"rosso\", \"prezzo\":14.99},\n",
        "            {\"taglia\":\"L\", \"colore\":\"blu\", \"prezzo\":16.99},\n",
        "            {\"taglia\":\"L\", \"colore\":\"bianco\", \"prezzo\":12.99}\n",
        "        ],\n",
        "        \"pantaloni\":[\n",
        "            {\"taglia\":46,\"colore\":\"nero\",\"prezzo\":24.99},\n",
        "            {\"taglia\":48,\"colore\":\"nero\",\"prezzo\":24.99},\n",
        "            {\"taglia\":50,\"colore\":\"bianco\",\"prezzo\":22.99}\n",
        "        ]\n",
        "    },\n",
        "    \"accessori\":{\n",
        "        \"borsa\":\n",
        "        [\n",
        "            {\"marca\":\"Alvaro Vitali\",\"prezzo\":79.99},\n",
        "            {\"marca\":\"Ingino Massini\",\"prezzo\":49.99}\n",
        "        ],\n",
        "        \"cinture\":[\n",
        "            {\"colore\":\"nero\", \"prezzo\":8.99},\n",
        "            {\"colore\":\"marrone\",\"prezzo\":8.99}\n",
        "        ]\n",
        "\n",
        "    }\n",
        "}"
      ],
      "metadata": {
        "id": "ehh0Q1Yt5iy1"
      },
      "execution_count": null,
      "outputs": []
    },
    {
      "cell_type": "code",
      "source": [
        "inventory[\"abbigliamento\"][\"magliette\"][0][\"taglia\"]"
      ],
      "metadata": {
        "colab": {
          "base_uri": "https://localhost:8080/",
          "height": 35
        },
        "id": "SJ6nAHyd8Feb",
        "outputId": "31e6a9bb-2e9e-41fb-fa75-0ab6045fb07c"
      },
      "execution_count": null,
      "outputs": [
        {
          "output_type": "execute_result",
          "data": {
            "text/plain": [
              "'XL'"
            ],
            "application/vnd.google.colaboratory.intrinsic+json": {
              "type": "string"
            }
          },
          "metadata": {},
          "execution_count": 57
        }
      ]
    },
    {
      "cell_type": "markdown",
      "source": [
        "Qui abbiamo fatto la call di un determinato dato all'interno di questa struttura dati.\n",
        "\n",
        "Possiamo prendere questa struttura dati e codificarla in una stringa e poi possiamo scrivere questa stringa all'interno di un file.\n",
        "Quindi di base stiamo codificando il dizionario in file json."
      ],
      "metadata": {
        "id": "0-RlB_1H8TTp"
      }
    },
    {
      "cell_type": "code",
      "source": [
        "import json"
      ],
      "metadata": {
        "id": "UEjb7XL98mR_"
      },
      "execution_count": null,
      "outputs": []
    },
    {
      "cell_type": "code",
      "source": [
        "inventory_str = json.dumps(inventory)\n",
        "\n",
        "print(inventory_str)\n",
        "\n",
        "#Sembra non sia cambiato niente ma in realtà è cambiato tutto dato che\n",
        "#questa è diventata una stringa"
      ],
      "metadata": {
        "colab": {
          "base_uri": "https://localhost:8080/"
        },
        "id": "M4u8joVV8pBJ",
        "outputId": "d26c97f2-1126-4fe7-eb05-f292cae55a59"
      },
      "execution_count": null,
      "outputs": [
        {
          "output_type": "stream",
          "name": "stdout",
          "text": [
            "{\"abbigliamento\": {\"magliette\": [{\"taglia\": \"XL\", \"colore\": \"rosso\", \"prezzo\": 14.99}, {\"taglia\": \"L\", \"colore\": \"blu\", \"prezzo\": 16.99}, {\"taglia\": \"L\", \"colore\": \"bianco\", \"prezzo\": 12.99}], \"pantaloni\": [{\"taglia\": 46, \"colore\": \"nero\", \"prezzo\": 24.99}, {\"taglia\": 48, \"colore\": \"nero\", \"prezzo\": 24.99}, {\"taglia\": 50, \"colore\": \"bianco\", \"prezzo\": 22.99}]}, \"accessori\": {\"borsa\": [{\"marca\": \"Alvaro Vitali\", \"prezzo\": 79.99}, {\"marca\": \"Ingino Massini\", \"prezzo\": 49.99}], \"cinture\": [{\"colore\": \"nero\", \"prezzo\": 8.99}, {\"colore\": \"marrone\", \"prezzo\": 8.99}]}}\n"
          ]
        }
      ]
    },
    {
      "cell_type": "code",
      "source": [
        "type(inventory_str)"
      ],
      "metadata": {
        "colab": {
          "base_uri": "https://localhost:8080/"
        },
        "id": "VYKly8kb9Bme",
        "outputId": "b90d085b-9afe-4351-920f-d14139e048d4"
      },
      "execution_count": null,
      "outputs": [
        {
          "output_type": "execute_result",
          "data": {
            "text/plain": [
              "str"
            ]
          },
          "metadata": {},
          "execution_count": 60
        }
      ]
    },
    {
      "cell_type": "markdown",
      "source": [
        "Quindi di base con questo json.dumps e passando il dizionario noi abbiamo trasformato il dizionario in una stringa e l'abbiamo messa su un file"
      ],
      "metadata": {
        "id": "bb3ghdyEnjRj"
      }
    },
    {
      "cell_type": "markdown",
      "source": [
        "E' come stringa la si può scrivere all'interno di un file di testo"
      ],
      "metadata": {
        "id": "zqwOCQv59Gpe"
      }
    },
    {
      "cell_type": "code",
      "source": [
        "with open(\"new_inventory.json\", \"w\") as json_file:\n",
        "  json_file.write(inventory_str)\n"
      ],
      "metadata": {
        "id": "bjX_Cjd_9QR7"
      },
      "execution_count": null,
      "outputs": []
    },
    {
      "cell_type": "markdown",
      "source": [
        "##<mark>jsonlint\n",
        "\n",
        "è un sito che ci permette di andare a controllare se la stringa json è corretta oppure ha qualche errore, questo può succedere sopratutto quando è tanto annidata.\n",
        "\n",
        "Possiamo copiare il contenuto e incollarlo su questa tipologia di siti per vedere se va tutto bene."
      ],
      "metadata": {
        "id": "_kyxmZBv9wq6"
      }
    },
    {
      "cell_type": "markdown",
      "source": [
        "Vediamo adesso come partire da una stringa ed ottenere un dizionario."
      ],
      "metadata": {
        "id": "J3q0WQMU990Q"
      }
    },
    {
      "cell_type": "code",
      "source": [
        "inventory = json.loads(inventory_str)\n",
        "type(inventory)"
      ],
      "metadata": {
        "colab": {
          "base_uri": "https://localhost:8080/"
        },
        "id": "AR6ntUVR-YcD",
        "outputId": "ef173521-a85b-4585-a388-8e061cd2d8f3"
      },
      "execution_count": null,
      "outputs": [
        {
          "output_type": "execute_result",
          "data": {
            "text/plain": [
              "dict"
            ]
          },
          "metadata": {},
          "execution_count": 62
        }
      ]
    },
    {
      "cell_type": "markdown",
      "source": [
        "La funzione loads converte la stringa in un dizionario. E cosi possiamo accedere"
      ],
      "metadata": {
        "id": "hag21d8urqhP"
      }
    },
    {
      "cell_type": "code",
      "source": [
        "inventory[\"accessori\"][\"borsa\"][0]"
      ],
      "metadata": {
        "colab": {
          "base_uri": "https://localhost:8080/"
        },
        "id": "vWREFwkg-jqV",
        "outputId": "ee2da634-5b9a-4b32-e099-b8115a079352"
      },
      "execution_count": null,
      "outputs": [
        {
          "output_type": "execute_result",
          "data": {
            "text/plain": [
              "{'marca': 'Alvaro Vitali', 'prezzo': 79.99}"
            ]
          },
          "metadata": {},
          "execution_count": 64
        }
      ]
    },
    {
      "cell_type": "code",
      "source": [
        "import json\n",
        "with open(\"inventory.json\", \"w\") as json_file:\n",
        "  json.dump(inventory, json_file, indent=6) #per scrivere nel json file usiamo dump prima per passare il dizionario che vogliamo scrivere e poi il file dentro il quale vogliamo scrivere\n"
      ],
      "metadata": {
        "id": "dtT_bh__ix3o"
      },
      "execution_count": null,
      "outputs": []
    },
    {
      "cell_type": "markdown",
      "source": [
        "\n",
        "\n",
        "In questa maniera abbiamo scritto il file json. quando facciamo ciò possiamo andare a specificare il parametro indent ci permette di formattarlo bene ovvero di indentarlo con 6 spazi di carattere in questo caso dato che indent =6. Adesso vediamo come leggere dal json direttamente all'interno di un dizionario.\n",
        "\n",
        "Qui si entra nel campo dei gradi di identazione. 6 significa che la nostra prima identazione sarà di 6 spazi. GLi altri gradi di identazione saranno multipli di 6."
      ],
      "metadata": {
        "id": "IhLwxDMyjjkU"
      }
    },
    {
      "cell_type": "code",
      "source": [
        "\n",
        "with open(\"inventory.json\") as json_file:\n",
        "  inventory = json.load(json_file)\n",
        "print(type(inventory))\n"
      ],
      "metadata": {
        "colab": {
          "base_uri": "https://localhost:8080/"
        },
        "id": "wWVEkcEpjLCq",
        "outputId": "23e45de0-1b1e-40d6-99b7-94218d817c96"
      },
      "execution_count": null,
      "outputs": [
        {
          "output_type": "stream",
          "name": "stdout",
          "text": [
            "<class 'dict'>\n"
          ]
        }
      ]
    },
    {
      "cell_type": "markdown",
      "source": [
        "In questa maniera il nostro inventory.json diventerà un dizionario o meglio la \"inventory\"."
      ],
      "metadata": {
        "id": "YqQGj6y6tIxt"
      }
    },
    {
      "cell_type": "code",
      "source": [
        "inventory"
      ],
      "metadata": {
        "id": "2N6yMcLckYaM",
        "outputId": "4bbc232f-4bdd-4e50-bf7c-cf96458c71c0",
        "colab": {
          "base_uri": "https://localhost:8080/"
        }
      },
      "execution_count": null,
      "outputs": [
        {
          "output_type": "execute_result",
          "data": {
            "text/plain": [
              "{'abbigliamento': {'magliette': [{'taglia': 'XL',\n",
              "    'colore': 'rosso',\n",
              "    'prezzo': 14.99},\n",
              "   {'taglia': 'L', 'colore': 'blu', 'prezzo': 16.99},\n",
              "   {'taglia': 'L', 'colore': 'bianco', 'prezzo': 12.99}],\n",
              "  'pantaloni': [{'taglia': 46, 'colore': 'nero', 'prezzo': 24.99},\n",
              "   {'taglia': 48, 'colore': 'nero', 'prezzo': 24.99},\n",
              "   {'taglia': 50, 'colore': 'bianco', 'prezzo': 22.99}]},\n",
              " 'accessori': {'borsa': [{'marca': 'Alvaro Vitali', 'prezzo': 79.99},\n",
              "   {'marca': 'Ingino Massini', 'prezzo': 49.99}],\n",
              "  'cinture': [{'colore': 'nero', 'prezzo': 8.99},\n",
              "   {'colore': 'marrone', 'prezzo': 8.99}]}}"
            ]
          },
          "metadata": {},
          "execution_count": 20
        }
      ]
    },
    {
      "cell_type": "markdown",
      "source": [
        "# <MARK> ESERCIZI CON I FILE"
      ],
      "metadata": {
        "id": "Vsa0xzE8ulqJ"
      }
    },
    {
      "cell_type": "markdown",
      "source": [
        "#<mark> 1°"
      ],
      "metadata": {
        "id": "pN7IBL1VnbJy"
      }
    },
    {
      "cell_type": "markdown",
      "source": [
        "Aprire il file proverbi, e filtrare i proverbi che iniziano con vocale o sono lunghi meno di 25 caratteri e scriverli all'interno di un altro file chiamato proverbs_filtrati.\n"
      ],
      "metadata": {
        "id": "fz7D6Xw8u4V9"
      }
    },
    {
      "cell_type": "code",
      "source": [
        "proverbs_file = open(\"proverbi.txt\")\n",
        "proverbs_filtered_file = open(\"proverbi_filtrati.txt\", \"w\")\n",
        "\n",
        "#Si apre il file da qui si vuole prendere in modalità di lettura e il file che si vuole creare in modalità di scrittura\n",
        "\n",
        "for proverb in proverbs_file.readlines():\n",
        "  if len(proverb)<25 or proverb[0].lower() in [\"a\",\"e\",\"i\",\"o\",\"u\"]:\n",
        "    proverbs_filtered_file.write(proverb)\n",
        "\n",
        "proverbs_file.close()\n",
        "proverbs_filtered_file.close()"
      ],
      "metadata": {
        "id": "Bqw9KPZ1u378"
      },
      "execution_count": null,
      "outputs": []
    },
    {
      "cell_type": "markdown",
      "source": [
        "2°\n",
        "\n",
        "- Calcolare il numero totale di prodotti presenti\n",
        "\n",
        "- Valore totale del magazzino (somma del prezzo di tutti i prodotti)\n",
        "\n",
        "- Prezzo medio dei prodotti\n",
        "\n",
        "- Numero di prodotti per ogni colore\n",
        "\n",
        "- Numero di prodotti per ogni taglia\n",
        "\n",
        "Salva le statistiche all'interno di un file json chiamato shirts_stats.json"
      ],
      "metadata": {
        "id": "TtoaDbW-nfWi"
      }
    },
    {
      "cell_type": "code",
      "source": [
        "import csv\n",
        "\n",
        "with open(\"shirts.csv\") as shirts_file:\n",
        "\n",
        "  shirts_csv_reader = csv.reader(shirts_file)\n",
        "\n",
        "  for row in shirts_csv_reader:\n",
        "    print(f\"{row}\")\n",
        "\n",
        "\n",
        "\n",
        "\n"
      ],
      "metadata": {
        "id": "OQ4jVYoruri5",
        "colab": {
          "base_uri": "https://localhost:8080/"
        },
        "outputId": "8fce640c-d56f-47ef-bb90-cd3cf2daf166"
      },
      "execution_count": null,
      "outputs": [
        {
          "output_type": "stream",
          "name": "stdout",
          "text": [
            "['', 'taglia', 'colore', 'prezzo']\n",
            "['0', 'S', 'bianco', '4.99']\n",
            "['1', 'M', 'bianco', '19.99']\n",
            "['2', 'XL', 'bianco', '12.49']\n",
            "['3', 'XL', 'bianco', '14.99']\n",
            "['4', 'S', 'bianco', '14.99']\n",
            "['5', 'S', 'verde', '7.99']\n",
            "['6', 'M', 'verde', '4.99']\n",
            "['7', 'L', 'verde', '12.49']\n",
            "['8', 'XL', 'bianco', '12.49']\n",
            "['9', 'M', 'verde', '19.99']\n",
            "['10', 'L', 'bianco', '14.99']\n",
            "['11', 'XL', 'bianco', '19.99']\n",
            "['12', 'M', 'bianco', '4.99']\n",
            "['13', 'L', 'bianco', '7.99']\n",
            "['14', 'M', 'bianco', '14.99']\n",
            "['15', 'XL', 'rosso', '9.99']\n",
            "['16', 'S', 'rosso', '12.49']\n",
            "['17', 'L', 'bianco', '7.99']\n",
            "['18', 'XL', 'bianco', '4.99']\n",
            "['19', 'M', 'verde', '14.99']\n",
            "['20', 'S', 'verde', '14.99']\n",
            "['21', 'XL', 'bianco', '7.99']\n",
            "['22', 'S', 'verde', '9.99']\n",
            "['23', 'XL', 'bianco', '14.99']\n",
            "['24', 'S', 'rosso', '14.99']\n",
            "['25', 'XL', 'bianco', '9.99']\n",
            "['26', 'M', 'verde', '7.99']\n",
            "['27', 'XL', 'bianco', '4.99']\n",
            "['28', 'S', 'verde', '14.99']\n",
            "['29', 'L', 'bianco', '12.49']\n",
            "['30', 'M', 'rosso', '9.99']\n",
            "['31', 'L', 'verde', '9.99']\n",
            "['32', 'XL', 'rosso', '7.99']\n",
            "['33', 'M', 'bianco', '19.99']\n",
            "['34', 'L', 'verde', '12.49']\n",
            "['35', 'L', 'bianco', '12.49']\n",
            "['36', 'L', 'bianco', '9.99']\n",
            "['37', 'XL', 'bianco', '14.99']\n",
            "['38', 'L', 'verde', '14.99']\n",
            "['39', 'XL', 'verde', '9.99']\n",
            "['40', 'M', 'bianco', '14.99']\n",
            "['41', 'L', 'verde', '19.99']\n",
            "['42', 'XL', 'verde', '7.99']\n",
            "['43', 'M', 'verde', '19.99']\n",
            "['44', 'L', 'rosso', '19.99']\n",
            "['45', 'XL', 'bianco', '9.99']\n",
            "['46', 'M', 'rosso', '12.49']\n",
            "['47', 'S', 'bianco', '7.99']\n",
            "['48', 'S', 'rosso', '14.99']\n",
            "['49', 'S', 'verde', '12.49']\n",
            "['50', 'XL', 'bianco', '19.99']\n",
            "['51', 'S', 'verde', '14.99']\n",
            "['52', 'S', 'bianco', '19.99']\n",
            "['53', 'M', 'verde', '9.99']\n",
            "['54', 'L', 'verde', '4.99']\n",
            "['55', 'M', 'verde', '12.49']\n",
            "['56', 'L', 'bianco', '12.49']\n",
            "['57', 'S', 'verde', '7.99']\n",
            "['58', 'S', 'verde', '19.99']\n",
            "['59', 'L', 'bianco', '9.99']\n",
            "['60', 'XL', 'rosso', '14.99']\n",
            "['61', 'M', 'bianco', '12.49']\n",
            "['62', 'XL', 'bianco', '14.99']\n",
            "['63', 'L', 'bianco', '9.99']\n",
            "['64', 'XL', 'verde', '14.99']\n",
            "['65', 'L', 'bianco', '12.49']\n",
            "['66', 'XL', 'bianco', '4.99']\n",
            "['67', 'L', 'bianco', '14.99']\n",
            "['68', 'L', 'verde', '9.99']\n",
            "['69', 'S', 'rosso', '14.99']\n",
            "['70', 'S', 'rosso', '19.99']\n",
            "['71', 'XL', 'rosso', '14.99']\n",
            "['72', 'S', 'bianco', '9.99']\n",
            "['73', 'S', 'rosso', '14.99']\n",
            "['74', 'L', 'bianco', '9.99']\n",
            "['75', 'XL', 'bianco', '9.99']\n",
            "['76', 'L', 'verde', '19.99']\n",
            "['77', 'XL', 'bianco', '19.99']\n",
            "['78', 'M', 'bianco', '4.99']\n",
            "['79', 'M', 'bianco', '9.99']\n",
            "['80', 'S', 'bianco', '14.99']\n",
            "['81', 'L', 'bianco', '19.99']\n",
            "['82', 'S', 'verde', '7.99']\n",
            "['83', 'XL', 'verde', '9.99']\n",
            "['84', 'M', 'bianco', '12.49']\n",
            "['85', 'L', 'verde', '4.99']\n",
            "['86', 'M', 'bianco', '7.99']\n",
            "['87', 'M', 'rosso', '14.99']\n",
            "['88', 'S', 'rosso', '9.99']\n",
            "['89', 'M', 'verde', '4.99']\n",
            "['90', 'M', 'bianco', '12.49']\n",
            "['91', 'M', 'rosso', '14.99']\n",
            "['92', 'L', 'verde', '19.99']\n",
            "['93', 'M', 'rosso', '7.99']\n",
            "['94', 'S', 'verde', '4.99']\n",
            "['95', 'L', 'bianco', '9.99']\n",
            "['96', 'M', 'verde', '14.99']\n",
            "['97', 'S', 'rosso', '12.49']\n",
            "['98', 'L', 'rosso', '12.49']\n",
            "['99', 'S', 'rosso', '19.99']\n"
          ]
        }
      ]
    },
    {
      "cell_type": "code",
      "source": [
        "import csv\n",
        "import json\n",
        "\n",
        "stats = {\"prodotti\":0, \"valore_totale\":0, \"taglie\":{}, \"colore\":{}}\n",
        "\n",
        "\n",
        "\n",
        "with open(\"shirts.csv\") as csv_file:\n",
        "  csv_reader = csv.DictReader(csv_file)\n",
        "\n",
        "  for row in csv_reader:\n",
        "\n",
        "    stats[\"prodotti\"]+=1\n",
        "    stats[\"valore_totale\"] += float(row[\"prezzo\"])\n",
        "\n",
        "    if row[\"taglia\"] in stats[\"taglie\"]:\n",
        "      stats[\"taglie\"][row[\"taglia\"]] +=1\n",
        "    else:\n",
        "      stats[\"taglie\"][row[\"taglia\"]]=1\n",
        "\n",
        "\n",
        "\n",
        "    if row[\"colore\"] in stats[\"colore\"]:\n",
        "      stats[\"colore\"][row[\"colore\"]] +=1\n",
        "    else:\n",
        "      stats[\"colore\"][row[\"colore\"]]=1\n",
        "\n",
        "stats[\"valore_totale\"] = round(stats[\"valore_totale\"], 2)\n",
        "\n",
        "stats[\"prezzo_medio\"] = round(stats[\"valore_totale\"]/stats[\"prodotti\"], 2)\n",
        "\n",
        "with open(\"shirts_stats.json\", \"w\") as json_file:\n",
        "  json.dump(stats, json_file, indent=3)"
      ],
      "metadata": {
        "id": "oMhJ9r8CscyA"
      },
      "execution_count": null,
      "outputs": []
    },
    {
      "cell_type": "markdown",
      "source": [],
      "metadata": {
        "id": "XwgfYS5R9DyE"
      }
    }
  ]
}