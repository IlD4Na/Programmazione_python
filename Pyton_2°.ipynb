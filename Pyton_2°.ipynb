{
  "nbformat": 4,
  "nbformat_minor": 0,
  "metadata": {
    "colab": {
      "provenance": []
    },
    "kernelspec": {
      "name": "python3",
      "display_name": "Python 3"
    },
    "language_info": {
      "name": "python"
    }
  },
  "cells": [
    {
      "cell_type": "markdown",
      "source": [
        "## <mark> Il più comune paradigma di programmazione PROCEDURALE"
      ],
      "metadata": {
        "id": "plRtUAH2s3om"
      }
    },
    {
      "cell_type": "markdown",
      "source": [
        "E' un paradigma di programmazione, in cui la logica del codice viene valutata dall'alto verso il basso (Top-down).\n",
        "\n",
        "Il codice viene raccolto in funzioni (procedure), blocchi di codice riutilizzabile tramite un alias.\n",
        "\n",
        "Ad esempio possiamo richiudere dentro ad una funzione il codice che abbiamo scritto per calcolare la media.\n",
        "\n",
        "poi basta richiamare la funzione che abbiamo salvato come \"mean\".\n",
        "\n",
        "\n",
        "\n",
        "```\n",
        "l = [12, 9, 4, 21, 11, 5, 17]\n",
        "l_mean = mean(l)  #mean() è la funzione che abbiamo creato\n",
        "\n",
        "print(l_mean)\n",
        "```\n",
        "Come si costruisce la funzione ?\n",
        "\n",
        "La funzione si costruisce prima di tutto con la keyword \"def\" seguita dal nome che noi vogliamo dare alla funzione, all'interno delle parentesi tonde passiamo il parametro della funzione. Il valore di ritorno viene poi inserito con la key word return.\n",
        "\n",
        "\n",
        "\n",
        "```\n",
        "def sqrt(val):\n",
        "  return val **(1/2)\n",
        "\n",
        "# Chiamata alla funzione\n",
        "\n",
        "sqrt(45)\n",
        "```\n",
        "Il processo di invocare la funzione viene chiamata \"chiamata a funzione\".\n",
        "\n",
        "\n",
        "```\n",
        "val_sqrt = sqrt(val)\n",
        "```\n",
        "Val è l'argomento ed invece le parentesi è la chiamata a funzione.\n",
        "Parametro => è un placeholder che si usa durante la definizione della funzione\n",
        "\n",
        "Argomento => E' l'effettivo valore che andiamo a passare alla funzione\n",
        "\n",
        "<mark> UNA FUNZIONE DEVE FARE UNA ED UNA SOLTANTO COSA\n",
        "\n",
        "Le funzioni multi-tasking non devono esistere, secondo il prof.\n",
        "\n",
        "In ingegneria del software c'è il principio di singola responsabilità SRP che afferma che ogni funzione (o classe) dovrebbe avere una sola responsabilità o motivo di cambiare. Seguendo questo principio, le funzioni sono più semplici, chiare e facili da gestire.\n",
        "\n",
        "\n",
        "\n",
        "\n"
      ],
      "metadata": {
        "id": "616FOl8_tDq8"
      }
    },
    {
      "cell_type": "markdown",
      "source": [
        "<mark> Come creare una funzione\n",
        "\n",
        "La definiamo con la keyword \"def\". Ciò che mettiamo tra parentesi prende il nome di argomento e rappresenta il parametro che noi passiamo alla funzione.\n",
        "\n",
        "Per invocare la soluzione basta usar eil nome della funzione senza il \"def\"."
      ],
      "metadata": {
        "id": "GX_bvDr29oGf"
      }
    },
    {
      "cell_type": "code",
      "execution_count": null,
      "metadata": {
        "colab": {
          "base_uri": "https://localhost:8080/"
        },
        "id": "XO3UkCCRs0v-",
        "outputId": "00c8b757-95f5-48ff-d12f-cea6d74fd2e2"
      },
      "outputs": [
        {
          "output_type": "stream",
          "name": "stdout",
          "text": [
            "Say Hello\n"
          ]
        }
      ],
      "source": [
        "def say_hello():\n",
        "  print(\"Say Hello\")\n",
        "\n",
        "say_hello()"
      ]
    },
    {
      "cell_type": "code",
      "source": [
        "def say_something(something):\n",
        "  print(\"Say \" +something)"
      ],
      "metadata": {
        "id": "mfOlXUvdbWxC"
      },
      "execution_count": null,
      "outputs": []
    },
    {
      "cell_type": "code",
      "source": [
        "say_something(\"Ciao\")"
      ],
      "metadata": {
        "colab": {
          "base_uri": "https://localhost:8080/"
        },
        "id": "7g9Vm6Z2bom9",
        "outputId": "230564e5-ba42-4aad-eba7-5c143da74332"
      },
      "execution_count": null,
      "outputs": [
        {
          "output_type": "stream",
          "name": "stdout",
          "text": [
            "Say Ciao\n"
          ]
        }
      ]
    },
    {
      "cell_type": "markdown",
      "source": [
        "**<mark>Argomenti di Default**\n",
        "\n",
        "Se ci dimentichiamo di passare l'argomento otteniamo una eccezione che ci informa del fatto che la funzione say_something manca un parametro. Fortunatamente però Python ci ha dato la possibilità di creare dei parametri che siano di default. Quindi se non passassimo nessun argomento viene usato il parametro di default. Dobbiamo fare solo un'assegnazione all'interno della definizione della funzione."
      ],
      "metadata": {
        "id": "rNvXpJG9cClV"
      }
    },
    {
      "cell_type": "code",
      "source": [
        "def say_something(something=\"something\"):\n",
        "  print(\"Say \"+ something)"
      ],
      "metadata": {
        "id": "l-F7k_1AccPn"
      },
      "execution_count": null,
      "outputs": []
    },
    {
      "cell_type": "code",
      "source": [
        "say_something()"
      ],
      "metadata": {
        "colab": {
          "base_uri": "https://localhost:8080/"
        },
        "id": "cH3aXDU2cj5v",
        "outputId": "a219847e-20b4-4874-b70f-5440b8f06493"
      },
      "execution_count": null,
      "outputs": [
        {
          "output_type": "stream",
          "name": "stdout",
          "text": [
            "Say something\n"
          ]
        }
      ]
    },
    {
      "cell_type": "markdown",
      "source": [
        "Gli argomenti che contengono un'assegnazione vengono chiamati **<mark>keyword argument.**\n",
        "\n",
        "Invece quelli che non usano un argomento di default vengono chiamati **<mark>Positional argument.**\n",
        "\n",
        "Nei positional conta la posizione dell'argomento. Per passare gli argomenti dobbiamo passarli con lo stesso ordine di come abbiamo definito nella funzione."
      ],
      "metadata": {
        "id": "0166-FpXcz5X"
      }
    },
    {
      "cell_type": "code",
      "source": [
        "def say_something(something=\"something\", something_else=\"something else\"):\n",
        "  print(\"Say \"+ something)\n",
        "  print(\"Say \"+ something_else)"
      ],
      "metadata": {
        "id": "EXVIKs64dG0c"
      },
      "execution_count": null,
      "outputs": []
    },
    {
      "cell_type": "code",
      "source": [
        "say_something(something_else =\"something\", something=\"Qualcosa di altro\")"
      ],
      "metadata": {
        "colab": {
          "base_uri": "https://localhost:8080/"
        },
        "id": "LM1zdG3VdRZ4",
        "outputId": "6a585e6e-568e-4cf7-cbc1-0b7e7d090bd4"
      },
      "execution_count": null,
      "outputs": [
        {
          "output_type": "stream",
          "name": "stdout",
          "text": [
            "Say Qualcosa di altro\n",
            "Say something\n"
          ]
        }
      ]
    },
    {
      "cell_type": "markdown",
      "source": [
        "C'è da ricordare che se si usano entrambi sia keyword argument che posizionali i keyword argument vanno passatidopo quelli posizionali, altrimenti Python te li ritorna come eccezioni.\n",
        "\n",
        "Quindi facciamo passare prima gli argomenti posizionali e solo alla fine quelli che hanno il valore di default.\n",
        "\n",
        "Vediamo adesso come far ritornare qualcosa ad una funzione con la Return"
      ],
      "metadata": {
        "id": "QKXeNCFKdyEO"
      }
    },
    {
      "cell_type": "code",
      "source": [
        "def say_something(something =\"something\"):\n",
        "  say = \"say \"+something\n",
        "  return say"
      ],
      "metadata": {
        "id": "ldug9fINeL54"
      },
      "execution_count": null,
      "outputs": []
    },
    {
      "cell_type": "code",
      "source": [
        "say = say_something()\n",
        "\n",
        "print(say)"
      ],
      "metadata": {
        "colab": {
          "base_uri": "https://localhost:8080/"
        },
        "id": "1MYbLqXuehrE",
        "outputId": "9bfa2587-dd9b-4ec7-a0d7-8bf3bd022fea"
      },
      "execution_count": null,
      "outputs": [
        {
          "output_type": "stream",
          "name": "stdout",
          "text": [
            "say something\n"
          ]
        }
      ]
    },
    {
      "cell_type": "markdown",
      "source": [
        "Questa tipologia di funzioni che ritornano qualcosa vengono chiamate fruitfull function, quelle che non ritornano nulla si chiamano invece void function .\n",
        "\n",
        "<MARK>**FRUITFUL FUNCTION**\n",
        "\n",
        "<MARK>**VOID FUNCTION**\n",
        "\n",
        "Se noi nella funzione prima non mettiamo la parte del \"return say\" quello che ci ritornerà la funzione sarà il \"None\".\n",
        "\n",
        "Quindi quando in una funzione non c'è esplicitato il return allora quella è una funzione Void e ci restituirà None.\n",
        "\n",
        "\n",
        "\n",
        "```\n",
        "def stampa_saluto(nome):\n",
        "    print(f\"Ciao, {nome}!\")\n",
        "\n",
        "stampa_saluto(\"Alice\")  # Output: Ciao, Alice!\n",
        "\n",
        "\n",
        " Generato da ProfAI - https://prof.profession.ai/\n",
        "```\n",
        "In questo esempio la funzione stampa_saluto stampa unmessaggio sullo schermo e non restituisce alcun valore.\n"
      ],
      "metadata": {
        "id": "aOFzd0w9e9Wd"
      }
    },
    {
      "cell_type": "code",
      "source": [
        "def compute_area(b, h):\n",
        "  return b*h/2\n",
        "\n",
        "b = float(input(\"Inserisci la base del triangolo: \"))\n",
        "\n",
        "h = float(input(\"Inserisci l'altezza del triangolo: \"))\n",
        "\n",
        "area = compute_area(b, h)\n",
        "\n",
        "print(f\"L'area del trignaolo di base {b} e altezza {h} è {area}\")"
      ],
      "metadata": {
        "colab": {
          "base_uri": "https://localhost:8080/"
        },
        "id": "YFi4jKJPfZY8",
        "outputId": "9496f40b-3347-4d00-de0d-88ce5ef016c2"
      },
      "execution_count": null,
      "outputs": [
        {
          "output_type": "stream",
          "name": "stdout",
          "text": [
            "Inserisci la base del triangolo: 10\n",
            "Inserisci l'altezza del triangolo: 5\n",
            "L'area del trignaolo di base 10.0 e altezza 5.0 è 25.0\n"
          ]
        }
      ]
    },
    {
      "cell_type": "markdown",
      "source": [
        "Vediamo adesso invece una funzione void."
      ],
      "metadata": {
        "id": "wTXh8dHSgHQ0"
      }
    },
    {
      "cell_type": "code",
      "source": [
        "def print_shopping_list(shopping_list, owner = \"Giuseppe\"):\n",
        "  print(\"La lista della spesa di\", owner)\n",
        "  for i, entry in enumerate(shopping_list):\n",
        "    print(f\"{i+1}) {entry}\")\n"
      ],
      "metadata": {
        "id": "1qmmXwzGgSBu"
      },
      "execution_count": null,
      "outputs": []
    },
    {
      "cell_type": "markdown",
      "source": [
        "Quando usiamo \"enumerate\" all'interno di un ciclo for, abbiamo la restituzione di valori (indice, elemento) per ogni iterazione. Questo è molto utile quando si ha bisogno sia dell'indice che del valore dell'elemento corrente dalla lista o da qualsiasi altro iterabile.\n",
        "\n",
        "Nel contesto del ciclo for, enumerate(shopping_list) restituisce una coppia (i, entry) per ogni elemento della lista shopping_list.\n",
        "i rappresenta l'indice dell'elemento corrente all'interno della lista. Inizia da 0 e incrementa di 1 ad ogni iterazione.\n",
        "entry rappresenta l'elemento stesso della lista all'indice i.\n",
        "Quindi, per ogni iterazione del ciclo, i e entry vengono associati rispettivamente all'indice e all'elemento corrente della lista.\n",
        "\n",
        "\n",
        "In sintesi, l'uso di enumerate insieme ai due argomenti i ed entry nel ciclo for consente di accedere sia all'indice che al valore di ciascun elemento della lista."
      ],
      "metadata": {
        "id": "JHGndyDv1XRL"
      }
    },
    {
      "cell_type": "code",
      "source": [
        "shopping_list = [\"tofu\", \"latte di soia\", \"riso basmati\", \"yogurt greco\"]\n",
        "\n",
        "\n",
        "print_shopping_list(shopping_list)"
      ],
      "metadata": {
        "colab": {
          "base_uri": "https://localhost:8080/"
        },
        "id": "-yWvaekfh4H5",
        "outputId": "0c626611-4ad4-4463-8eed-3b69e197e3ed"
      },
      "execution_count": null,
      "outputs": [
        {
          "output_type": "stream",
          "name": "stdout",
          "text": [
            "La lista della spesa di Giuseppe\n",
            "1) tofu\n",
            "2) latte di soia\n",
            "3) riso basmati\n",
            "4) yogurt greco\n"
          ]
        }
      ]
    },
    {
      "cell_type": "code",
      "source": [
        "print_shopping_list(owner=\"Matteo\", shopping_list)"
      ],
      "metadata": {
        "colab": {
          "base_uri": "https://localhost:8080/",
          "height": 108
        },
        "id": "DT0ZP98IjCUb",
        "outputId": "41b56fd9-52f8-49ae-f7db-47fa6a848248"
      },
      "execution_count": null,
      "outputs": [
        {
          "output_type": "error",
          "ename": "SyntaxError",
          "evalue": "positional argument follows keyword argument (<ipython-input-24-d9ca09706ea4>, line 1)",
          "traceback": [
            "\u001b[0;36m  File \u001b[0;32m\"<ipython-input-24-d9ca09706ea4>\"\u001b[0;36m, line \u001b[0;32m1\u001b[0m\n\u001b[0;31m    print_shopping_list(owner=\"Matteo\", shopping_list)\u001b[0m\n\u001b[0m                                                     ^\u001b[0m\n\u001b[0;31mSyntaxError\u001b[0m\u001b[0;31m:\u001b[0m positional argument follows keyword argument\n"
          ]
        }
      ]
    },
    {
      "cell_type": "markdown",
      "source": [
        "Vediamo che abbiamo un errore perchè gli argomento posizionali devono essere posizionati prima degli argomenti keyword."
      ],
      "metadata": {
        "id": "9FCkdUSqjIbQ"
      }
    },
    {
      "cell_type": "code",
      "source": [
        "print_shopping_list(shopping_list, owner=\"Matteo\")"
      ],
      "metadata": {
        "colab": {
          "base_uri": "https://localhost:8080/"
        },
        "id": "eJX8f1_xk61T",
        "outputId": "0388581e-c1b2-47e3-a868-470ccda4c872"
      },
      "execution_count": null,
      "outputs": [
        {
          "output_type": "stream",
          "name": "stdout",
          "text": [
            "La lista della spesa di Matteo\n",
            "1) tofu\n",
            "2) latte di soia\n",
            "3) riso basmati\n",
            "4) yogurt greco\n"
          ]
        }
      ]
    },
    {
      "cell_type": "markdown",
      "source": [
        "# <mark> Esercizi con le Funzioni"
      ],
      "metadata": {
        "id": "BmPoa4QllO_k"
      }
    },
    {
      "cell_type": "code",
      "source": [
        "def calculus_circumference(r):\n",
        "  return 3.14*(r**2)\n",
        "\n",
        "r = float(input(\"Inserisci il raggio del cerchio: \"))\n",
        "\n",
        "cirmumference = calculus_circumference(r)\n",
        "\n",
        "print(cirmumference)"
      ],
      "metadata": {
        "colab": {
          "base_uri": "https://localhost:8080/"
        },
        "id": "v9Wszu1clTbo",
        "outputId": "cb013dd4-b5a4-42f6-eaff-57051b2e3b4a"
      },
      "execution_count": null,
      "outputs": [
        {
          "output_type": "stream",
          "name": "stdout",
          "text": [
            "Inserisci il raggio del cerchio: 2\n",
            "12.56\n"
          ]
        }
      ]
    },
    {
      "cell_type": "markdown",
      "source": [
        "<mark>Esercizio sugli anni bisestili\n",
        "\n",
        "Ogni 4 anni aggiungiamo un giorno al mese più breve dell'anno, cioèe Febbraio, quest'anno è chiamato bisestile. I criteri utilizzati per definire se un anno è bisestile sono i seguenti:\n",
        "\n",
        "-L'anno è divisibile per 4, allora è bisestile a meno che:\n",
        "\n",
        "-L'anno è divisibile per 100, allora non è bisestile a meno che:\n",
        "\n",
        "-L'anno è divisibile per 400\n",
        "\n",
        "Scrivere funzione per verificare se un anno è bisestile.\n",
        "\n"
      ],
      "metadata": {
        "id": "LIDeqMZQmp9r"
      }
    },
    {
      "cell_type": "code",
      "source": [
        "def anno_bisestile(anno):\n",
        "  if anno % 4 == 0:\n",
        "    if anno % 100 == 0:\n",
        "      if anno % 400 == 0:\n",
        "        return True\n",
        "      else:\n",
        "        return False\n",
        "    else:\n",
        "      return True\n",
        "  else:\n",
        "    return False\n",
        "\n",
        "#Altro modo per farlo sotto"
      ],
      "metadata": {
        "id": "SxY1fPA5ywPp"
      },
      "execution_count": null,
      "outputs": []
    },
    {
      "cell_type": "code",
      "source": [
        "anno_bisestile(2029)"
      ],
      "metadata": {
        "colab": {
          "base_uri": "https://localhost:8080/"
        },
        "id": "zWUej_hX0C9L",
        "outputId": "a0c1934d-fd78-46d7-c150-7549ff1e9d3e"
      },
      "execution_count": null,
      "outputs": [
        {
          "output_type": "execute_result",
          "data": {
            "text/plain": [
              "False"
            ]
          },
          "metadata": {},
          "execution_count": 36
        }
      ]
    },
    {
      "cell_type": "code",
      "source": [
        "def is_leap(year):\n",
        "  leap = False\n",
        "\n",
        "  if year%4 == 0:\n",
        "    if year%100 == 0:\n",
        "      if year%400 == 0:\n",
        "        leap = True\n",
        "    else:\n",
        "      leap = True\n",
        "  return leap\n"
      ],
      "metadata": {
        "id": "acMzxGAY0ej0"
      },
      "execution_count": null,
      "outputs": []
    },
    {
      "cell_type": "code",
      "source": [
        "is_leap(1456)"
      ],
      "metadata": {
        "colab": {
          "base_uri": "https://localhost:8080/"
        },
        "id": "LIXkG3Wz2-Ht",
        "outputId": "b676fa55-c2d5-472e-e1c6-32cf4cbe58f5"
      },
      "execution_count": null,
      "outputs": [
        {
          "output_type": "execute_result",
          "data": {
            "text/plain": [
              "True"
            ]
          },
          "metadata": {},
          "execution_count": 38
        }
      ]
    },
    {
      "cell_type": "code",
      "source": [
        "year = int(input(\"inserisci l'anno: \"))\n",
        "leap = is_leap(year)\n",
        "\n",
        "if leap:\n",
        "  print(f\"Il {year} è bisestile\")\n",
        "else:\n",
        "  print(f\"Il {year} non è bisestile\")\n"
      ],
      "metadata": {
        "colab": {
          "base_uri": "https://localhost:8080/"
        },
        "id": "wdnLhLNr3RGu",
        "outputId": "1146874c-0deb-48a2-ab4e-c805f52516ff"
      },
      "execution_count": null,
      "outputs": [
        {
          "output_type": "stream",
          "name": "stdout",
          "text": [
            "inserisci l'anno: 2024\n",
            "Il 2024 è bisestile\n"
          ]
        }
      ]
    },
    {
      "cell_type": "markdown",
      "source": [
        "<mark> Esercizi sugli Anagrammi\n",
        "\n",
        "Definisci una funzione che, prendendo in input due parole, verifica se le due parole sono anagrammi.\n",
        "\n",
        "Due parole sono angrammi se sono composte esattamente dalle stesse lettere."
      ],
      "metadata": {
        "id": "nDNtF7Yb4FbK"
      }
    },
    {
      "cell_type": "code",
      "source": [
        "def is_anagramma(word1, word2):\n",
        "  word1 = word1.lower()\n",
        "  word2 = word2.lower()\n",
        "\n",
        "  if len(word1) != len(word2):\n",
        "    return False\n",
        "\n",
        "  for letter in word1:\n",
        "    for letter2 in word2:\n",
        "      if letter == letter2:\n",
        "        word2 = word2.replace(letter2, \"\", 1)\n",
        "        break\n",
        "  if word2 == \"\":\n",
        "    return True\n",
        "  else:\n",
        "    return False"
      ],
      "metadata": {
        "id": "jlrn9yd74Wuc"
      },
      "execution_count": null,
      "outputs": []
    },
    {
      "cell_type": "code",
      "source": [
        "is_anagramma(\"cane\", \"enca\")"
      ],
      "metadata": {
        "colab": {
          "base_uri": "https://localhost:8080/"
        },
        "id": "t83zhMAT5yOY",
        "outputId": "5512d4ae-16b4-451d-da79-075c7affdc35"
      },
      "execution_count": null,
      "outputs": [
        {
          "output_type": "execute_result",
          "data": {
            "text/plain": [
              "True"
            ]
          },
          "metadata": {},
          "execution_count": 46
        }
      ]
    },
    {
      "cell_type": "markdown",
      "source": [
        "In questo codice sopra viene utilizzato un ciclo annidato ovvero un ciclo for all'interno di un altro ciclo for.\n",
        "\n",
        "\n",
        "Il ciclo più esterno for letter in word1 itera su ogni lettera di word1.\n",
        "Il ciclo interno for letter2 in word2 itera su ogni lettera di word2 per ogni iterazione del ciclo esterno.\n",
        "All'interno del ciclo interno, viene verificato se letter (dal ciclo esterno) è uguale a letter2 (dal ciclo interno).\n",
        "Se viene trovata una corrispondenza, la lettera letter2 viene rimossa da word2 usando il metodo replace con il terzo argomento 1 che indica di sostituire solo la prima occorrenza. Questo è importante per gestire correttamente le lettere duplicate.\n",
        "Il break interrompe il ciclo interno non appena viene trovata una corrispondenza, per evitare di rimuovere più di una lettera corrispondente.\n",
        "\n",
        "\n",
        "Comunque in questo esercizio si potrebbe confrontare le versioni ordinate delle due parole o utilizzare un contatore per verificare la frequenza delle lettere.\n",
        "\n",
        "**<mark> Versione alternativa**"
      ],
      "metadata": {
        "id": "fvRRsoyo3hbF"
      }
    },
    {
      "cell_type": "code",
      "source": [
        "def is_anagramma(word1, word2):\n",
        "    # Convertiamo entrambe le parole in minuscolo per ignorare le differenze di maiuscole/minuscole\n",
        "    word1 = word1.lower()\n",
        "    word2 = word2.lower()\n",
        "\n",
        "    # Se le lunghezze sono diverse, non possono essere anagrammi\n",
        "    if len(word1) != len(word2):\n",
        "        return False\n",
        "\n",
        "    # Ordiniamo entrambe le parole\n",
        "    sorted_word1 = sorted(word1)\n",
        "    sorted_word2 = sorted(word2)\n",
        "\n",
        "    # Confrontiamo le parole ordinate\n",
        "    return sorted_word1 == sorted_word2\n",
        "\n",
        "# Esempi di utilizzo\n",
        "print(is_anagramma(\"strani\", \"nastri\"))  # Output: True\n",
        "print(is_anagramma(\"carino\", \"canori\"))  # Output: True\n",
        "print(is_anagramma(\"senatori\", \"estranio\"))  # Output: True\n",
        "print(is_anagramma(\"ciao\", \"miao\"))  # Output: False\n",
        "\n",
        "\n",
        "\n",
        "\n",
        "\n"
      ],
      "metadata": {
        "id": "o9BIRLNp5gpr"
      },
      "execution_count": null,
      "outputs": []
    },
    {
      "cell_type": "markdown",
      "source": [
        "<mark> Validazione di indirizzi email\n",
        "\n",
        "Realizziamo una funzione che, prendendo in input una lista di indirizzi email, ritorni una nuova lista degli indirizzi email validi ordinati alfabeticamente.\n",
        "\n",
        "Un indirizzo email è valido se:\n",
        "\n",
        "-ha il formato nomeutente@dominio.estensione.\n",
        "\n",
        "-Il nome utente contiene soltanto lettere, numeri, lineette (-) e trattini bassi (_)\n",
        "\n",
        "-Il dominio contiene soltanto lettere e numeri.\n",
        "\n",
        "-La lunghezza massima dell'estensione è 3 caratteri."
      ],
      "metadata": {
        "id": "O_Dv-XLH9G_Q"
      }
    },
    {
      "cell_type": "code",
      "source": [
        "def validate_email(email_list):\n",
        "  valid_email = []\n",
        "\n",
        "  for email in email_list:\n",
        "    if \"@\" in email and \".\" in email:\n",
        "      name, domain = email.split(\"@\")\n",
        "      extension = domain.split(\".\")\n",
        "\n",
        "      if name.isalnum() and extension[0].isalpha() and len(extension[1]) <= 3:\n",
        "        valid_email.append(email)\n",
        "  valid_email.sort()\n",
        "  return valid_email"
      ],
      "metadata": {
        "id": "wWKwWiCf9ygk"
      },
      "execution_count": null,
      "outputs": []
    },
    {
      "cell_type": "code",
      "source": [
        "email_list =  [\"adrian25@gmail.com\", \"drona8956gmail.com\", \"martina_25@gmai.torca\", \"Marioossi98@gmail.com\", \"Zebra87@yahoo.it\"]\n",
        "\n",
        "validate_email(email_list)"
      ],
      "metadata": {
        "colab": {
          "base_uri": "https://localhost:8080/"
        },
        "id": "hRosUdDO_C7R",
        "outputId": "bfb67473-d80d-4393-b097-73584c14364c"
      },
      "execution_count": null,
      "outputs": [
        {
          "output_type": "execute_result",
          "data": {
            "text/plain": [
              "['Marioossi98@gmail.com', 'Zebra87@yahoo.it', 'adrian25@gmail.com']"
            ]
          },
          "metadata": {},
          "execution_count": 51
        }
      ]
    },
    {
      "cell_type": "code",
      "source": [
        "#altro metodo\n",
        "#Questa è la prima funzione che ci permette di vedere se l'email è valida\n",
        "\n",
        "def validate_email(email):\n",
        "  parts = email.split(\"@\")\n",
        "\n",
        "  if lent(parts)!=2:\n",
        "    return False\n",
        "\n",
        "\n",
        "  name, parts = parts\n",
        "\n",
        "  parts = parts.split(\".\")\n",
        "\n",
        "  if len(parts)!=2:\n",
        "    return False\n",
        "\n",
        "    domain, ext = parts\n",
        "\n",
        "\n",
        "  if not name.replace(\"-\",\"\").replace(\"_\",\"\").isalnum():\n",
        "    return False\n",
        "\n",
        "  if not domain.isalnum():\n",
        "    return False\n",
        "\n",
        "  if len(ext)> 3:\n",
        "    return False\n",
        "\n",
        "\n",
        "  return True"
      ],
      "metadata": {
        "id": "V-rP-PWZBJ2W"
      },
      "execution_count": null,
      "outputs": []
    }
  ]
}